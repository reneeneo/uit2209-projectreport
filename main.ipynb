{
 "cells": [
  {
   "cell_type": "code",
   "execution_count": 27,
   "metadata": {},
   "outputs": [],
   "source": [
    "import pandas as pd\n",
    "import numpy as np\n",
    "import gensim\n",
    "import string\n",
    "import os\n",
    "import random\n",
    "import plotly.express as px\n",
    "from sklearn.manifold import TSNE"
   ]
  },
  {
   "cell_type": "code",
   "execution_count": null,
   "metadata": {},
   "outputs": [],
   "source": [
    "# Initially planned to use FastText pre-trained word embedding model, but did not in the end. \n",
    "# The below is the loading of the pre-trained model. \n",
    "\n",
    "import io\n",
    "\n",
    "def load_vectors(fname):\n",
    "    fin = io.open(fname, 'r', encoding='utf-8', newline='\\n', errors='ignore')\n",
    "    n, d = map(int, fin.readline().split())\n",
    "    data = {}\n",
    "    for i,line in enumerate(fin):\n",
    "        if i > 10000:\n",
    "            break\n",
    "        tokens = line.rstrip().split(' ')\n",
    "        data[tokens[0]] = list(map(float, tokens[1:]))\n",
    "    return data\n",
    "    \n",
    "vectors = load_vectors(\"./crawl-300d-2M-subword/crawl-300d-2M-subword.vec\")"
   ]
  },
  {
   "cell_type": "code",
   "execution_count": 13,
   "metadata": {},
   "outputs": [],
   "source": [
    "# Formatting the urban dictionary dataset, changing it from csv to a format that can be read by Gensim. \n",
    "\n",
    "urban_df = []\n",
    "for root, dirs, files in os.walk(\".\", topdown=False):\n",
    "    for f in files:\n",
    "        if \"urban\" in f:\n",
    "            df = pd.read_csv(f\"{root}/{f}\",header=None)\n",
    "            urban_df.append(df)\n",
    "urban_df = pd.concat(urban_df)"
   ]
  },
  {
   "cell_type": "code",
   "execution_count": 14,
   "metadata": {},
   "outputs": [
    {
     "data": {
      "text/html": [
       "<div>\n",
       "<style scoped>\n",
       "    .dataframe tbody tr th:only-of-type {\n",
       "        vertical-align: middle;\n",
       "    }\n",
       "\n",
       "    .dataframe tbody tr th {\n",
       "        vertical-align: top;\n",
       "    }\n",
       "\n",
       "    .dataframe thead th {\n",
       "        text-align: right;\n",
       "    }\n",
       "</style>\n",
       "<table border=\"1\" class=\"dataframe\">\n",
       "  <thead>\n",
       "    <tr style=\"text-align: right;\">\n",
       "      <th></th>\n",
       "      <th>0</th>\n",
       "      <th>1</th>\n",
       "      <th>2</th>\n",
       "      <th>3</th>\n",
       "      <th>4</th>\n",
       "      <th>5</th>\n",
       "    </tr>\n",
       "  </thead>\n",
       "  <tbody>\n",
       "    <tr>\n",
       "      <th>0</th>\n",
       "      <td>A</td>\n",
       "      <td>https://www.urbandictionary.com/browse.php?cha...</td>\n",
       "      <td>https://www.urbandictionary.com/define.php?ter...</td>\n",
       "      <td>allerd</td>\n",
       "      <td>Allerd  is a man who is  sexy  with a hot  bro...</td>\n",
       "      <td>Allerd  is an  amazing   human being .</td>\n",
       "    </tr>\n",
       "    <tr>\n",
       "      <th>1</th>\n",
       "      <td>A</td>\n",
       "      <td>https://www.urbandictionary.com/browse.php?cha...</td>\n",
       "      <td>https://www.urbandictionary.com/define.php?ter...</td>\n",
       "      <td>Anti Fre</td>\n",
       "      <td>Archaic British-English english slang (Circa  ...</td>\n",
       "      <td>Howard: I've just inserted a squirrel up  my a...</td>\n",
       "    </tr>\n",
       "    <tr>\n",
       "      <th>2</th>\n",
       "      <td>A</td>\n",
       "      <td>https://www.urbandictionary.com/browse.php?cha...</td>\n",
       "      <td>https://www.urbandictionary.com/define.php?ter...</td>\n",
       "      <td>Anti Friend</td>\n",
       "      <td>When one of your friend is being  a jerk  and ...</td>\n",
       "      <td>\" Little Jimmy  is always an Anti Friend.\"\\r W...</td>\n",
       "    </tr>\n",
       "    <tr>\n",
       "      <th>3</th>\n",
       "      <td>A</td>\n",
       "      <td>https://www.urbandictionary.com/browse.php?cha...</td>\n",
       "      <td>https://www.urbandictionary.com/define.php?ter...</td>\n",
       "      <td>Anti Fur-Furry Peace Agreement Day</td>\n",
       "      <td>On  December 21st , participants of  Anti-Fur-...</td>\n",
       "      <td>Rainb0wF0x: Its Anti Fur-Furry Peace Agreement...</td>\n",
       "    </tr>\n",
       "    <tr>\n",
       "      <th>4</th>\n",
       "      <td>A</td>\n",
       "      <td>https://www.urbandictionary.com/browse.php?cha...</td>\n",
       "      <td>https://www.urbandictionary.com/define.php?ter...</td>\n",
       "      <td>Anti furry day</td>\n",
       "      <td>Anti Furry day  is on 2/ 21 . You are allowed ...</td>\n",
       "      <td>The  furry  was  mad  because it was  anti fur...</td>\n",
       "    </tr>\n",
       "    <tr>\n",
       "      <th>...</th>\n",
       "      <td>...</td>\n",
       "      <td>...</td>\n",
       "      <td>...</td>\n",
       "      <td>...</td>\n",
       "      <td>...</td>\n",
       "      <td>...</td>\n",
       "    </tr>\n",
       "    <tr>\n",
       "      <th>2281492</th>\n",
       "      <td>Z</td>\n",
       "      <td>https://www.urbandictionary.com/browse.php?cha...</td>\n",
       "      <td>https://www.urbandictionary.com/define.php?ter...</td>\n",
       "      <td>Zin zin</td>\n",
       "      <td>Something you say  whenever  you feel like  re...</td>\n",
       "      <td>Joe  offers   Rob  a line, Rob replys \" zin zin \"</td>\n",
       "    </tr>\n",
       "    <tr>\n",
       "      <th>2281493</th>\n",
       "      <td>Z</td>\n",
       "      <td>https://www.urbandictionary.com/browse.php?cha...</td>\n",
       "      <td>https://www.urbandictionary.com/define.php?ter...</td>\n",
       "      <td>Zin Xhao</td>\n",
       "      <td>La persona mas facherita en el universo , su  ...</td>\n",
       "      <td>Tipo  1: Te pajeaste pensando en Zin Xhao ?\\r ...</td>\n",
       "    </tr>\n",
       "    <tr>\n",
       "      <th>2281494</th>\n",
       "      <td>Z</td>\n",
       "      <td>https://www.urbandictionary.com/browse.php?cha...</td>\n",
       "      <td>https://www.urbandictionary.com/define.php?ter...</td>\n",
       "      <td>zin chick</td>\n",
       "      <td>a woman who hangs out in a bar drinking nothin...</td>\n",
       "      <td>...see that  pink   stuff  in her  glass ? She...</td>\n",
       "    </tr>\n",
       "    <tr>\n",
       "      <th>2281495</th>\n",
       "      <td>Z</td>\n",
       "      <td>https://www.urbandictionary.com/browse.php?cha...</td>\n",
       "      <td>https://www.urbandictionary.com/define.php?ter...</td>\n",
       "      <td>zinadeen</td>\n",
       "      <td>zinadeen is a little fellow, many say he often...</td>\n",
       "      <td>“ man went out with zinadeen last night,  bare...</td>\n",
       "    </tr>\n",
       "    <tr>\n",
       "      <th>2281496</th>\n",
       "      <td>Z</td>\n",
       "      <td>https://www.urbandictionary.com/browse.php?cha...</td>\n",
       "      <td>https://www.urbandictionary.com/define.php?ter...</td>\n",
       "      <td>ZDM</td>\n",
       "      <td>Short for \"Zoom  Direct Message \" . To chat an...</td>\n",
       "      <td>Jada   ZDM'd  me during the entire lecture and...</td>\n",
       "    </tr>\n",
       "  </tbody>\n",
       "</table>\n",
       "<p>2281497 rows × 6 columns</p>\n",
       "</div>"
      ],
      "text/plain": [
       "         0                                                  1  \\\n",
       "0        A  https://www.urbandictionary.com/browse.php?cha...   \n",
       "1        A  https://www.urbandictionary.com/browse.php?cha...   \n",
       "2        A  https://www.urbandictionary.com/browse.php?cha...   \n",
       "3        A  https://www.urbandictionary.com/browse.php?cha...   \n",
       "4        A  https://www.urbandictionary.com/browse.php?cha...   \n",
       "...     ..                                                ...   \n",
       "2281492  Z  https://www.urbandictionary.com/browse.php?cha...   \n",
       "2281493  Z  https://www.urbandictionary.com/browse.php?cha...   \n",
       "2281494  Z  https://www.urbandictionary.com/browse.php?cha...   \n",
       "2281495  Z  https://www.urbandictionary.com/browse.php?cha...   \n",
       "2281496  Z  https://www.urbandictionary.com/browse.php?cha...   \n",
       "\n",
       "                                                         2  \\\n",
       "0        https://www.urbandictionary.com/define.php?ter...   \n",
       "1        https://www.urbandictionary.com/define.php?ter...   \n",
       "2        https://www.urbandictionary.com/define.php?ter...   \n",
       "3        https://www.urbandictionary.com/define.php?ter...   \n",
       "4        https://www.urbandictionary.com/define.php?ter...   \n",
       "...                                                    ...   \n",
       "2281492  https://www.urbandictionary.com/define.php?ter...   \n",
       "2281493  https://www.urbandictionary.com/define.php?ter...   \n",
       "2281494  https://www.urbandictionary.com/define.php?ter...   \n",
       "2281495  https://www.urbandictionary.com/define.php?ter...   \n",
       "2281496  https://www.urbandictionary.com/define.php?ter...   \n",
       "\n",
       "                                          3  \\\n",
       "0                                    allerd   \n",
       "1                                  Anti Fre   \n",
       "2                               Anti Friend   \n",
       "3        Anti Fur-Furry Peace Agreement Day   \n",
       "4                            Anti furry day   \n",
       "...                                     ...   \n",
       "2281492                             Zin zin   \n",
       "2281493                            Zin Xhao   \n",
       "2281494                           zin chick   \n",
       "2281495                            zinadeen   \n",
       "2281496                                 ZDM   \n",
       "\n",
       "                                                         4  \\\n",
       "0        Allerd  is a man who is  sexy  with a hot  bro...   \n",
       "1        Archaic British-English english slang (Circa  ...   \n",
       "2        When one of your friend is being  a jerk  and ...   \n",
       "3        On  December 21st , participants of  Anti-Fur-...   \n",
       "4        Anti Furry day  is on 2/ 21 . You are allowed ...   \n",
       "...                                                    ...   \n",
       "2281492  Something you say  whenever  you feel like  re...   \n",
       "2281493  La persona mas facherita en el universo , su  ...   \n",
       "2281494  a woman who hangs out in a bar drinking nothin...   \n",
       "2281495  zinadeen is a little fellow, many say he often...   \n",
       "2281496  Short for \"Zoom  Direct Message \" . To chat an...   \n",
       "\n",
       "                                                         5  \n",
       "0                   Allerd  is an  amazing   human being .  \n",
       "1        Howard: I've just inserted a squirrel up  my a...  \n",
       "2        \" Little Jimmy  is always an Anti Friend.\"\\r W...  \n",
       "3        Rainb0wF0x: Its Anti Fur-Furry Peace Agreement...  \n",
       "4        The  furry  was  mad  because it was  anti fur...  \n",
       "...                                                    ...  \n",
       "2281492  Joe  offers   Rob  a line, Rob replys \" zin zin \"  \n",
       "2281493  Tipo  1: Te pajeaste pensando en Zin Xhao ?\\r ...  \n",
       "2281494  ...see that  pink   stuff  in her  glass ? She...  \n",
       "2281495  “ man went out with zinadeen last night,  bare...  \n",
       "2281496  Jada   ZDM'd  me during the entire lecture and...  \n",
       "\n",
       "[2281497 rows x 6 columns]"
      ]
     },
     "execution_count": 14,
     "metadata": {},
     "output_type": "execute_result"
    }
   ],
   "source": [
    "urban_df = urban_df.sort_values(0)\n",
    "urban_df = urban_df.reset_index(drop=True)\n",
    "urban_df"
   ]
  },
  {
   "cell_type": "code",
   "execution_count": 17,
   "metadata": {},
   "outputs": [
    {
     "data": {
      "text/html": [
       "<div>\n",
       "<style scoped>\n",
       "    .dataframe tbody tr th:only-of-type {\n",
       "        vertical-align: middle;\n",
       "    }\n",
       "\n",
       "    .dataframe tbody tr th {\n",
       "        vertical-align: top;\n",
       "    }\n",
       "\n",
       "    .dataframe thead th {\n",
       "        text-align: right;\n",
       "    }\n",
       "</style>\n",
       "<table border=\"1\" class=\"dataframe\">\n",
       "  <thead>\n",
       "    <tr style=\"text-align: right;\">\n",
       "      <th></th>\n",
       "      <th>0</th>\n",
       "      <th>1</th>\n",
       "      <th>2</th>\n",
       "      <th>3</th>\n",
       "      <th>4</th>\n",
       "      <th>5</th>\n",
       "    </tr>\n",
       "  </thead>\n",
       "  <tbody>\n",
       "    <tr>\n",
       "      <th>1516542</th>\n",
       "      <td>P</td>\n",
       "      <td>https://www.urbandictionary.com/browse.php?cha...</td>\n",
       "      <td>https://www.urbandictionary.com/define.php?ter...</td>\n",
       "      <td>Pregive</td>\n",
       "      <td>To  give  someone something that you were  sup...</td>\n",
       "      <td>Im going to  pregive  him an xbox for his birt...</td>\n",
       "    </tr>\n",
       "    <tr>\n",
       "      <th>1525204</th>\n",
       "      <td>P</td>\n",
       "      <td>https://www.urbandictionary.com/browse.php?cha...</td>\n",
       "      <td>https://www.urbandictionary.com/define.php?ter...</td>\n",
       "      <td>prostage</td>\n",
       "      <td>A  prostitute   who is  your  hostage .</td>\n",
       "      <td>This  boot  would be  big enough  to  fit  a p...</td>\n",
       "    </tr>\n",
       "    <tr>\n",
       "      <th>2072219</th>\n",
       "      <td>T</td>\n",
       "      <td>https://www.urbandictionary.com/browse.php?cha...</td>\n",
       "      <td>https://www.urbandictionary.com/define.php?ter...</td>\n",
       "      <td>Tshitzami</td>\n",
       "      <td>(Shitz'on'me)\\r   Massive Shit  wave sometimes...</td>\n",
       "      <td>I got hit by a Tshitzami today at work \\r   Eq...</td>\n",
       "    </tr>\n",
       "    <tr>\n",
       "      <th>1292155</th>\n",
       "      <td>M</td>\n",
       "      <td>https://www.urbandictionary.com/browse.php?cha...</td>\n",
       "      <td>https://www.urbandictionary.com/define.php?ter...</td>\n",
       "      <td>masil</td>\n",
       "      <td>mas·il (mey-zuhl)\\r   Originating in  Prince E...</td>\n",
       "      <td>Mike Hey  Dave  want to  swing by  the  restau...</td>\n",
       "    </tr>\n",
       "    <tr>\n",
       "      <th>1546761</th>\n",
       "      <td>P</td>\n",
       "      <td>https://www.urbandictionary.com/browse.php?cha...</td>\n",
       "      <td>https://www.urbandictionary.com/define.php?ter...</td>\n",
       "      <td>Pattybear</td>\n",
       "      <td>A cute  guy that looks gay but isn't. He resem...</td>\n",
       "      <td>Im not sure  if thats a Pattybear or  a gay   ...</td>\n",
       "    </tr>\n",
       "    <tr>\n",
       "      <th>1315716</th>\n",
       "      <td>M</td>\n",
       "      <td>https://www.urbandictionary.com/browse.php?cha...</td>\n",
       "      <td>https://www.urbandictionary.com/define.php?ter...</td>\n",
       "      <td>MPIB</td>\n",
       "      <td>My  piano  is  brown .</td>\n",
       "      <td>Man My  Piano  is brown\\r Woman  moans \\r Man ...</td>\n",
       "    </tr>\n",
       "    <tr>\n",
       "      <th>1361949</th>\n",
       "      <td>M</td>\n",
       "      <td>https://www.urbandictionary.com/browse.php?cha...</td>\n",
       "      <td>https://www.urbandictionary.com/define.php?ter...</td>\n",
       "      <td>Moktadir</td>\n",
       "      <td>A person who is very attractive a person who c...</td>\n",
       "      <td>You are  as  hot  as Moktadir</td>\n",
       "    </tr>\n",
       "    <tr>\n",
       "      <th>1213643</th>\n",
       "      <td>L</td>\n",
       "      <td>https://www.urbandictionary.com/browse.php?cha...</td>\n",
       "      <td>https://www.urbandictionary.com/define.php?ter...</td>\n",
       "      <td>Lathiefa</td>\n",
       "      <td>A stupid   girl   named  Lathiefa</td>\n",
       "      <td>You know  Lathiefa I dont like her</td>\n",
       "    </tr>\n",
       "    <tr>\n",
       "      <th>730287</th>\n",
       "      <td>F</td>\n",
       "      <td>https://www.urbandictionary.com/browse.php?cha...</td>\n",
       "      <td>https://www.urbandictionary.com/define.php?ter...</td>\n",
       "      <td>fauxhip</td>\n",
       "      <td>The act of rocking out to trendy music while  ...</td>\n",
       "      <td>Kyle was  fauxhipping  to the  Yeah Yeah Yeahs...</td>\n",
       "    </tr>\n",
       "    <tr>\n",
       "      <th>1864805</th>\n",
       "      <td>S</td>\n",
       "      <td>https://www.urbandictionary.com/browse.php?cha...</td>\n",
       "      <td>https://www.urbandictionary.com/define.php?ter...</td>\n",
       "      <td>Stripostitute</td>\n",
       "      <td>Derived from the word Stripper and Prostitute,...</td>\n",
       "      <td>Wow did you see how that  stripostitute   work...</td>\n",
       "    </tr>\n",
       "    <tr>\n",
       "      <th>2077683</th>\n",
       "      <td>T</td>\n",
       "      <td>https://www.urbandictionary.com/browse.php?cha...</td>\n",
       "      <td>https://www.urbandictionary.com/define.php?ter...</td>\n",
       "      <td>ThePrince</td>\n",
       "      <td>ThePrince  owns  at all games,better than teh_...</td>\n",
       "      <td>grant  is ThePrince and he is one of the best ...</td>\n",
       "    </tr>\n",
       "    <tr>\n",
       "      <th>505267</th>\n",
       "      <td>D</td>\n",
       "      <td>https://www.urbandictionary.com/browse.php?cha...</td>\n",
       "      <td>https://www.urbandictionary.com/define.php?ter...</td>\n",
       "      <td>dooism</td>\n",
       "      <td>When a person proclaims a  statement  as  trut...</td>\n",
       "      <td>A says the  Brisbane Broncos  coach is  Wayne ...</td>\n",
       "    </tr>\n",
       "    <tr>\n",
       "      <th>1562273</th>\n",
       "      <td>P</td>\n",
       "      <td>https://www.urbandictionary.com/browse.php?cha...</td>\n",
       "      <td>https://www.urbandictionary.com/define.php?ter...</td>\n",
       "      <td>Peeved</td>\n",
       "      <td>1. Annoyed\\r 2.  Irritated     ( Peeve : to ge...</td>\n",
       "      <td>Cyrenne was a little  pissed  and rather  peev...</td>\n",
       "    </tr>\n",
       "    <tr>\n",
       "      <th>897361</th>\n",
       "      <td>H</td>\n",
       "      <td>https://www.urbandictionary.com/browse.php?cha...</td>\n",
       "      <td>https://www.urbandictionary.com/define.php?ter...</td>\n",
       "      <td>harston</td>\n",
       "      <td>Person who will give to others even to the  de...</td>\n",
       "      <td>When the  teller  opened another line that  Ha...</td>\n",
       "    </tr>\n",
       "    <tr>\n",
       "      <th>1747052</th>\n",
       "      <td>S</td>\n",
       "      <td>https://www.urbandictionary.com/browse.php?cha...</td>\n",
       "      <td>https://www.urbandictionary.com/define.php?ter...</td>\n",
       "      <td>Sandgate</td>\n",
       "      <td>a) a small village next to  folkestone .\\r has...</td>\n",
       "      <td>person 1 man this place is  lifeless  person 2...</td>\n",
       "    </tr>\n",
       "    <tr>\n",
       "      <th>1983674</th>\n",
       "      <td>T</td>\n",
       "      <td>https://www.urbandictionary.com/browse.php?cha...</td>\n",
       "      <td>https://www.urbandictionary.com/define.php?ter...</td>\n",
       "      <td>Talmond</td>\n",
       "      <td>The leader of the Yogi bear clan and is a sexy...</td>\n",
       "      <td>Wow that guy is a  beast ass   bear dick  You ...</td>\n",
       "    </tr>\n",
       "    <tr>\n",
       "      <th>122091</th>\n",
       "      <td>B</td>\n",
       "      <td>https://www.urbandictionary.com/browse.php?cha...</td>\n",
       "      <td>https://www.urbandictionary.com/define.php?ter...</td>\n",
       "      <td>Burkanigga</td>\n",
       "      <td>this is a white person who loves saying the wo...</td>\n",
       "      <td>Black guy look at that white boy hes prolly a ...</td>\n",
       "    </tr>\n",
       "    <tr>\n",
       "      <th>1845854</th>\n",
       "      <td>S</td>\n",
       "      <td>https://www.urbandictionary.com/browse.php?cha...</td>\n",
       "      <td>https://www.urbandictionary.com/define.php?ter...</td>\n",
       "      <td>surki</td>\n",
       "      <td>Surki  is a lovely guy who will try to cheer y...</td>\n",
       "      <td>Hey  surki  how are you</td>\n",
       "    </tr>\n",
       "    <tr>\n",
       "      <th>2072048</th>\n",
       "      <td>T</td>\n",
       "      <td>https://www.urbandictionary.com/browse.php?cha...</td>\n",
       "      <td>https://www.urbandictionary.com/define.php?ter...</td>\n",
       "      <td>Tseegii</td>\n",
       "      <td>tseegii  is  mongolian   curse word</td>\n",
       "      <td>chich  tseegi  shig  zan gargalaadaa tseegii  ...</td>\n",
       "    </tr>\n",
       "    <tr>\n",
       "      <th>1775032</th>\n",
       "      <td>S</td>\n",
       "      <td>https://www.urbandictionary.com/browse.php?cha...</td>\n",
       "      <td>https://www.urbandictionary.com/define.php?ter...</td>\n",
       "      <td>SCROGGING</td>\n",
       "      <td>To Bone ...  i.e  to  have sex ... fuck... etc</td>\n",
       "      <td>Brian  and  Jessica  were SCROGGING  all night</td>\n",
       "    </tr>\n",
       "  </tbody>\n",
       "</table>\n",
       "</div>"
      ],
      "text/plain": [
       "         0                                                  1  \\\n",
       "1516542  P  https://www.urbandictionary.com/browse.php?cha...   \n",
       "1525204  P  https://www.urbandictionary.com/browse.php?cha...   \n",
       "2072219  T  https://www.urbandictionary.com/browse.php?cha...   \n",
       "1292155  M  https://www.urbandictionary.com/browse.php?cha...   \n",
       "1546761  P  https://www.urbandictionary.com/browse.php?cha...   \n",
       "1315716  M  https://www.urbandictionary.com/browse.php?cha...   \n",
       "1361949  M  https://www.urbandictionary.com/browse.php?cha...   \n",
       "1213643  L  https://www.urbandictionary.com/browse.php?cha...   \n",
       "730287   F  https://www.urbandictionary.com/browse.php?cha...   \n",
       "1864805  S  https://www.urbandictionary.com/browse.php?cha...   \n",
       "2077683  T  https://www.urbandictionary.com/browse.php?cha...   \n",
       "505267   D  https://www.urbandictionary.com/browse.php?cha...   \n",
       "1562273  P  https://www.urbandictionary.com/browse.php?cha...   \n",
       "897361   H  https://www.urbandictionary.com/browse.php?cha...   \n",
       "1747052  S  https://www.urbandictionary.com/browse.php?cha...   \n",
       "1983674  T  https://www.urbandictionary.com/browse.php?cha...   \n",
       "122091   B  https://www.urbandictionary.com/browse.php?cha...   \n",
       "1845854  S  https://www.urbandictionary.com/browse.php?cha...   \n",
       "2072048  T  https://www.urbandictionary.com/browse.php?cha...   \n",
       "1775032  S  https://www.urbandictionary.com/browse.php?cha...   \n",
       "\n",
       "                                                         2              3  \\\n",
       "1516542  https://www.urbandictionary.com/define.php?ter...        Pregive   \n",
       "1525204  https://www.urbandictionary.com/define.php?ter...       prostage   \n",
       "2072219  https://www.urbandictionary.com/define.php?ter...      Tshitzami   \n",
       "1292155  https://www.urbandictionary.com/define.php?ter...          masil   \n",
       "1546761  https://www.urbandictionary.com/define.php?ter...      Pattybear   \n",
       "1315716  https://www.urbandictionary.com/define.php?ter...           MPIB   \n",
       "1361949  https://www.urbandictionary.com/define.php?ter...       Moktadir   \n",
       "1213643  https://www.urbandictionary.com/define.php?ter...       Lathiefa   \n",
       "730287   https://www.urbandictionary.com/define.php?ter...        fauxhip   \n",
       "1864805  https://www.urbandictionary.com/define.php?ter...  Stripostitute   \n",
       "2077683  https://www.urbandictionary.com/define.php?ter...      ThePrince   \n",
       "505267   https://www.urbandictionary.com/define.php?ter...         dooism   \n",
       "1562273  https://www.urbandictionary.com/define.php?ter...         Peeved   \n",
       "897361   https://www.urbandictionary.com/define.php?ter...        harston   \n",
       "1747052  https://www.urbandictionary.com/define.php?ter...       Sandgate   \n",
       "1983674  https://www.urbandictionary.com/define.php?ter...        Talmond   \n",
       "122091   https://www.urbandictionary.com/define.php?ter...     Burkanigga   \n",
       "1845854  https://www.urbandictionary.com/define.php?ter...          surki   \n",
       "2072048  https://www.urbandictionary.com/define.php?ter...        Tseegii   \n",
       "1775032  https://www.urbandictionary.com/define.php?ter...      SCROGGING   \n",
       "\n",
       "                                                         4  \\\n",
       "1516542  To  give  someone something that you were  sup...   \n",
       "1525204            A  prostitute   who is  your  hostage .   \n",
       "2072219  (Shitz'on'me)\\r   Massive Shit  wave sometimes...   \n",
       "1292155  mas·il (mey-zuhl)\\r   Originating in  Prince E...   \n",
       "1546761  A cute  guy that looks gay but isn't. He resem...   \n",
       "1315716                             My  piano  is  brown .   \n",
       "1361949  A person who is very attractive a person who c...   \n",
       "1213643                  A stupid   girl   named  Lathiefa   \n",
       "730287   The act of rocking out to trendy music while  ...   \n",
       "1864805  Derived from the word Stripper and Prostitute,...   \n",
       "2077683  ThePrince  owns  at all games,better than teh_...   \n",
       "505267   When a person proclaims a  statement  as  trut...   \n",
       "1562273  1. Annoyed\\r 2.  Irritated     ( Peeve : to ge...   \n",
       "897361   Person who will give to others even to the  de...   \n",
       "1747052  a) a small village next to  folkestone .\\r has...   \n",
       "1983674  The leader of the Yogi bear clan and is a sexy...   \n",
       "122091   this is a white person who loves saying the wo...   \n",
       "1845854  Surki  is a lovely guy who will try to cheer y...   \n",
       "2072048                tseegii  is  mongolian   curse word   \n",
       "1775032     To Bone ...  i.e  to  have sex ... fuck... etc   \n",
       "\n",
       "                                                         5  \n",
       "1516542  Im going to  pregive  him an xbox for his birt...  \n",
       "1525204  This  boot  would be  big enough  to  fit  a p...  \n",
       "2072219  I got hit by a Tshitzami today at work \\r   Eq...  \n",
       "1292155  Mike Hey  Dave  want to  swing by  the  restau...  \n",
       "1546761  Im not sure  if thats a Pattybear or  a gay   ...  \n",
       "1315716  Man My  Piano  is brown\\r Woman  moans \\r Man ...  \n",
       "1361949                      You are  as  hot  as Moktadir  \n",
       "1213643                 You know  Lathiefa I dont like her  \n",
       "730287   Kyle was  fauxhipping  to the  Yeah Yeah Yeahs...  \n",
       "1864805  Wow did you see how that  stripostitute   work...  \n",
       "2077683  grant  is ThePrince and he is one of the best ...  \n",
       "505267   A says the  Brisbane Broncos  coach is  Wayne ...  \n",
       "1562273  Cyrenne was a little  pissed  and rather  peev...  \n",
       "897361   When the  teller  opened another line that  Ha...  \n",
       "1747052  person 1 man this place is  lifeless  person 2...  \n",
       "1983674  Wow that guy is a  beast ass   bear dick  You ...  \n",
       "122091   Black guy look at that white boy hes prolly a ...  \n",
       "1845854                           Hey  surki  how are you   \n",
       "2072048  chich  tseegi  shig  zan gargalaadaa tseegii  ...  \n",
       "1775032    Brian  and  Jessica  were SCROGGING  all night   "
      ]
     },
     "execution_count": 17,
     "metadata": {},
     "output_type": "execute_result"
    }
   ],
   "source": [
    "# Cleaning up the data: removing terms without example sentences, remove all punctuation in example sentences. \n",
    "\n",
    "word_df = urban_df[~urban_df[3].isna()]\n",
    "word_df = word_df[word_df[3].apply(lambda x: True if len(x.split())==1 else False)]\n",
    "word_df = word_df[~word_df[5].isna()]\n",
    "word_df = word_df[word_df[3].apply(has_punc)]\n",
    "# word_df.to_csv(\"filter.csv\",index=False)\n",
    "urban_words = word_df[3].tolist()\n",
    "word_df[5] = word_df[5].apply(lambda x: x.replace(\"\\n\",\" \"))\n",
    "word_df[5] = word_df[5].apply(lambda x:x.translate(str.maketrans('', '', string.punctuation)))\n",
    "word_df.sample(20)"
   ]
  },
  {
   "cell_type": "code",
   "execution_count": 18,
   "metadata": {},
   "outputs": [],
   "source": [
    "word_df.to_csv(\"filtered.csv\",index=False)"
   ]
  },
  {
   "cell_type": "code",
   "execution_count": 22,
   "metadata": {},
   "outputs": [],
   "source": [
    "# Importing Word2Vec algorithm from Gensim to train new model. \n",
    "\n",
    "from gensim.test.utils import common_texts\n",
    "from gensim.models import Word2Vec\n",
    "\n",
    "sentences = [i.split() for i in urban_df[~urban_df[5].isna()][5].tolist()]\n",
    "model = Word2Vec(sentences=sentences, vector_size=100, window=5, min_count=1, workers=4)\n",
    "model.save(\"word2vec2.model\")"
   ]
  },
  {
   "cell_type": "code",
   "execution_count": 23,
   "metadata": {},
   "outputs": [],
   "source": [
    "# Creating training set for model \n",
    "\n",
    "word_corpus = [j for i in sentences for j in i]\n",
    "counter = {}\n",
    "for w in word_corpus:\n",
    "    counter[w.lower()] = counter.get(w.lower(),0) + 1\n",
    "counter = pd.Series(counter).sort_values(ascending=False)"
   ]
  },
  {
   "cell_type": "code",
   "execution_count": 25,
   "metadata": {},
   "outputs": [],
   "source": [
    "# most_common = []\n",
    "# n = 0\n",
    "# for i in counter.tolist():\n",
    "#     if i in urban_words:\n",
    "#         most_common.append(i)\n",
    "#         n += 1\n",
    "#     if n > 100:\n",
    "#         break"
   ]
  },
  {
   "cell_type": "code",
   "execution_count": null,
   "metadata": {},
   "outputs": [],
   "source": [
    "model = Word2Vec.load(\"word2vec2.model\")"
   ]
  },
  {
   "cell_type": "code",
   "execution_count": null,
   "metadata": {},
   "outputs": [],
   "source": []
  },
  {
   "cell_type": "code",
   "execution_count": 28,
   "metadata": {},
   "outputs": [
    {
     "data": {
      "application/vnd.plotly.v1+json": {
       "config": {
        "plotlyServerURL": "https://plot.ly"
       },
       "data": [
        {
         "customdata": [
          [
           "Gwyenth"
          ],
          [
           "hekhok"
          ],
          [
           "caulkner"
          ],
          [
           "Elrik"
          ],
          [
           "holness"
          ],
          [
           "Cigz"
          ],
          [
           "poligious"
          ],
          [
           "Jubian"
          ],
          [
           "Lxnden"
          ],
          [
           "Rayah"
          ],
          [
           "vikhil"
          ],
          [
           "Bernardeschi"
          ],
          [
           "Vcamp"
          ],
          [
           "Smithism"
          ],
          [
           "nasaremo"
          ],
          [
           "yahh"
          ],
          [
           "depre"
          ],
          [
           "ceyon"
          ],
          [
           "dillsmack"
          ],
          [
           "Wiiunited"
          ],
          [
           "Canido"
          ],
          [
           "RKVians"
          ],
          [
           "bejeebers"
          ],
          [
           "chipsexual"
          ],
          [
           "Period"
          ],
          [
           "Britting"
          ],
          [
           "Lyriix"
          ],
          [
           "Curvacia"
          ],
          [
           "philosocizing"
          ],
          [
           "darnte"
          ],
          [
           "LucMad"
          ],
          [
           "Iffinization"
          ],
          [
           "Destraction"
          ],
          [
           "lokl"
          ],
          [
           "Lebente"
          ],
          [
           "lycist"
          ],
          [
           "fuckapuss"
          ],
          [
           "DeeJay2scoop"
          ],
          [
           "Aarti"
          ],
          [
           "Poofesure"
          ],
          [
           "paradisa"
          ],
          [
           "Falling"
          ],
          [
           "Scorched"
          ],
          [
           "Luciforbid"
          ],
          [
           "JPizzal"
          ],
          [
           "wentzed"
          ],
          [
           "Garey"
          ],
          [
           "Kahin"
          ],
          [
           "Niny"
          ],
          [
           "rageblackout"
          ],
          [
           "blemo"
          ],
          [
           "vagcrack"
          ],
          [
           "SlashingSamurott"
          ],
          [
           "aftershrink"
          ],
          [
           "Covell"
          ],
          [
           "clipazene"
          ],
          [
           "chunk"
          ],
          [
           "Takaradon"
          ],
          [
           "Efe"
          ],
          [
           "jahveion"
          ],
          [
           "dooty"
          ],
          [
           "Motorbiker"
          ],
          [
           "slepi"
          ],
          [
           "gruffle"
          ],
          [
           "Poubel"
          ],
          [
           "Landsberger"
          ],
          [
           "faloof"
          ],
          [
           "ixeel"
          ],
          [
           "Skittlebitch"
          ],
          [
           "jakyah"
          ],
          [
           "mindset"
          ],
          [
           "bodonkey"
          ],
          [
           "SavTown"
          ],
          [
           "dankquious"
          ],
          [
           "s4kuatsu"
          ],
          [
           "hyperdick"
          ],
          [
           "Deagon"
          ],
          [
           "McRoberts"
          ],
          [
           "forkanability"
          ],
          [
           "kaasoorbellen"
          ],
          [
           "Mactier"
          ],
          [
           "smushy"
          ],
          [
           "redneckian"
          ],
          [
           "broferral"
          ],
          [
           "ginormas"
          ],
          [
           "cableing"
          ],
          [
           "didlo"
          ],
          [
           "skumf"
          ],
          [
           "derg"
          ],
          [
           "Furzer"
          ],
          [
           "antimyrtosexual"
          ],
          [
           "nathannk"
          ],
          [
           "zinus"
          ],
          [
           "ladleyed"
          ],
          [
           "fagslag"
          ],
          [
           "Yazman"
          ],
          [
           "Kaylind"
          ],
          [
           "Aleximo"
          ],
          [
           "priapulus"
          ],
          [
           "romantisklemia"
          ],
          [
           "Jas"
          ],
          [
           "Lelk"
          ],
          [
           "funagerdalshoodlefeed"
          ],
          [
           "rememory"
          ],
          [
           "carbobomb"
          ],
          [
           "hmmm"
          ],
          [
           "approxamile"
          ],
          [
           "Vuppie"
          ],
          [
           "jamboogity"
          ],
          [
           "ecology"
          ],
          [
           "RachelJimmy"
          ],
          [
           "kasharie"
          ],
          [
           "StateHumans"
          ],
          [
           "emurg"
          ],
          [
           "Sexgrivated"
          ],
          [
           "galante"
          ],
          [
           "Y’all"
          ],
          [
           "dissaporated"
          ],
          [
           "DieN2LivE"
          ],
          [
           "matthewfvx"
          ],
          [
           "parkear"
          ],
          [
           "DD07"
          ],
          [
           "Tuskman"
          ],
          [
           "djchocoman"
          ],
          [
           "DXing"
          ],
          [
           "Naumenko"
          ],
          [
           "Ninhiu"
          ],
          [
           "bobonia"
          ],
          [
           "closingwalls"
          ],
          [
           "bericals"
          ],
          [
           "eliahney"
          ],
          [
           "keiari"
          ],
          [
           "durdurdurchicostick"
          ],
          [
           "jadek"
          ],
          [
           "superserindipitous"
          ],
          [
           "murderspugerter"
          ],
          [
           "killative"
          ],
          [
           "Lenam"
          ],
          [
           "tamasha"
          ],
          [
           "Humbaba"
          ],
          [
           "Hyuna"
          ],
          [
           "CTEF"
          ],
          [
           "wankpiece"
          ],
          [
           "VK"
          ],
          [
           "straightner"
          ],
          [
           "kiptus"
          ],
          [
           "Chatard"
          ],
          [
           "Jeyna"
          ],
          [
           "tirath"
          ],
          [
           "atheochristian"
          ],
          [
           "amped"
          ],
          [
           "gatchi"
          ],
          [
           "nasdaq"
          ],
          [
           "mensiversary"
          ],
          [
           "dileymi"
          ],
          [
           "Republicanistical"
          ],
          [
           "Adremeleh"
          ],
          [
           "deliciousable"
          ],
          [
           "Patrolled"
          ],
          [
           "alef"
          ],
          [
           "twinkiesmoot"
          ],
          [
           "Danaka"
          ],
          [
           "RAWRForce"
          ],
          [
           "Thassa"
          ],
          [
           "garanagutang"
          ],
          [
           "betifol"
          ],
          [
           "TRSYosh"
          ],
          [
           "gerrarrahia"
          ],
          [
           "daizie"
          ],
          [
           "Scomophobia"
          ],
          [
           "Mirri"
          ],
          [
           "WPOC"
          ],
          [
           "Blorbus"
          ],
          [
           "drusk"
          ],
          [
           "Fagtato"
          ],
          [
           "Minjee"
          ],
          [
           "finesss"
          ],
          [
           "sotticism"
          ],
          [
           "Twilled"
          ],
          [
           "slackerish"
          ],
          [
           "Hambism"
          ],
          [
           "Silverton"
          ],
          [
           "Crygurgitate"
          ],
          [
           "Bert"
          ],
          [
           "Bidhya"
          ],
          [
           "roschshit"
          ],
          [
           "valute"
          ],
          [
           "sexpatriate"
          ],
          [
           "pushart"
          ],
          [
           "vagixus"
          ],
          [
           "Ukabajillion"
          ],
          [
           "GIV"
          ],
          [
           "Ziegbe"
          ],
          [
           "awhnyx"
          ],
          [
           "zeflexive"
          ],
          [
           "AAML"
          ],
          [
           "Nikea"
          ],
          [
           "Halzy"
          ],
          [
           "Markease"
          ],
          [
           "Isra"
          ],
          [
           "twurkulator"
          ],
          [
           "jonesti"
          ],
          [
           "catgender"
          ],
          [
           "tamden"
          ],
          [
           "Connibalism"
          ],
          [
           "garflap"
          ],
          [
           "Unlimited"
          ],
          [
           "yukoned"
          ],
          [
           "Penney"
          ],
          [
           "lbrh"
          ],
          [
           "scloop"
          ],
          [
           "Punster"
          ],
          [
           "broskido"
          ],
          [
           "Fedal"
          ],
          [
           "beadouka"
          ],
          [
           "Buddisex"
          ],
          [
           "SVN"
          ],
          [
           "narna"
          ],
          [
           "khabees"
          ],
          [
           "gafoor"
          ],
          [
           "Prefreud"
          ],
          [
           "leifed"
          ],
          [
           "loungo"
          ],
          [
           "dovlete"
          ],
          [
           "FailSec"
          ],
          [
           "iwwd"
          ],
          [
           "fashional"
          ],
          [
           "LaDorian"
          ],
          [
           "Kastalgia"
          ],
          [
           "Ehoela"
          ],
          [
           "amden"
          ],
          [
           "breason"
          ],
          [
           "dorkompus"
          ],
          [
           "spooky"
          ],
          [
           "niaow"
          ],
          [
           "ballsssssssssss"
          ],
          [
           "dobymaker"
          ],
          [
           "Shortstop"
          ],
          [
           "koal"
          ],
          [
           "vust"
          ],
          [
           "Cadrie"
          ],
          [
           "pabcak"
          ],
          [
           "Swagcrow"
          ],
          [
           "HinaBn"
          ],
          [
           "Tanning"
          ],
          [
           "shideas"
          ],
          [
           "davesport"
          ],
          [
           "boomatorks"
          ],
          [
           "Thrunting"
          ],
          [
           "breondre"
          ],
          [
           "Glyka"
          ],
          [
           "Eleani"
          ],
          [
           "Kitcha"
          ],
          [
           "Artian"
          ],
          [
           "mykasia"
          ],
          [
           "prefackly"
          ],
          [
           "Bongcloud"
          ],
          [
           "kajillian"
          ],
          [
           "mimesophobia"
          ],
          [
           "lkfksd"
          ],
          [
           "Kubica"
          ],
          [
           "breezyrosie"
          ],
          [
           "braaanflakes"
          ],
          [
           "deani"
          ],
          [
           "jaizeli"
          ],
          [
           "snorkled"
          ],
          [
           "jpkechs"
          ],
          [
           "Alphabet"
          ],
          [
           "BSE"
          ],
          [
           "Latravia"
          ],
          [
           "neeyotch"
          ],
          [
           "jizzcannon"
          ],
          [
           "lavpog"
          ],
          [
           "creth"
          ],
          [
           "bloak"
          ],
          [
           "Caskey"
          ],
          [
           "shufflin"
          ],
          [
           "Stoner"
          ],
          [
           "bribber"
          ],
          [
           "God"
          ],
          [
           "weezyweezyweez"
          ],
          [
           "jibbert"
          ],
          [
           "Qashqai"
          ],
          [
           "Rydan"
          ],
          [
           "Yoona"
          ],
          [
           "uniforcation"
          ],
          [
           "gruds"
          ],
          [
           "Luree"
          ],
          [
           "Shonensai"
          ],
          [
           "lachey"
          ],
          [
           "sikya"
          ],
          [
           "KOHOOOA"
          ],
          [
           "glocaine"
          ],
          [
           "Pricking"
          ],
          [
           "Jezziemarie"
          ],
          [
           "Chacne"
          ],
          [
           "daupolino"
          ],
          [
           "Gluetard"
          ],
          [
           "Fibula"
          ],
          [
           "Barich"
          ],
          [
           "yekkle"
          ],
          [
           "goider"
          ],
          [
           "glibly"
          ],
          [
           "Legendoncé"
          ],
          [
           "ferodo"
          ],
          [
           "cockachino"
          ],
          [
           "zainnyboi"
          ],
          [
           "poosickel"
          ],
          [
           "QSA"
          ],
          [
           "Sha’kara"
          ],
          [
           "Shinkled"
          ],
          [
           "unsahnkapsable"
          ],
          [
           "Shalome"
          ],
          [
           "fwmotdl"
          ],
          [
           "skrinkle"
          ],
          [
           "XBLInkz"
          ],
          [
           "rifting"
          ],
          [
           "Nahjz"
          ],
          [
           "marbler"
          ],
          [
           "ArdePiertje"
          ],
          [
           "pushtika"
          ],
          [
           "PARRAINE"
          ],
          [
           "Mazlan"
          ],
          [
           "hairon"
          ],
          [
           "wether"
          ],
          [
           "daphoenus"
          ],
          [
           "Chahit"
          ],
          [
           "raggin"
          ],
          [
           "flyPod"
          ],
          [
           "Downsyde"
          ],
          [
           "Amening"
          ],
          [
           "Kyze"
          ],
          [
           "Hinch"
          ],
          [
           "spainish"
          ],
          [
           "microwang"
          ],
          [
           "ouster"
          ],
          [
           "epictude"
          ],
          [
           "Crystaler"
          ],
          [
           "hierarshitic"
          ],
          [
           "Pillowcaseless"
          ],
          [
           "Granary"
          ],
          [
           "balloongate"
          ],
          [
           "Architectoid"
          ],
          [
           "crazinessness"
          ],
          [
           "Calemn"
          ],
          [
           "Dunstable"
          ],
          [
           "penka"
          ],
          [
           "goach"
          ],
          [
           "Eduarda"
          ],
          [
           "Polowick"
          ],
          [
           "pamgrab"
          ],
          [
           "Porntrait"
          ],
          [
           "ginjew"
          ],
          [
           "jhennifer"
          ],
          [
           "Teighen"
          ],
          [
           "Deliciouz"
          ],
          [
           "greerdog"
          ],
          [
           "Shifino"
          ],
          [
           "SwtDrmsSi"
          ],
          [
           "bruhloon"
          ],
          [
           "vivi4eva"
          ],
          [
           "Spuma"
          ],
          [
           "synertia"
          ],
          [
           "Cezer"
          ],
          [
           "semple"
          ],
          [
           "Speciation"
          ],
          [
           "tempcation"
          ],
          [
           "lesagasm"
          ],
          [
           "lolao"
          ],
          [
           "Holidanks"
          ],
          [
           "familton"
          ],
          [
           "insanely"
          ],
          [
           "shabernackulous"
          ],
          [
           "Borne"
          ],
          [
           "Welby"
          ],
          [
           "Ibrox"
          ],
          [
           "gayyyyyy"
          ],
          [
           "Fiancex"
          ],
          [
           "sovietphobia"
          ],
          [
           "Sexpo"
          ],
          [
           "IWAIM"
          ],
          [
           "lacko"
          ],
          [
           "Finnbarr"
          ],
          [
           "Alexsander"
          ],
          [
           "Trevair"
          ],
          [
           "HERBISHER"
          ],
          [
           "Playmobil"
          ],
          [
           "suited"
          ],
          [
           "illterate"
          ],
          [
           "Trella"
          ],
          [
           "Fishhh"
          ],
          [
           "lenticular"
          ],
          [
           "neighbs"
          ],
          [
           "plimped"
          ],
          [
           "Simutronics"
          ],
          [
           "chinnamous"
          ],
          [
           "gsypiaeo"
          ],
          [
           "Zompo"
          ],
          [
           "TeeGay"
          ],
          [
           "Poturtle"
          ],
          [
           "Vanderpas"
          ],
          [
           "vocabulism"
          ],
          [
           "antstyle"
          ],
          [
           "Ekjot"
          ],
          [
           "rictus"
          ],
          [
           "ACiiD"
          ],
          [
           "Griffen"
          ],
          [
           "mungra"
          ],
          [
           "Q17"
          ],
          [
           "modizza"
          ],
          [
           "riddonkulus"
          ],
          [
           "acere"
          ],
          [
           "Cafeezie"
          ],
          [
           "reetsball"
          ],
          [
           "Rayumi"
          ],
          [
           "oversmalls"
          ],
          [
           "kaimani"
          ],
          [
           "fannesh"
          ],
          [
           "revoked"
          ],
          [
           "ponti"
          ],
          [
           "Xonked"
          ],
          [
           "Berfadrummer"
          ],
          [
           "Idiocism"
          ],
          [
           "shubby"
          ],
          [
           "GFC"
          ],
          [
           "Shamssause"
          ],
          [
           "Falsehood"
          ],
          [
           "martenitsa"
          ],
          [
           "hister"
          ],
          [
           "rebbish"
          ],
          [
           "bandsurfing"
          ],
          [
           "pwason"
          ],
          [
           "Khushboo"
          ]
         ],
         "hovertemplate": "0=%{x}<br>1=%{y}<br>words=%{customdata[0]}<extra></extra>",
         "legendgroup": "",
         "marker": {
          "color": "#636efa",
          "symbol": "circle"
         },
         "mode": "markers",
         "name": "",
         "orientation": "v",
         "showlegend": false,
         "type": "scatter",
         "x": [
          -0.5453184247016907,
          -3.146472215652466,
          -3.4466662406921387,
          -3.3831121921539307,
          0.9139792919158936,
          -5.305600643157959,
          0.09486351162195206,
          -0.8628143668174744,
          -0.5890557169914246,
          -4.392889022827148,
          -7.017187595367432,
          1.0731511116027832,
          -7.5743255615234375,
          -4.638856410980225,
          1.8777692317962646,
          4.745691776275635,
          0.009743315167725086,
          -0.9979878067970276,
          -3.675241470336914,
          -2.1324009895324707,
          -3.3378305435180664,
          3.323786497116089,
          -4.279017448425293,
          -5.326467990875244,
          5.195767402648926,
          -0.9997230768203735,
          -3.3988170623779297,
          -4.381009101867676,
          -1.3463472127914429,
          3.0525522232055664,
          -2.2844560146331787,
          0.39648598432540894,
          -0.06924431771039963,
          1.5136648416519165,
          -3.3731069564819336,
          -1.9828709363937378,
          -0.08139292895793915,
          -7.2266950607299805,
          2.4427149295806885,
          0.2850763201713562,
          -4.10695219039917,
          5.220825672149658,
          3.649367094039917,
          -1.6991583108901978,
          -3.8078107833862305,
          -4.497737407684326,
          3.087177038192749,
          2.735982656478882,
          -3.1993656158447266,
          1.3350880146026611,
          -3.8848633766174316,
          -4.5132927894592285,
          -0.42316341400146484,
          -2.747452974319458,
          -1.6220946311950684,
          -4.996823787689209,
          3.496417999267578,
          -2.907292604446411,
          2.4232232570648193,
          -1.6424269676208496,
          3.6151273250579834,
          -5.99065637588501,
          2.2358524799346924,
          -1.707700252532959,
          -2.021360158920288,
          -1.6124682426452637,
          -5.336400032043457,
          -2.4723775386810303,
          -0.01384705025702715,
          -6.150176525115967,
          5.109932899475098,
          -4.785445213317871,
          -7.125999450683594,
          -1.8062409162521362,
          -3.711423873901367,
          -2.8649942874908447,
          3.412410020828247,
          -1.189640760421753,
          -0.47738510370254517,
          2.6985762119293213,
          -2.662606954574585,
          0.6715024709701538,
          1.9654980897903442,
          -6.023585796356201,
          -5.024956226348877,
          0.9120339155197144,
          3.420664072036743,
          -1.3235894441604614,
          3.8997788429260254,
          -6.446274757385254,
          -3.248561143875122,
          -2.9091713428497314,
          -4.086760997772217,
          -2.7864744663238525,
          -3.8936941623687744,
          -2.744511604309082,
          -4.744622707366943,
          -2.9050629138946533,
          -4.4487786293029785,
          -3.407224178314209,
          4.705234050750732,
          -1.226670503616333,
          -1.0301264524459839,
          -5.570044040679932,
          -3.745110511779785,
          5.075749397277832,
          -2.079308032989502,
          -4.754757404327393,
          1.846827745437622,
          4.317995548248291,
          -2.633934497833252,
          -7.021145820617676,
          -2.264270782470703,
          -5.569044589996338,
          -0.8280159831047058,
          1.0911978483200073,
          4.758238315582275,
          -5.2764177322387695,
          0.09001781791448593,
          -7.459506988525391,
          1.6473935842514038,
          1.842659592628479,
          -3.3671154975891113,
          -4.754979610443115,
          -2.2259480953216553,
          -3.745033025741577,
          -4.369090557098389,
          2.170644760131836,
          -3.295140027999878,
          -2.2786202430725098,
          -2.905961275100708,
          -1.7462126016616821,
          -2.3671507835388184,
          -2.4365804195404053,
          -3.7315189838409424,
          -1.8792322874069214,
          -1.8887790441513062,
          -1.7527881860733032,
          -3.68526554107666,
          -0.5444085001945496,
          3.9276833534240723,
          -1.9297797679901123,
          0.3141319155693054,
          3.8389415740966797,
          1.2845832109451294,
          -1.042209506034851,
          -5.070534706115723,
          -2.6622064113616943,
          -4.230343341827393,
          -2.5461509227752686,
          2.6711790561676025,
          -5.113096714019775,
          -6.271622657775879,
          2.7321739196777344,
          -0.7345472574234009,
          -1.4735808372497559,
          -2.4688076972961426,
          -0.5497710704803467,
          -6.129502773284912,
          2.6827375888824463,
          -2.162496566772461,
          -2.109951972961426,
          -1.0730210542678833,
          3.1475253105163574,
          -0.7411249279975891,
          -0.9871531128883362,
          -2.4596192836761475,
          -0.26622867584228516,
          3.0878663063049316,
          -5.978207111358643,
          -6.617034435272217,
          -3.5646092891693115,
          -1.2944494485855103,
          -3.1249136924743652,
          -0.633343517780304,
          -0.9353720545768738,
          -4.92728328704834,
          -2.1923937797546387,
          -2.638015031814575,
          -1.9307000637054443,
          -2.1750898361206055,
          -3.584357261657715,
          -3.04941725730896,
          5.1688666343688965,
          -1.1324869394302368,
          -3.2116479873657227,
          -2.226482391357422,
          -0.34976720809936523,
          -0.4137103259563446,
          -2.3737807273864746,
          -1.9416276216506958,
          -0.8437497019767761,
          -3.341906785964966,
          -1.859485387802124,
          -4.785597324371338,
          -2.1209306716918945,
          -4.69358491897583,
          0.14978407323360443,
          -2.5100176334381104,
          3.039828062057495,
          -5.345089435577393,
          -1.2565803527832031,
          -5.220458984375,
          -3.9108364582061768,
          -2.856478214263916,
          -0.5805320739746094,
          4.663320541381836,
          -2.8626058101654053,
          4.115731239318848,
          -4.194346904754639,
          2.634965181350708,
          -1.719380497932434,
          -1.737018346786499,
          1.7937294244766235,
          -7.389958381652832,
          -0.32369139790534973,
          0.3713459074497223,
          -4.638122081756592,
          -4.047291278839111,
          -4.533700466156006,
          -0.6431576609611511,
          -6.395456314086914,
          -3.831242322921753,
          -4.983742713928223,
          -4.7773966789245605,
          -3.125269651412964,
          -4.43126916885376,
          -1.206868290901184,
          -5.210933208465576,
          -6.427175521850586,
          -3.0975394248962402,
          -0.8369575142860413,
          -5.119064807891846,
          3.5619301795959473,
          0.8849726915359497,
          -5.577455043792725,
          -1.5761865377426147,
          -4.216663837432861,
          2.2707138061523438,
          1.1843968629837036,
          0.0012283050455152988,
          -1.7853682041168213,
          -6.929555892944336,
          -3.9781277179718018,
          3.68497896194458,
          -2.260314702987671,
          0.2675425708293915,
          0.6501628756523132,
          -3.1336920261383057,
          -0.42907148599624634,
          -3.7664899826049805,
          3.2926199436187744,
          3.392362594604492,
          -1.8221725225448608,
          0.5539178252220154,
          -2.6170692443847656,
          0.5922256708145142,
          -1.2357733249664307,
          -4.411453723907471,
          -1.5127146244049072,
          2.4129042625427246,
          -2.648167133331299,
          -0.5252676606178284,
          -0.5428051352500916,
          1.3529505729675293,
          -0.13485214114189148,
          -2.0239956378936768,
          5.049924373626709,
          1.5600522756576538,
          -3.309419631958008,
          -0.007528357207775116,
          -5.444464206695557,
          1.7660787105560303,
          0.9977983832359314,
          -4.6899213790893555,
          3.0763587951660156,
          -0.08902040123939514,
          5.287579536437988,
          0.07028599083423615,
          5.389603137969971,
          -3.9364967346191406,
          -0.5685901641845703,
          1.8472669124603271,
          -2.886230230331421,
          2.4140052795410156,
          -0.43601205945014954,
          -4.2610063552856445,
          -1.580002784729004,
          -2.1134591102600098,
          3.4055521488189697,
          -3.4110682010650635,
          0.6873984932899475,
          -4.455022811889648,
          -2.0828702449798584,
          0.8883295059204102,
          1.9315612316131592,
          -2.790097951889038,
          -4.828575611114502,
          -1.4921374320983887,
          -2.0188546180725098,
          -2.4486331939697266,
          -5.965693473815918,
          0.5358341336250305,
          -4.465896129608154,
          1.259529709815979,
          -0.002573886886239052,
          -2.7680485248565674,
          -3.4375622272491455,
          -3.6255710124969482,
          -4.138191223144531,
          0.2562527060508728,
          -4.033232688903809,
          2.7173409461975098,
          -4.30763053894043,
          -3.0810654163360596,
          -2.759683847427368,
          -7.400082588195801,
          -5.355377197265625,
          -6.803660869598389,
          -0.8250660300254822,
          -0.7237109541893005,
          -2.0576934814453125,
          -3.4186909198760986,
          -4.453226566314697,
          4.416923999786377,
          1.6437840461730957,
          -1.7927743196487427,
          2.7887887954711914,
          -6.977410793304443,
          3.2810981273651123,
          0.9243187308311462,
          -4.02817964553833,
          3.5204925537109375,
          2.1229686737060547,
          -6.638366222381592,
          3.9119873046875,
          1.219940185546875,
          -3.800955057144165,
          3.0827784538269043,
          -2.25411319732666,
          -3.168022871017456,
          -1.057035207748413,
          3.416826009750366,
          -5.476202011108398,
          -2.1597440242767334,
          -5.327188491821289,
          -3.6026721000671387,
          -2.422745943069458,
          -0.8841444253921509,
          -0.9882417917251587,
          -6.262379169464111,
          -7.5930399894714355,
          -4.4958720207214355,
          -4.251157283782959,
          -3.161780834197998,
          2.5968856811523438,
          -0.9421266317367554,
          0.7523231506347656,
          -1.5889207124710083,
          -1.8327276706695557,
          -1.6059768199920654,
          -1.4365345239639282,
          -6.229091167449951,
          -0.37190142273902893,
          -2.839139699935913,
          -4.136825084686279,
          -6.073648452758789,
          -3.802042007446289,
          -6.232091903686523,
          0.2397054135799408,
          -0.33349907398223877,
          4.486106872558594,
          -6.419623374938965,
          2.2704336643218994,
          3.461944341659546,
          2.6158878803253174,
          2.865797996520996,
          -1.219425082206726,
          -3.778749942779541,
          -3.2362043857574463,
          -2.6527655124664307,
          -1.73520827293396,
          -2.4006056785583496,
          -0.7858205437660217,
          -3.2276296615600586,
          -3.6848907470703125,
          -3.060128688812256,
          4.783807277679443,
          0.21763858199119568,
          -3.744727373123169,
          0.7811005115509033,
          1.773350477218628,
          -6.626564979553223,
          0.26487502455711365,
          1.5235918760299683,
          -3.118374824523926,
          0.4896964728832245,
          -1.0521190166473389,
          -4.485797882080078,
          -0.5637022256851196,
          -2.9650871753692627,
          -4.043735980987549,
          -0.7702184915542603,
          -3.3906898498535156,
          2.499159812927246,
          0.8801083564758301,
          4.388978004455566,
          -2.830507755279541,
          -3.8860909938812256,
          -0.36381396651268005,
          -1.2549991607666016,
          3.3005998134613037,
          -0.06835713237524033,
          -0.8691437244415283,
          -3.0914790630340576,
          -5.6822428703308105,
          -1.8230260610580444,
          0.5790418386459351,
          4.425858974456787,
          0.4587825834751129,
          -4.913110733032227,
          -1.4658855199813843,
          2.01770281791687,
          3.645190477371216,
          -0.3145531415939331,
          -3.161830186843872,
          -2.5748047828674316,
          -1.8166738748550415,
          -5.670205593109131,
          -5.5685906410217285,
          -2.944087028503418,
          -1.655404806137085,
          -0.8764200806617737
         ],
         "xaxis": "x",
         "y": [
          0.08579222857952118,
          -1.8729798793792725,
          -0.8792709708213806,
          -0.914506196975708,
          1.3193258047103882,
          -3.572054147720337,
          0.8861982822418213,
          -2.504493236541748,
          0.25834307074546814,
          0.04592713341116905,
          -0.8850523829460144,
          -3.874866485595703,
          -2.1977083683013916,
          -6.664388656616211,
          -1.9815984964370728,
          2.866990566253662,
          -5.460864543914795,
          -1.4738608598709106,
          -3.08988881111145,
          -4.169740200042725,
          -1.1458306312561035,
          -0.5023560523986816,
          0.46903279423713684,
          -2.384683847427368,
          2.390718936920166,
          2.216366767883301,
          -2.175351858139038,
          -2.3986454010009766,
          -3.0177488327026367,
          -0.6736540794372559,
          -0.0431588776409626,
          -1.8454886674880981,
          -0.1639416366815567,
          1.0219321250915527,
          -2.2140004634857178,
          -1.2173631191253662,
          -4.5005927085876465,
          -3.9777469635009766,
          1.926523208618164,
          2.485842227935791,
          0.3781578838825226,
          2.3327226638793945,
          1.074047565460205,
          -4.425466060638428,
          -2.308293104171753,
          -3.0214829444885254,
          1.9571651220321655,
          2.2266006469726562,
          -0.7061604857444763,
          1.2439873218536377,
          -2.214838743209839,
          -1.7157626152038574,
          0.010180609300732613,
          -2.192528009414673,
          -1.4277029037475586,
          -2.561598539352417,
          3.4750349521636963,
          -3.36542010307312,
          1.7919092178344727,
          -2.174480676651001,
          2.8052587509155273,
          -1.357537865638733,
          -4.64115047454834,
          1.8214455842971802,
          -1.5854203701019287,
          -0.3846985995769501,
          -1.8660980463027954,
          1.0003916025161743,
          -3.179194450378418,
          -4.0338215827941895,
          1.6027922630310059,
          -6.968902111053467,
          -0.7788894176483154,
          -7.301172256469727,
          -1.2307766675949097,
          -8.03408145904541,
          0.45285412669181824,
          -2.4257192611694336,
          -1.4262689352035522,
          0.9458349347114563,
          -0.6779770255088806,
          -4.237337589263916,
          1.3509788513183594,
          -2.878335952758789,
          -1.363046407699585,
          -5.0458083152771,
          1.3031097650527954,
          -0.8980448842048645,
          2.399980306625366,
          -2.1107118129730225,
          -2.427170753479004,
          1.264128565788269,
          -0.7268896102905273,
          -6.214682579040527,
          -1.2826833724975586,
          -2.1305668354034424,
          1.734836459159851,
          -1.5645372867584229,
          -1.6276332139968872,
          2.5946779251098633,
          2.588716983795166,
          -1.8375592231750488,
          -1.0485881567001343,
          -6.01790189743042,
          -3.6863338947296143,
          3.098564624786377,
          2.7804205417633057,
          -2.2437260150909424,
          -0.6789037585258484,
          1.32783842086792,
          -3.960798978805542,
          -0.24789148569107056,
          -2.099768877029419,
          -2.31221604347229,
          -1.2996059656143188,
          -1.3972760438919067,
          2.96600341796875,
          -2.1530141830444336,
          -4.699502468109131,
          -2.2048380374908447,
          -1.8864065408706665,
          -1.9923319816589355,
          -3.6951324939727783,
          -6.890657424926758,
          -5.986259937286377,
          -2.655771493911743,
          -3.859555959701538,
          1.51775062084198,
          -3.323431968688965,
          -1.2694588899612427,
          0.9897021651268005,
          -1.2111403942108154,
          -0.11049357056617737,
          -0.34683769941329956,
          -1.455614686012268,
          -1.9801286458969116,
          -2.834627389907837,
          -0.8891361355781555,
          -5.850900173187256,
          -0.7761503458023071,
          -0.1771678775548935,
          -0.3447878062725067,
          -0.764208197593689,
          1.4047561883926392,
          -0.839728832244873,
          -1.8473323583602905,
          -5.087176322937012,
          -2.294753313064575,
          -4.46606969833374,
          -3.352163553237915,
          2.892775535583496,
          1.1450860500335693,
          -5.223879814147949,
          0.7014598846435547,
          -2.300795316696167,
          0.2936091721057892,
          -2.7584245204925537,
          0.49800294637680054,
          -5.200618267059326,
          0.8363324999809265,
          -3.766958713531494,
          -5.207893371582031,
          -1.8731938600540161,
          2.4454848766326904,
          -4.105662822723389,
          -0.30678004026412964,
          -1.3139417171478271,
          -1.2418134212493896,
          -0.5688648223876953,
          1.1193766593933105,
          -3.453310966491699,
          2.6527349948883057,
          -2.4325239658355713,
          -5.81715726852417,
          -5.228938102722168,
          -1.6339200735092163,
          -1.146464228630066,
          -0.703295886516571,
          -2.7057337760925293,
          -2.836421251296997,
          -4.698491096496582,
          0.3199811279773712,
          -1.761947751045227,
          2.3789706230163574,
          -1.743620753288269,
          2.477842092514038,
          0.6109634041786194,
          -3.7334845066070557,
          -2.566676378250122,
          -2.4998655319213867,
          -5.434544563293457,
          -2.836512327194214,
          -3.136293649673462,
          -1.6203235387802124,
          -4.909505367279053,
          -1.4358853101730347,
          -3.4078989028930664,
          -1.4981496334075928,
          -1.6123567819595337,
          1.4422016143798828,
          -1.216119408607483,
          -6.089823246002197,
          -4.198603630065918,
          -4.462076187133789,
          -8.021342277526855,
          -1.810013771057129,
          2.5724306106567383,
          -0.443625807762146,
          2.2694594860076904,
          -1.6409400701522827,
          0.9906030297279358,
          -0.8061311841011047,
          -2.1367712020874023,
          -4.225255489349365,
          -0.6048353910446167,
          -6.536743640899658,
          1.5920119285583496,
          -5.166969299316406,
          0.20632556080818176,
          -4.565019607543945,
          -3.184938669204712,
          -5.373892307281494,
          -0.7072137594223022,
          -3.3471105098724365,
          -1.9145886898040771,
          -2.037806510925293,
          -0.8540796041488647,
          -0.5804124474525452,
          2.8377132415771484,
          -4.653213977813721,
          -0.18637868762016296,
          -2.022357225418091,
          2.80116605758667,
          3.213884115219116,
          -1.0030944347381592,
          -0.15444427728652954,
          -1.8252898454666138,
          -2.471043586730957,
          -0.5554097890853882,
          -2.796306848526001,
          0.3619880676269531,
          -2.720435380935669,
          0.006140653509646654,
          -0.5753039717674255,
          2.1006340980529785,
          -2.202287435531616,
          2.1630332469940186,
          -5.770887851715088,
          -4.229363918304443,
          -3.7735819816589355,
          -1.4197494983673096,
          0.3032514154911041,
          0.6029888391494751,
          -3.47232723236084,
          -1.824413537979126,
          -5.132145881652832,
          1.93413507938385,
          -5.033237934112549,
          -4.748001575469971,
          -0.6390497088432312,
          -4.644691467285156,
          -2.6547088623046875,
          -1.144209384918213,
          -2.861581802368164,
          -0.17706161737442017,
          1.3457309007644653,
          -3.134673833847046,
          2.4156744480133057,
          1.069928765296936,
          -5.043984413146973,
          -1.5716667175292969,
          -0.21612007915973663,
          -1.8876574039459229,
          -3.125164031982422,
          -0.8469290137290955,
          1.871361255645752,
          -1.1558033227920532,
          3.1760196685791016,
          -1.315218210220337,
          1.677899718284607,
          -4.328786373138428,
          -2.1994595527648926,
          -0.008960308507084846,
          -1.1654216051101685,
          0.4496857523918152,
          -0.43397700786590576,
          -4.828601360321045,
          -4.038319110870361,
          -1.8216973543167114,
          -2.823291063308716,
          -1.4241752624511719,
          -1.2152713537216187,
          -5.409554481506348,
          0.9257449507713318,
          -2.1314430236816406,
          2.148515462875366,
          -4.128747940063477,
          -4.088118076324463,
          -3.2237396240234375,
          -2.457435131072998,
          -2.8233726024627686,
          -3.309659004211426,
          0.9458019733428955,
          -3.3748574256896973,
          -3.0720889568328857,
          -2.479872703552246,
          -2.4873578548431396,
          -6.7842607498168945,
          -2.0235788822174072,
          -3.7367236614227295,
          -0.3384442627429962,
          0.16016602516174316,
          -3.024599075317383,
          -1.2888617515563965,
          -3.374241828918457,
          -1.4224181175231934,
          -3.995573043823242,
          -6.044493198394775,
          -0.921389639377594,
          -0.40294426679611206,
          -4.3983154296875,
          1.9565902948379517,
          -2.6713614463806152,
          -2.410522222518921,
          2.6614177227020264,
          1.0076731443405151,
          1.2384189367294312,
          2.6145081520080566,
          0.22040511667728424,
          0.5331087112426758,
          -0.24436937272548676,
          -3.471306324005127,
          2.197288990020752,
          2.215864658355713,
          -3.8804209232330322,
          1.1266974210739136,
          0.4892638921737671,
          -5.188969135284424,
          -1.4408563375473022,
          -0.6919841170310974,
          2.8262815475463867,
          -4.705461025238037,
          -2.7878661155700684,
          0.6065183281898499,
          -4.546147346496582,
          -4.476465225219727,
          -4.564747333526611,
          3.3456902503967285,
          0.8335066437721252,
          -3.435373067855835,
          -2.118798017501831,
          -2.2171926498413086,
          -2.5452399253845215,
          -1.9232734441757202,
          -2.8023838996887207,
          -4.038769245147705,
          -1.5757925510406494,
          -0.39239761233329773,
          -3.536886215209961,
          -7.157505035400391,
          -2.33201265335083,
          0.9105721712112427,
          -5.391277313232422,
          -0.4559116065502167,
          -2.125236749649048,
          -3.8873610496520996,
          -3.9326796531677246,
          -3.425847291946411,
          -2.2993857860565186,
          -2.563228130340576,
          -1.5953319072723389,
          2.8382246494293213,
          -3.2279574871063232,
          2.5636563301086426,
          1.4619556665420532,
          -4.295811176300049,
          1.1299792528152466,
          -5.970904350280762,
          -2.733839750289917,
          3.114614963531494,
          -3.7715790271759033,
          0.2102130651473999,
          -1.3751956224441528,
          0.017227396368980408,
          -5.117420673370361,
          1.0172079801559448,
          2.967831611633301,
          1.4561680555343628,
          -3.3420450687408447,
          0.1954033076763153,
          -2.7535781860351562,
          1.644230604171753,
          -4.695432186126709,
          0.07325144857168198,
          -1.316469669342041,
          -3.7568576335906982,
          -0.028253503143787384,
          -1.3224173784255981,
          -2.7263259887695312,
          -0.8001642823219299,
          -4.662677764892578,
          1.5239486694335938,
          0.4470820724964142,
          -1.510704755783081,
          -1.735519289970398,
          0.3743279278278351,
          2.5130374431610107,
          0.3250850439071655,
          -3.3017160892486572,
          -6.385108470916748,
          -3.7764198780059814,
          2.2708492279052734,
          -2.3400018215179443,
          -0.864248514175415,
          -4.183900833129883,
          -0.15653736889362335,
          -1.6431046724319458,
          -3.599912643432617,
          1.9415717124938965,
          0.7389012575149536,
          -2.9080770015716553,
          0.0288099218159914,
          -0.2941743731498718,
          2.371567726135254,
          1.9852159023284912,
          -1.6603752374649048,
          -0.8475616574287415,
          -2.672794818878174,
          -0.009301489219069481,
          -3.1893115043640137,
          0.18580852448940277,
          -1.6256840229034424,
          1.3448487520217896
         ],
         "yaxis": "y"
        }
       ],
       "layout": {
        "legend": {
         "tracegroupgap": 0
        },
        "margin": {
         "t": 60
        },
        "template": {
         "data": {
          "bar": [
           {
            "error_x": {
             "color": "#2a3f5f"
            },
            "error_y": {
             "color": "#2a3f5f"
            },
            "marker": {
             "line": {
              "color": "#E5ECF6",
              "width": 0.5
             },
             "pattern": {
              "fillmode": "overlay",
              "size": 10,
              "solidity": 0.2
             }
            },
            "type": "bar"
           }
          ],
          "barpolar": [
           {
            "marker": {
             "line": {
              "color": "#E5ECF6",
              "width": 0.5
             },
             "pattern": {
              "fillmode": "overlay",
              "size": 10,
              "solidity": 0.2
             }
            },
            "type": "barpolar"
           }
          ],
          "carpet": [
           {
            "aaxis": {
             "endlinecolor": "#2a3f5f",
             "gridcolor": "white",
             "linecolor": "white",
             "minorgridcolor": "white",
             "startlinecolor": "#2a3f5f"
            },
            "baxis": {
             "endlinecolor": "#2a3f5f",
             "gridcolor": "white",
             "linecolor": "white",
             "minorgridcolor": "white",
             "startlinecolor": "#2a3f5f"
            },
            "type": "carpet"
           }
          ],
          "choropleth": [
           {
            "colorbar": {
             "outlinewidth": 0,
             "ticks": ""
            },
            "type": "choropleth"
           }
          ],
          "contour": [
           {
            "colorbar": {
             "outlinewidth": 0,
             "ticks": ""
            },
            "colorscale": [
             [
              0,
              "#0d0887"
             ],
             [
              0.1111111111111111,
              "#46039f"
             ],
             [
              0.2222222222222222,
              "#7201a8"
             ],
             [
              0.3333333333333333,
              "#9c179e"
             ],
             [
              0.4444444444444444,
              "#bd3786"
             ],
             [
              0.5555555555555556,
              "#d8576b"
             ],
             [
              0.6666666666666666,
              "#ed7953"
             ],
             [
              0.7777777777777778,
              "#fb9f3a"
             ],
             [
              0.8888888888888888,
              "#fdca26"
             ],
             [
              1,
              "#f0f921"
             ]
            ],
            "type": "contour"
           }
          ],
          "contourcarpet": [
           {
            "colorbar": {
             "outlinewidth": 0,
             "ticks": ""
            },
            "type": "contourcarpet"
           }
          ],
          "heatmap": [
           {
            "colorbar": {
             "outlinewidth": 0,
             "ticks": ""
            },
            "colorscale": [
             [
              0,
              "#0d0887"
             ],
             [
              0.1111111111111111,
              "#46039f"
             ],
             [
              0.2222222222222222,
              "#7201a8"
             ],
             [
              0.3333333333333333,
              "#9c179e"
             ],
             [
              0.4444444444444444,
              "#bd3786"
             ],
             [
              0.5555555555555556,
              "#d8576b"
             ],
             [
              0.6666666666666666,
              "#ed7953"
             ],
             [
              0.7777777777777778,
              "#fb9f3a"
             ],
             [
              0.8888888888888888,
              "#fdca26"
             ],
             [
              1,
              "#f0f921"
             ]
            ],
            "type": "heatmap"
           }
          ],
          "heatmapgl": [
           {
            "colorbar": {
             "outlinewidth": 0,
             "ticks": ""
            },
            "colorscale": [
             [
              0,
              "#0d0887"
             ],
             [
              0.1111111111111111,
              "#46039f"
             ],
             [
              0.2222222222222222,
              "#7201a8"
             ],
             [
              0.3333333333333333,
              "#9c179e"
             ],
             [
              0.4444444444444444,
              "#bd3786"
             ],
             [
              0.5555555555555556,
              "#d8576b"
             ],
             [
              0.6666666666666666,
              "#ed7953"
             ],
             [
              0.7777777777777778,
              "#fb9f3a"
             ],
             [
              0.8888888888888888,
              "#fdca26"
             ],
             [
              1,
              "#f0f921"
             ]
            ],
            "type": "heatmapgl"
           }
          ],
          "histogram": [
           {
            "marker": {
             "pattern": {
              "fillmode": "overlay",
              "size": 10,
              "solidity": 0.2
             }
            },
            "type": "histogram"
           }
          ],
          "histogram2d": [
           {
            "colorbar": {
             "outlinewidth": 0,
             "ticks": ""
            },
            "colorscale": [
             [
              0,
              "#0d0887"
             ],
             [
              0.1111111111111111,
              "#46039f"
             ],
             [
              0.2222222222222222,
              "#7201a8"
             ],
             [
              0.3333333333333333,
              "#9c179e"
             ],
             [
              0.4444444444444444,
              "#bd3786"
             ],
             [
              0.5555555555555556,
              "#d8576b"
             ],
             [
              0.6666666666666666,
              "#ed7953"
             ],
             [
              0.7777777777777778,
              "#fb9f3a"
             ],
             [
              0.8888888888888888,
              "#fdca26"
             ],
             [
              1,
              "#f0f921"
             ]
            ],
            "type": "histogram2d"
           }
          ],
          "histogram2dcontour": [
           {
            "colorbar": {
             "outlinewidth": 0,
             "ticks": ""
            },
            "colorscale": [
             [
              0,
              "#0d0887"
             ],
             [
              0.1111111111111111,
              "#46039f"
             ],
             [
              0.2222222222222222,
              "#7201a8"
             ],
             [
              0.3333333333333333,
              "#9c179e"
             ],
             [
              0.4444444444444444,
              "#bd3786"
             ],
             [
              0.5555555555555556,
              "#d8576b"
             ],
             [
              0.6666666666666666,
              "#ed7953"
             ],
             [
              0.7777777777777778,
              "#fb9f3a"
             ],
             [
              0.8888888888888888,
              "#fdca26"
             ],
             [
              1,
              "#f0f921"
             ]
            ],
            "type": "histogram2dcontour"
           }
          ],
          "mesh3d": [
           {
            "colorbar": {
             "outlinewidth": 0,
             "ticks": ""
            },
            "type": "mesh3d"
           }
          ],
          "parcoords": [
           {
            "line": {
             "colorbar": {
              "outlinewidth": 0,
              "ticks": ""
             }
            },
            "type": "parcoords"
           }
          ],
          "pie": [
           {
            "automargin": true,
            "type": "pie"
           }
          ],
          "scatter": [
           {
            "marker": {
             "colorbar": {
              "outlinewidth": 0,
              "ticks": ""
             }
            },
            "type": "scatter"
           }
          ],
          "scatter3d": [
           {
            "line": {
             "colorbar": {
              "outlinewidth": 0,
              "ticks": ""
             }
            },
            "marker": {
             "colorbar": {
              "outlinewidth": 0,
              "ticks": ""
             }
            },
            "type": "scatter3d"
           }
          ],
          "scattercarpet": [
           {
            "marker": {
             "colorbar": {
              "outlinewidth": 0,
              "ticks": ""
             }
            },
            "type": "scattercarpet"
           }
          ],
          "scattergeo": [
           {
            "marker": {
             "colorbar": {
              "outlinewidth": 0,
              "ticks": ""
             }
            },
            "type": "scattergeo"
           }
          ],
          "scattergl": [
           {
            "marker": {
             "colorbar": {
              "outlinewidth": 0,
              "ticks": ""
             }
            },
            "type": "scattergl"
           }
          ],
          "scattermapbox": [
           {
            "marker": {
             "colorbar": {
              "outlinewidth": 0,
              "ticks": ""
             }
            },
            "type": "scattermapbox"
           }
          ],
          "scatterpolar": [
           {
            "marker": {
             "colorbar": {
              "outlinewidth": 0,
              "ticks": ""
             }
            },
            "type": "scatterpolar"
           }
          ],
          "scatterpolargl": [
           {
            "marker": {
             "colorbar": {
              "outlinewidth": 0,
              "ticks": ""
             }
            },
            "type": "scatterpolargl"
           }
          ],
          "scatterternary": [
           {
            "marker": {
             "colorbar": {
              "outlinewidth": 0,
              "ticks": ""
             }
            },
            "type": "scatterternary"
           }
          ],
          "surface": [
           {
            "colorbar": {
             "outlinewidth": 0,
             "ticks": ""
            },
            "colorscale": [
             [
              0,
              "#0d0887"
             ],
             [
              0.1111111111111111,
              "#46039f"
             ],
             [
              0.2222222222222222,
              "#7201a8"
             ],
             [
              0.3333333333333333,
              "#9c179e"
             ],
             [
              0.4444444444444444,
              "#bd3786"
             ],
             [
              0.5555555555555556,
              "#d8576b"
             ],
             [
              0.6666666666666666,
              "#ed7953"
             ],
             [
              0.7777777777777778,
              "#fb9f3a"
             ],
             [
              0.8888888888888888,
              "#fdca26"
             ],
             [
              1,
              "#f0f921"
             ]
            ],
            "type": "surface"
           }
          ],
          "table": [
           {
            "cells": {
             "fill": {
              "color": "#EBF0F8"
             },
             "line": {
              "color": "white"
             }
            },
            "header": {
             "fill": {
              "color": "#C8D4E3"
             },
             "line": {
              "color": "white"
             }
            },
            "type": "table"
           }
          ]
         },
         "layout": {
          "annotationdefaults": {
           "arrowcolor": "#2a3f5f",
           "arrowhead": 0,
           "arrowwidth": 1
          },
          "autotypenumbers": "strict",
          "coloraxis": {
           "colorbar": {
            "outlinewidth": 0,
            "ticks": ""
           }
          },
          "colorscale": {
           "diverging": [
            [
             0,
             "#8e0152"
            ],
            [
             0.1,
             "#c51b7d"
            ],
            [
             0.2,
             "#de77ae"
            ],
            [
             0.3,
             "#f1b6da"
            ],
            [
             0.4,
             "#fde0ef"
            ],
            [
             0.5,
             "#f7f7f7"
            ],
            [
             0.6,
             "#e6f5d0"
            ],
            [
             0.7,
             "#b8e186"
            ],
            [
             0.8,
             "#7fbc41"
            ],
            [
             0.9,
             "#4d9221"
            ],
            [
             1,
             "#276419"
            ]
           ],
           "sequential": [
            [
             0,
             "#0d0887"
            ],
            [
             0.1111111111111111,
             "#46039f"
            ],
            [
             0.2222222222222222,
             "#7201a8"
            ],
            [
             0.3333333333333333,
             "#9c179e"
            ],
            [
             0.4444444444444444,
             "#bd3786"
            ],
            [
             0.5555555555555556,
             "#d8576b"
            ],
            [
             0.6666666666666666,
             "#ed7953"
            ],
            [
             0.7777777777777778,
             "#fb9f3a"
            ],
            [
             0.8888888888888888,
             "#fdca26"
            ],
            [
             1,
             "#f0f921"
            ]
           ],
           "sequentialminus": [
            [
             0,
             "#0d0887"
            ],
            [
             0.1111111111111111,
             "#46039f"
            ],
            [
             0.2222222222222222,
             "#7201a8"
            ],
            [
             0.3333333333333333,
             "#9c179e"
            ],
            [
             0.4444444444444444,
             "#bd3786"
            ],
            [
             0.5555555555555556,
             "#d8576b"
            ],
            [
             0.6666666666666666,
             "#ed7953"
            ],
            [
             0.7777777777777778,
             "#fb9f3a"
            ],
            [
             0.8888888888888888,
             "#fdca26"
            ],
            [
             1,
             "#f0f921"
            ]
           ]
          },
          "colorway": [
           "#636efa",
           "#EF553B",
           "#00cc96",
           "#ab63fa",
           "#FFA15A",
           "#19d3f3",
           "#FF6692",
           "#B6E880",
           "#FF97FF",
           "#FECB52"
          ],
          "font": {
           "color": "#2a3f5f"
          },
          "geo": {
           "bgcolor": "white",
           "lakecolor": "white",
           "landcolor": "#E5ECF6",
           "showlakes": true,
           "showland": true,
           "subunitcolor": "white"
          },
          "hoverlabel": {
           "align": "left"
          },
          "hovermode": "closest",
          "mapbox": {
           "style": "light"
          },
          "paper_bgcolor": "white",
          "plot_bgcolor": "#E5ECF6",
          "polar": {
           "angularaxis": {
            "gridcolor": "white",
            "linecolor": "white",
            "ticks": ""
           },
           "bgcolor": "#E5ECF6",
           "radialaxis": {
            "gridcolor": "white",
            "linecolor": "white",
            "ticks": ""
           }
          },
          "scene": {
           "xaxis": {
            "backgroundcolor": "#E5ECF6",
            "gridcolor": "white",
            "gridwidth": 2,
            "linecolor": "white",
            "showbackground": true,
            "ticks": "",
            "zerolinecolor": "white"
           },
           "yaxis": {
            "backgroundcolor": "#E5ECF6",
            "gridcolor": "white",
            "gridwidth": 2,
            "linecolor": "white",
            "showbackground": true,
            "ticks": "",
            "zerolinecolor": "white"
           },
           "zaxis": {
            "backgroundcolor": "#E5ECF6",
            "gridcolor": "white",
            "gridwidth": 2,
            "linecolor": "white",
            "showbackground": true,
            "ticks": "",
            "zerolinecolor": "white"
           }
          },
          "shapedefaults": {
           "line": {
            "color": "#2a3f5f"
           }
          },
          "ternary": {
           "aaxis": {
            "gridcolor": "white",
            "linecolor": "white",
            "ticks": ""
           },
           "baxis": {
            "gridcolor": "white",
            "linecolor": "white",
            "ticks": ""
           },
           "bgcolor": "#E5ECF6",
           "caxis": {
            "gridcolor": "white",
            "linecolor": "white",
            "ticks": ""
           }
          },
          "title": {
           "x": 0.05
          },
          "xaxis": {
           "automargin": true,
           "gridcolor": "white",
           "linecolor": "white",
           "ticks": "",
           "title": {
            "standoff": 15
           },
           "zerolinecolor": "white",
           "zerolinewidth": 2
          },
          "yaxis": {
           "automargin": true,
           "gridcolor": "white",
           "linecolor": "white",
           "ticks": "",
           "title": {
            "standoff": 15
           },
           "zerolinecolor": "white",
           "zerolinewidth": 2
          }
         }
        },
        "xaxis": {
         "anchor": "y",
         "domain": [
          0,
          1
         ],
         "title": {
          "text": "0"
         }
        },
        "yaxis": {
         "anchor": "x",
         "domain": [
          0,
          1
         ],
         "title": {
          "text": "1"
         }
        }
       }
      }
     },
     "metadata": {},
     "output_type": "display_data"
    }
   ],
   "source": [
    "# Take a sample of 1000 words from the dataset and plot in word embedding model using TSNE. \n",
    "\n",
    "sample_size = 1000\n",
    "sample_words = random.sample(urban_words,sample_size)\n",
    "found_words = [i for i in sample_words if i in model.wv.index_to_key]\n",
    "arr = model.wv[found_words]\n",
    "tsne = TSNE(2)\n",
    "t_arr = tsne.fit_transform(arr)\n",
    "plot_df = pd.DataFrame(t_arr)\n",
    "plot_df[\"words\"] = found_words\n",
    "fig = px.scatter(plot_df,x=0, y=1,hover_data= [\"words\"])\n",
    "\n",
    "fig.write_html(\"sample_2d.html\")\n",
    "fig.show()\n",
    "\n"
   ]
  },
  {
   "cell_type": "code",
   "execution_count": 30,
   "metadata": {},
   "outputs": [
    {
     "data": {
      "application/vnd.plotly.v1+json": {
       "config": {
        "plotlyServerURL": "https://plot.ly"
       },
       "data": [
        {
         "customdata": [
          [
           "boongaphile!",
           [
            "cooniferosity",
            "KITZI",
            "Norwich?",
            "dickhater",
            "Jopler!",
            "Gumboots",
            "Kittrick",
            "Cigaroochie",
            "THREAT",
            "brain-coffee."
           ]
          ],
          [
           "Jolonda",
           [
            "wat's",
            "Progress'",
            "imati0n",
            "....Ummm,",
            "mbuji",
            "a09gw3j0",
            "imm",
            "lub.",
            "Lodve!",
            "FAVE"
           ]
          ],
          [
           "colin!!!",
           [
            "\"meh...she's",
            "fabuslut",
            "lucky!!\"",
            "Darinee",
            "(uh)",
            "Yancie",
            "olats.",
            "SHMEEGLE",
            "\"Uy!",
            "LAMSCLAMSC"
           ]
          ],
          [
           "Rienhard",
           [
            "ridgain",
            "Kindi!",
            "Kittrick",
            "blindshot",
            "rettun!",
            "iiUnderLaw",
            "Jaize",
            "luxma",
            "bl♤ze",
            "bozzly"
           ]
          ],
          [
           "cooniferosity",
           [
            "Boconaninrfinugo",
            "beachbumbabe",
            "Coraliza\"",
            "Engkau",
            "SNOWY",
            "man:Buhari",
            "BLUBBIE",
            "cockshinner",
            "Book;",
            "alleygator"
           ]
          ],
          [
           "fore?\"",
           [
            "sexiness',",
            "uup",
            "marlecimer",
            "CHARLOTTE",
            "craccin",
            "awdwad",
            "Yessen!",
            "User1:well",
            "stoko",
            "(hop)(hop)(hop)(hop)(hop)"
           ]
          ],
          [
           "cooq",
           [
            "xXxLeGiTsNiPeZxXx",
            "pind",
            "Talento",
            "Banterogenous",
            "Manipesto.",
            "righhtt",
            "tagline",
            "ClouStar”",
            "fuh-namm-jew-lay-shun::",
            "'Phil"
           ]
          ],
          [
           "communitychannel",
           [
            "hmmp",
            "Kittrick",
            "shizzlinman.",
            "Megan:it",
            "raggett.",
            "cornographic.",
            "tittytickled",
            "Camelio",
            "AROUSAL",
            "bafago"
           ]
          ],
          [
           "\"WUSHH",
           [
            "Facepalm",
            "(disgustng",
            "HORIZON",
            "~xXNonTrollFeedahXx:",
            "Giggle-hoot",
            "\"Mh",
            "browdi",
            "wHaT",
            "YAI",
            "howya"
           ]
          ],
          [
           "cockafucka",
           [
            "😘😍💋",
            "Banjade",
            "fucking..",
            "Chaccaron",
            "Ranu",
            "BERLIN",
            "(famous",
            "danetworkqueen",
            "bəˈlōnē",
            "“t”)"
           ]
          ],
          [
           "Elina",
           [
            "€_×&@",
            "allowscriptaccess=\"always\"",
            "sidif",
            "|_¥",
            "Finnish:",
            "xpr,b",
            "̭̑",
            "mẹ",
            "elamin",
            "clanul"
           ]
          ],
          [
           "Mini-wheats?",
           [
            "OOBLERGASM",
            "AUNG",
            "HiS",
            "cripgangstablood:",
            "ⓩ",
            "umřel",
            "tukan",
            "pasti",
            "CaN",
            "l337:"
           ]
          ],
          [
           "SUKI",
           [
            "Nai",
            "gamisou",
            "kaayo",
            "baap",
            "WiTh",
            "ε",
            "ostaa",
            "OR.",
            "c^2",
            "זה"
           ]
          ],
          [
           "CROCK",
           [
            "great-cousin-niece",
            "meks.",
            "ETC",
            "great-cousin-nibling",
            "hgoh",
            "half-first",
            "double-first",
            "cousin-nephew",
            "cousin-pibling",
            "cousin-pibling-in-law"
           ]
          ],
          [
           "(18:01:34)",
           [
            "h$",
            "`sec)",
            "̡̡͙̥̳̤͉͕͚͇̥̥̇̉̍͋̋̉̄͊̅̈́͗̾̕͜͝͠ͅ",
            "nó",
            "đi",
            "elamin",
            "̱͚̭̗͙̭̗̞̲̬̻̉̄͜ͅŢ̶̯͕̖̃̓͒̓ͅͅA",
            "̺̪̈́̔F",
            "narodov",
            "ﾉ⌒＼"
           ]
          ],
          [
           "nuptiis",
           [
            "aN",
            "‘De",
            "Tearer",
            "Vittu",
            "Mercurii’.)",
            "SpookieMum,",
            "0r",
            "vittu",
            "Balding",
            "chúng"
           ]
          ],
          [
           "f012",
           [
            "O=*BBB*",
            "на",
            "̛̛̞̖̮̥̭̫͙̞́̏̓̃̿̚͝t",
            "𝘰𝘯",
            "𝘪𝘯",
            "libelous",
            "type=\"application/x-shockwave-flash\"",
            "זה",
            "دونالد",
            "̵̯̏͜u̴̹̫̇p"
           ]
          ],
          [
           "Kearsten",
           [
            "Nai",
            "أنانا",
            "*drools*",
            "heudidn!",
            "CrisArriaran10",
            "∠",
            "prettyful",
            "Trinary:",
            "Domo",
            "fjkl;a"
           ]
          ],
          [
           "lukisantos",
           [
            "nihtos",
            "gwtos,",
            "Finnish:",
            "𝘺𝘰𝘶",
            "ձեր",
            "זה",
            "̶c̶o̶m̶i̶c̶",
            "не",
            "yra",
            "у"
           ]
          ],
          [
           "funwes:",
           [
            "leucylmethionyltyrosylalanylasparaginylleucylvalylphenylalanyl-",
            "punya",
            "и",
            "_|_",
            "fOr",
            "quis",
            "jadi",
            "אתה",
            "hàng",
            "zail"
           ]
          ],
          [
           "vegito",
           [
            "anzah!",
            "mackinzie",
            "8????!!!!",
            "Greenbank",
            "Kinhly",
            "sphunky!",
            "Pashience",
            "ellybruce14",
            "Poofaloof",
            "ybquest"
           ]
          ],
          [
           "8????!!!!",
           [
            "Poofaloof",
            "kostin",
            "Dahliya",
            "Non-arab:",
            "Delenies",
            "mackinzie",
            "iteqaan",
            "Kishjita",
            "syamirah",
            "pashience"
           ]
          ],
          [
           ".very",
           [
            "LOUIEGIE:",
            "perrell",
            "retrid",
            "Innex:",
            "'skeenarific'",
            "sweatstache",
            "Mfon",
            "nhỏ",
            "Supattra:",
            "TESTICULAR"
           ]
          ],
          [
           "arishan",
           [
            "snooregasm!\"",
            "Non-arab:",
            "mackinzie",
            "antigenderroleness.",
            "Xtreeeeem!!\"",
            "ellybruce14",
            "Elram",
            "Poofaloof",
            "daveion",
            "pashience"
           ]
          ],
          [
           "mackinzie",
           [
            "Non-arab:",
            "habibi...",
            "8????!!!!",
            "anzah!",
            "vegito",
            "Poofaloof",
            "LOUIEGIE:",
            "Pashience",
            "sphunky!",
            "hayati..inta"
           ]
          ],
          [
           "Poofaloof",
           [
            "8????!!!!",
            "anzah!",
            "mackinzie",
            "twitglish",
            "Winterkalte",
            "<lasd>:no",
            "band).",
            "Pashience",
            "vegito",
            "Giovannie,"
           ]
          ],
          [
           "antokins",
           [
            "saxyyyy",
            ".very",
            "davynus",
            "Aneesah\"",
            "LOUIEGIE:",
            "shmoo.",
            "dbtard0",
            "ellybruce14",
            "Dannilynns",
            "Elyahna"
           ]
          ],
          [
           "Orakpophobia.",
           [
            "lynne\"",
            "Ensarssss",
            "perrell",
            "Appleyte",
            "brenreaper",
            "nuro",
            "8????!!!!",
            "Mfon",
            "SUPERWATCHER",
            "Aneesah\""
           ]
          ],
          [
           "T3castillo",
           [
            "iteqaan",
            "8????!!!!",
            "mackinzie",
            "pirateability,",
            "Xtreeeeem!!\"",
            "sweetstratus'",
            "sphunky!",
            "ellybruce14",
            "Non-arab:",
            "anniie"
           ]
          ],
          [
           "Oefinger",
           [
            "elllllllloise",
            "blurr!\"",
            "tapalicious!",
            "geske!\"",
            "furvidence",
            "Gondwhore,",
            "EnderR",
            "mixalieros",
            "chewercorkyjessica",
            "jizzkrieg,"
           ]
          ],
          [
           "mark:",
           [
            "billy:",
            "kevin:",
            "ryan:",
            "chris:",
            "jake:",
            "sarah:",
            "josh:",
            "jim:",
            "jeff:",
            "steve:"
           ]
          ],
          [
           "-hey",
           [
            "'hey",
            "-yo",
            "''hey",
            "-Yo",
            "'yo",
            "yoo",
            "''Hey",
            "-\"yo",
            "''Yo",
            "(Hey"
           ]
          ],
          [
           "chad:",
           [
            "kyle:",
            "man1:",
            "jordan:",
            "david:",
            "fred:",
            "kid1:",
            "jeff:",
            "ashley:",
            "paul:",
            "yesh"
           ]
          ],
          [
           "awwww",
           [
            "oooo",
            "aha",
            "Awwwww",
            "Oo",
            "ooooo",
            "dammmn",
            "awh",
            "ummmmm",
            "ayyy",
            "lololol"
           ]
          ],
          [
           "daaaang",
           [
            "“Period.",
            "Darryl,DeShawn,",
            "kwasan",
            "\"Høra",
            "Noh",
            "lllllllllllllllll",
            "sagittis.",
            "Gisselle,",
            "rafael",
            "ملهم"
           ]
          ],
          [
           "diay'g",
           [
            "pisti!!!",
            "gapaUTOG",
            "Yaow",
            "piao",
            "ste",
            "bener",
            "\"Ese",
            "Pepovo",
            "Hei",
            "rafael"
           ]
          ],
          [
           "W2te",
           [
            "boy1:",
            "awhh",
            "-Shit",
            "heyyyy",
            "bwh",
            "kakta,",
            "#bethebestyou",
            "b;",
            "row:",
            "alreet"
           ]
          ],
          [
           "boy1:",
           [
            "tyler:",
            "boy2:",
            "kid1:",
            "ryan:",
            "kevin:",
            "man1:",
            "brian:",
            "jake:",
            "billy:",
            "mark:"
           ]
          ],
          [
           "ooohh",
           [
            "yesh",
            "aaa",
            "lel",
            "lmaoo",
            "mmmmmmm",
            "hola",
            "ilysfm",
            "i-",
            "ashley:",
            "brrap"
           ]
          ],
          [
           "PAncake",
           [
            "ChobEy",
            "hAS",
            "t0tal",
            "Allahu",
            "nahui",
            "OHHHHH",
            "anh",
            "rafael",
            "wei",
            "OOOOOOOOOOOOOOO"
           ]
          ],
          [
           "lorka",
           [
            "brits",
            "dumm",
            "Bouli",
            "madra",
            "turd-tickling,",
            "Avada",
            "mothalova",
            "ScreenName1:",
            "newfag",
            "yipsilon;"
           ]
          ],
          [
           "monos",
           [
            "Observant,",
            "fedeil",
            "menjadi",
            "7755",
            "ddawnus",
            "𝖇𝖊𝖎𝖓𝖌",
            "8186",
            "и",
            "मारा",
            "̭̑"
           ]
          ],
          [
           "Noice",
           [
            "Ahhhhhhhhhhh",
            "Waa",
            "Ahhhhhhh",
            "mothalova",
            "RAWR",
            "BATMAN",
            "Hoi",
            "Thanx",
            "Nein",
            "Touche"
           ]
          ],
          [
           "\"Die",
           [
            "werden",
            "kurva",
            "sih",
            "lồn",
            "nf",
            "mukha",
            "Persian:",
            "и",
            "punya",
            "Leben"
           ]
          ],
          [
           "Efficiency",
           [
            "22LR",
            "3amel",
            "인종",
            "Bathe",
            "vụ",
            "saamiye",
            "puzzi",
            "̵͓͈͌̒̃̍",
            "alaikum",
            "Wu!!\""
           ]
          ],
          [
           "llt",
           [
            "Meinungsfreiheit",
            "wavela",
            "menjadi",
            "◕_◕",
            "fajny",
            "̛̛̞̖̮̥̭̫͙̞́̏̓̃̿̚͝t",
            "fä",
            "yimipu",
            "̛̘͔̟̖̪̠̘̟̓̓͐̊̄̔c̴̗͚̮̠̦̠͔͗̍̐̃̋̾̾o̴̹̪̥̩̜̥̿́̀͆͗̑̕s̵̺̯͕̲͍͇̖̩̼̯̻͇̻͕͜͝",
            "̬̑̚e"
           ]
          ],
          [
           "3amel",
           [
            "и",
            "chơi",
            "נדיר",
            "0r",
            "gha",
            "saamiye",
            "shoma",
            "qed",
            "þú",
            "mẹ"
           ]
          ],
          [
           "Gloves,",
           [
            "и",
            "=en&fs=1\"></param><param",
            "\"Barrows\"",
            "name=\"allowFullScreen\"",
            "𝘰𝘯",
            "Ranging,",
            "◎",
            "nó",
            "type=\"application/x-shockwave-flash\"",
            "Dragonfire"
           ]
          ],
          [
           "T.B",
           [
            "alaikum",
            "~xXNonTrollFeedahXx:",
            "kurva",
            "PHAIL",
            "./.",
            "Howzit",
            "bello",
            "RAWR",
            "Www",
            "LO"
           ]
          ],
          [
           "Ahhhhhhhhhhh",
           [
            "ARG",
            "Ahhhhhhhhhhhhh!",
            "Ahahahahaha",
            "Unbelievable",
            "Noice",
            "Headshot",
            "BREAKER",
            "Grrrrr",
            "HongKonger",
            "Achoo"
           ]
          ],
          [
           "Novel",
           [
            "Website",
            "Lux",
            "Rebellion",
            "Corporation",
            "Index",
            "Internal",
            "Prodigy",
            "Quarterback",
            "Fringe",
            "Testing"
           ]
          ],
          [
           "Socinus",
           [
            "Laelius",
            "century),",
            "wuxian",
            "Miggins",
            "Tattle",
            "arms):",
            "RETTES,",
            "Distin",
            "snowva)",
            "A.S"
           ]
          ],
          [
           "trollface",
           [
            "huggles",
            "rm",
            "Sprays",
            "facepalm",
            "define.php",
            "!!*",
            "shizniz",
            "edu",
            "8===D",
            "sniggers"
           ]
          ],
          [
           "adv",
           [
            "adj",
            "\"Porko",
            "Plural",
            "Borg",
            "Dirtay",
            "Shocking",
            "TM",
            "Lux",
            "edu",
            "Guru's"
           ]
          ],
          [
           "Twit",
           [
            "Splat",
            "Alfa",
            "Quotation",
            "bello",
            "~xXNonTrollFeedahXx:",
            "Engaged",
            "(BOOM)",
            "Orgasm",
            "Snail",
            "Pyro"
           ]
          ],
          [
           "Narwhal",
           [
            "Ambassador,",
            "Celebration",
            "Pilgrim's",
            "Amputee",
            "Turds",
            "HipHop",
            "Stash",
            "Hoosier",
            "Chandelier",
            "Pammy"
           ]
          ],
          [
           "HipHop",
           [
            "mutta",
            "kuin",
            "oF",
            "Phop",
            "(1975)",
            "C4N",
            "и",
            "có",
            "η",
            "huggles"
           ]
          ],
          [
           "173",
           [
            "༽つ",
            "Generajamaja-eja",
            "chhele,",
            "◕_◕",
            "JIVE",
            "çakılır",
            "guarin,",
            "Y=BB***",
            "cuore",
            "ostaa"
           ]
          ],
          [
           "optimism",
           [
            "nihilism",
            "insurrection",
            "apathy",
            "piracy",
            "spirituality",
            "reverence",
            "GD",
            "'x'",
            "sustainability",
            "TTFN"
           ]
          ],
          [
           "P.S",
           [
            "T.S",
            "DECKER",
            "A.C",
            "adv",
            "Headshot",
            "Saranghae",
            "Rafy",
            "adj",
            "ARG",
            "H15"
           ]
          ],
          [
           "scheme's",
           [
            "dolten",
            "Lehnsherr's",
            "demented",
            "nests.",
            "Martha-She",
            "loris",
            "Sigaw,",
            "hunters—been",
            "souppa",
            "Descartes"
           ]
          ],
          [
           "patriotism",
           [
            "well-being",
            "mastery",
            "ignorance",
            "ineptitude",
            "testimony",
            "brilliance",
            "integrity",
            "observation",
            "innocence",
            "delusions"
           ]
          ],
          [
           "achievements",
           [
            "actions,",
            "shortcomings",
            "entourage",
            "involvement",
            "treachery",
            "enjoyment",
            "associates",
            "wealth.",
            "accuracy",
            "ineptitude"
           ]
          ],
          [
           "gayness",
           [
            "hysteria",
            "stupidity",
            "rejection",
            "awesomeness",
            "aggression",
            "ineptitude",
            "ignorance",
            "accuracy",
            "faggotry",
            "worldview"
           ]
          ],
          [
           "aggression",
           [
            "hysteria",
            "frustration",
            "jealousy",
            "betrayal",
            "alcoholism",
            "resentment",
            "inherent",
            "arousal",
            "memory,",
            "countenance"
           ]
          ],
          [
           "tentacles",
           [
            "pecks",
            "predecessor",
            "buttox",
            "maggots",
            "cranium",
            "settah",
            "gait",
            "blowhole",
            "noggin",
            "progeny"
           ]
          ],
          [
           "accuracy",
           [
            "incompetence",
            "actions,",
            "credibility",
            "dexterity",
            "momentum",
            "attributes",
            "interaction",
            "connections",
            "achievements",
            "parameters"
           ]
          ],
          [
           "smoothness",
           [
            "buttox",
            "vajayjay",
            "nightstand",
            "downfall",
            "noggin",
            "ineptitude",
            "esophagus",
            "gills",
            "crevasse",
            "uniqueness"
           ]
          ],
          [
           "tenacity",
           [
            "conquest",
            "entourage",
            "involvement",
            "accuracy",
            "downfall",
            "supplier",
            "refinement",
            "mastery",
            "conviction",
            "integrating"
           ]
          ],
          [
           "torso",
           [
            "forearm",
            "clitoris",
            "buttocks",
            "partner's",
            "pelvis",
            "manliness",
            "arch",
            "manhood",
            "fist.",
            "chin."
           ]
          ],
          [
           "diked",
           [
            "ach",
            "û",
            "dud3",
            "WEEZY",
            "vocal),",
            "До",
            "_/",
            "TheDarkKnightBruce:",
            "tukan",
            "Matti:"
           ]
          ],
          [
           "\"Huh\"",
           [
            "Hein",
            "\"no.\"",
            "pupas",
            "Boozetub",
            "-Ben",
            "Coo'",
            "mothalova",
            "\"Haha!\"",
            "McYummy",
            "-Gaz."
           ]
          ],
          [
           "\"Pēteri,",
           [
            "Jānis",
            "vidi",
            "làm",
            "đo",
            "gì,",
            "jsem",
            "wItH",
            "iM",
            "nhoJ",
            "namorada"
           ]
          ],
          [
           "roger",
           [
            "neef",
            "\"sup",
            "nanners",
            "char",
            "bror",
            "jhon",
            "ili",
            "Vidi",
            "buey",
            "coony"
           ]
          ],
          [
           "oida",
           [
            "znowu",
            "что",
            "hoffi",
            "tidak",
            "ibu",
            "senin",
            "ned\"",
            "𝘁𝗼",
            "ahre",
            "(shameless)"
           ]
          ],
          [
           "tetahydrocannabinol",
           [
            "011001001111010101010011010101000011001100",
            "h3",
            "amq",
            "kala",
            "hai?",
            "nghiệp",
            "#???",
            "Polnareff:",
            "cluber...",
            "Ngentot"
           ]
          ],
          [
           "Brother:\"Since",
           [
            "week,Nannuk",
            "Sister:\"where",
            "Dolas:",
            "Trab\"",
            "reedly",
            "lhluov",
            "hebt",
            "1n",
            "Sí,",
            "T-Tom,"
           ]
          ],
          [
           "Yeah-huh",
           [
            "-Gaz.",
            "\"Nuh-uh!\"",
            "COWABUNGA",
            "Aku",
            "̛̛̞̖̮̥̭̫͙̞́̏̓̃̿̚͝t",
            "mothalova",
            "\"Cool!\"",
            "gET",
            "8===D",
            "RULZ"
           ]
          ],
          [
           "YEAHH!",
           [
            "OUTFIT",
            "moat!\"",
            "YEAHHH",
            "TOASTY",
            "aZn",
            "Menz",
            "ROASTY",
            "sul",
            "hatiw",
            "memang"
           ]
          ],
          [
           "\"YES!\"",
           [
            "có",
            "가내",
            ".................",
            "przez",
            "cái",
            "\"Hey!\"",
            "+/7",
            "خوارك",
            "GooD",
            "unakku"
           ]
          ],
          [
           "W",
           [
            "H",
            "M",
            "S",
            "W.",
            "T",
            "Bush,",
            "P.",
            "Roosevelt",
            "Clooney",
            "C."
           ]
          ],
          [
           "Noble",
           [
            "Barnes",
            "Kumar",
            "Neal",
            "Hugo",
            "Eddy",
            "O.J.",
            "Misty",
            "Norton",
            "Coyote",
            "Kath"
           ]
          ],
          [
           "Kirk",
           [
            "Gordon",
            "Wallace",
            "Dwight",
            "J.",
            "Gene",
            "Colbert",
            "Stephen",
            "Picard",
            "Woody",
            "Sergeant"
           ]
          ],
          [
           "Cheech",
           [
            "Lex",
            "Mat",
            "Chang",
            "T-Bone",
            "Eileen",
            "Jules",
            "Nolan",
            "Lamar",
            "Mari",
            "Nicky"
           ]
          ],
          [
           "Grdo",
           [
            "\"Two-hatted\"",
            "Sutcliffe",
            "Stricken",
            "claprolled",
            "Bunneh",
            "Clash,",
            "Fenimore",
            "Wailers",
            "Chauv",
            "Floy-Floy,"
           ]
          ],
          [
           "Winston",
           [
            "Douglas",
            "Kane",
            "Churchill",
            "Murray",
            "Frederick",
            "Wallace",
            "Lloyd",
            "Nelson",
            "Hugo",
            "Gregory"
           ]
          ],
          [
           "Wesson",
           [
            "Serena",
            "Jaime",
            "Lex",
            "Curtis",
            "Bert",
            "Elliot",
            "Dante",
            "Boris",
            "Kenneth",
            "JR"
           ]
          ],
          [
           "Nixon",
           [
            "Abbott",
            "Branson",
            "Stalin",
            "Pence",
            "Hugo",
            "Santorum",
            "Roe",
            "Roosevelt",
            "Vladimir",
            "Bush,"
           ]
          ],
          [
           "Jekyll",
           [
            "Lt",
            "Miggins",
            "Weiry",
            "Wailers",
            "Hyde",
            "Colmes",
            "Kiery",
            "S.P",
            "Flea",
            "PB"
           ]
          ],
          [
           "Robinson",
           [
            "F.",
            "Murray",
            "Ferguson",
            "L.",
            "Phillips",
            "Abbott",
            "Downey",
            "Nelson",
            "Turner",
            "Powell"
           ]
          ],
          [
           "gayest",
           [
            "sexiest",
            "dumbest",
            "smartest",
            "ugliest",
            "coolest",
            "nicest",
            "strongest",
            "funniest",
            "chillest",
            "dopest"
           ]
          ],
          [
           "saddest",
           [
            "gayest",
            "scariest",
            "dopest",
            "lamest",
            "grossest",
            "strongest",
            "shittiest",
            "dumbest",
            "funnest",
            "toughest"
           ]
          ],
          [
           "dopest",
           [
            "realist",
            "illest",
            "realest",
            "gayest",
            "sickest",
            "shittiest",
            "flyest",
            "fakest",
            "saddest",
            "strongest"
           ]
          ],
          [
           "shittiest",
           [
            "dopest",
            "greatest",
            "strongest",
            "gayest",
            "saddest",
            "stupidest",
            "largest",
            "weirdest",
            "purest",
            "oldest"
           ]
          ],
          [
           "fakest",
           [
            "dopest",
            "lamest",
            "fittest",
            "kindest",
            "saddest",
            "realist",
            "gayest",
            "raddest",
            "best!!!",
            "awesomest"
           ]
          ],
          [
           "awsomest",
           [
            "awesomest",
            "funnest",
            "kindest",
            "raddest",
            "friendliest",
            "fluffiest",
            "purest",
            "male-female",
            "stallion!",
            "evar"
           ]
          ],
          [
           "greatest",
           [
            "best",
            "gayest",
            "shittiest",
            "coolest",
            "strongest",
            "funniest",
            "worst",
            "sexiest",
            "sweetest",
            "largest"
           ]
          ],
          [
           "chillest",
           [
            "gayest",
            "nicest",
            "smartest",
            "kindest",
            "coolest",
            "sweetest",
            "ugliest",
            "whitest",
            "sexiest",
            "realest"
           ]
          ],
          [
           "funniest",
           [
            "coolest",
            "dumbest",
            "sweetest",
            "gayest",
            "stupidest",
            "nicest",
            "ugliest",
            "weirdest",
            "sexiest",
            "greatest"
           ]
          ],
          [
           "sweetest",
           [
            "nicest",
            "ugliest",
            "prettiest",
            "coolest",
            "cutest",
            "kindest",
            "smartest",
            "sexiest",
            "funniest",
            "hottest"
           ]
          ],
          [
           "ahhawww",
           [
            "ashnamablika",
            "margit",
            "Noz",
            "INS,",
            "Shmeuly-",
            "*cry*",
            ",Get",
            "अमेरिकाको",
            "U-GOD",
            "ok?)"
           ]
          ],
          [
           "TKER",
           [
            "##############",
            "Garry:What",
            "birthDEEEH",
            "<MisterTastee>",
            "Jerry:####",
            "bootiful",
            "हो",
            "PAPAPAAAANTTT",
            "WhitNiggs",
            "'.`·————·´.'"
           ]
          ],
          [
           ":fuck",
           [
            "ppaignt!\"",
            "reginarevenge.",
            "Wellessley",
            "𝘶𝘱.",
            "ftit",
            "bet!,",
            "ajjxjdj",
            "!@&$in",
            "Kn0w?",
            "Hindley"
           ]
          ],
          [
           "nitwitted",
           [
            "quackhole",
            "go0d",
            "mom:fuck",
            "(Did",
            "(Do",
            "Kn0w?",
            "grick",
            "Kus",
            "*deliberlag*",
            "husam"
           ]
          ],
          [
           "Beck!",
           [
            "\"What!\"",
            "rfrf",
            "(Alright",
            "bigeater!",
            "𝘣𝘪𝘳𝘵𝘩𝘥𝘢𝘺",
            "w17",
            "Say.",
            "jyp!",
            "bEtTer",
            "dodda"
           ]
          ],
          [
           "Ata",
           [
            "bEAUTIFUL!",
            "prosta",
            "Leben",
            "MAP",
            "Pr0N0XiiDe",
            "WO",
            "s'ti",
            "Ashkan:",
            "⣯⢯⣟⠸⣳⡅⠜⠔⡌⡐⠈⠻⠟⣿⢿⣿⣿⠿⡻⣃⠢⣱⡳⡱⡩⢢⠣⡃⠢⠁",
            "Bien"
           ]
          ],
          [
           "debbie:",
           [
            "roflol",
            "EWWWWWWW",
            "j/k",
            "MASTI",
            "AHHHHHHHHHHH",
            "WHOOO",
            "Sashi",
            "kdc",
            "KNIVEN",
            "supar"
           ]
          ],
          [
           "yoouuu",
           [
            "Hi-5",
            "eeeeee",
            "BOON",
            "LO",
            "Alles",
            "WHA",
            "UNE",
            "y@",
            "Kartel",
            "*dead*"
           ]
          ],
          [
           "husam",
           [
            "go0d",
            "r0x0rs",
            "kutha",
            "RONNIE",
            "ENO",
            "DEITCHMAN",
            "YAI",
            "11111",
            "SHhhh!",
            "biftch"
           ]
          ],
          [
           "shift-pinky",
           [
            "snail-car",
            "rbk",
            "Cher:",
            "falaival",
            "Wellessley",
            "𝕕𝕚𝕕",
            "ShakeParis",
            "𝗶𝗱𝗸",
            "YOUWEI'",
            "….\\…………..(………."
           ]
          ],
          [
           "Glee",
           [
            "Anatomy",
            "HBO",
            "Avatar",
            "SNL",
            "Tosh.0",
            "Futurama",
            "ESPN",
            "PBS",
            "reruns",
            "Nemo"
           ]
          ],
          [
           "girl)...",
           [
            "PushySaiyan",
            "(Whilst",
            "Vs.,",
            "revvers",
            "Covella",
            "(While",
            "flashtoon",
            "*while",
            "hashish",
            "tumblring"
           ]
          ],
          [
           "cams*",
           [
            "*While",
            "(Whilst",
            "BRIM",
            "Whalley",
            "Jumin:",
            "Yadadamean",
            "Yelling",
            "Panicking",
            "stubble-",
            "Wa-Wa"
           ]
          ],
          [
           "SorestMercury",
           [
            "film:",
            "Hentai*",
            "webunculus.",
            "Savaan",
            "\"Supernatural\".",
            "goatnoob10",
            "hawk-eyed!",
            "self-castration",
            "-rubs",
            "HELLO???"
           ]
          ],
          [
           "Savaan",
           [
            "Niaje",
            "sash_shinobi",
            "enke",
            "SKREEEEEEEEEEEEEE!!!!!!",
            "PushySaiyan",
            "Isosp",
            "spadeS",
            "ihkh!",
            "geo?",
            "KDH"
           ]
          ],
          [
           "PushySaiyan",
           [
            "girl)...",
            "Savaan",
            "(Continues",
            "Feresk",
            "kirisd3ad's",
            "greys",
            "sci-fi.",
            "film:",
            "revvers",
            "Vs.,"
           ]
          ],
          [
           "Foals",
           [
            "'siiiiighhhhhh.",
            "Savaan",
            "Saginaw",
            "Backyardigans",
            "Anchorman",
            "Keshy",
            "FECN,",
            "Veronykah",
            "scrumpets",
            "Toddler's"
           ]
          ],
          [
           "wwf",
           [
            "tutto",
            "rem,",
            "patkata",
            "efnet",
            "Qsh",
            "vanavond",
            "EvAr",
            "io",
            "Sci-Curious.",
            "tumblring"
           ]
          ],
          [
           "DeSyncro",
           [
            "chatroulette",
            "Jeopardy",
            "tiktok”””””",
            "Pornhub",
            "anoyingalex",
            "11/11",
            "snadi",
            "Glee",
            "T.V",
            "deviantART"
           ]
          ],
          [
           "hawk-eyed!",
           [
            "rodeo)",
            "reruns",
            "tv,",
            "Sprinklegate",
            "Stefanou",
            "cartoons",
            "Moxley",
            "binge",
            "Kamrin",
            "re-runs"
           ]
          ],
          [
           "𝚒𝚝𝚜",
           [
            "14-20th",
            "𝚈𝚘𝚞",
            "𝚋𝚛𝚒𝚝𝚝𝚊𝚗𝚢,",
            "𝚔𝚗𝚘𝚠",
            "𝚠𝚑𝚊𝚝",
            "lang,",
            "Bebic,",
            "jsem",
            "tHis",
            "aN"
           ]
          ],
          [
           "divertida",
           [
            "lugha",
            "É",
            "dois",
            "Bronca",
            "să",
            "ENGLISH",
            "és",
            "lá",
            "hamesha",
            "Shey"
           ]
          ],
          [
           "'American",
           [
            "Woozle",
            "\"America's",
            "Guru's",
            "Tears,",
            "и",
            "Ashkan:",
            "1b.",
            "До",
            "SHELBY",
            "NeW"
           ]
          ],
          [
           "nella",
           [
            "lekker",
            "É",
            "mga",
            "foi",
            "sou",
            "jävla",
            "és",
            "mes",
            "ani",
            "cette"
           ]
          ],
          [
           "Chicage",
           [
            "Mehmet",
            "KAWAII",
            "dchen",
            "sparadox....",
            "mind-numbing,",
            "Rascal,",
            "NAMAN",
            "INA",
            "IT's",
            "m."
           ]
          ],
          [
           "guey!",
           [
            "hablar",
            "stanno",
            "essa",
            "és",
            "ningún",
            "konim",
            "qué",
            "tranquilo",
            "mata",
            "zio"
           ]
          ],
          [
           "ENGLISH",
           [
            "SPANISH",
            "DARK",
            "HATER",
            "HEART",
            "TAYLOR",
            "DRILL",
            "MEIN",
            "DEN",
            "SEXUAL",
            "NORTH"
           ]
          ],
          [
           "SUGOI",
           [
            "SQUIRTS",
            "COSMIC",
            "RAPPER",
            "AHHHHHHHHHHH",
            "ASSBOY",
            "dEaD",
            "WAIFU",
            "PHAIL",
            "ARG",
            "MEDIC"
           ]
          ],
          [
           "womyn",
           [
            "Crass,",
            "Publius",
            "Hinduism",
            "left-wing",
            "Siggy:",
            "enslavement",
            "Razzle",
            "Punjab",
            "Trewby,",
            "INTERNAL"
           ]
          ],
          [
           "Oe",
           [
            "kurva",
            "unde",
            "jsem",
            "frio",
            "Leben",
            "Urusai",
            "mẹ",
            "NAHUI",
            "š",
            "Amon"
           ]
          ],
          [
           "ganyan",
           [
            "kaya",
            "ena",
            "wala",
            "nanaman",
            "niya",
            "otso",
            "habang",
            "jak",
            "akong",
            "kurwa"
           ]
          ],
          [
           "apne",
           [
            "gand",
            "kaam",
            "aur",
            "sono",
            "Abey",
            "aaj",
            "wir",
            "não",
            "kaya",
            "mou"
           ]
          ],
          [
           "na.",
           [
            "<girl",
            "với",
            "ena",
            "toh",
            "YoUr",
            "gEt",
            "WO",
            "kurac",
            "hOw",
            "Sta"
           ]
          ],
          [
           "bacha",
           [
            "aaj",
            "nanaman",
            "bhai",
            "haya",
            "itni",
            "bitte",
            "seine",
            "werden",
            "kha",
            "þ"
           ]
          ],
          [
           "kaya",
           [
            "ei",
            "gand",
            "ena",
            "bhi",
            "toh",
            "akong",
            "itna",
            "bahut",
            "apne",
            "sou"
           ]
          ],
          [
           "ég",
           [
            "að",
            "dzisiaj",
            "mikill",
            "WO",
            "sangat",
            "на",
            "не",
            "dengan",
            "fOr",
            "Kapitan"
           ]
          ],
          [
           "danaffy",
           [
            "ganyan",
            "kaya",
            "danaffy!!",
            "hvor",
            "ook",
            "yesh",
            "kahit",
            "zou",
            "akong",
            "thaz"
           ]
          ],
          [
           "zi",
           [
            "ei",
            "kaha",
            "haya",
            "sch",
            "hain",
            "zou",
            "mata",
            "bani",
            "š",
            "tá"
           ]
          ],
          [
           "mata",
           [
            "kau",
            "nanaman",
            "gand",
            "einai",
            "esti",
            "suka",
            "eisai",
            "să",
            "jamais",
            "meu"
           ]
          ],
          [
           "hain",
           [
            "Yaar",
            "jävla",
            "aia",
            "\"Ich",
            "hoje",
            "hamesha",
            "kau",
            "haya",
            "kuch",
            "esti"
           ]
          ],
          [
           "Claire:💥💥💥",
           [
            "🚬",
            "Claire:👌",
            "Claire:💦",
            "Claire:🚼",
            "DBAH",
            "Bunidged..",
            "URBANDICTIONARY-IT,",
            "Dude..",
            "͍̺̳ances̋ͪ̚t̵",
            "Andy--\""
           ]
          ],
          [
           "*orgasms*",
           [
            "*coughs*",
            "DBAH",
            "*cums*",
            "*farts*",
            "*gasps*",
            "Excellent!",
            ".........................",
            "🚬",
            "Perfection.",
            "UUUEEGGHH?!?!"
           ]
          ],
          [
           "bWobWob",
           [
            "WobWo",
            "obWobWobWob",
            "Ministry,",
            "-exhale-",
            "Garg",
            "Perfection.",
            "🚬",
            "goooooooo!\"",
            "drawl*",
            "HeY"
           ]
          ],
          [
           "L(-.-L)",
           [
            "Xien",
            "Puo",
            "Face*",
            "ATTN",
            "HeY",
            "🐷",
            "100030041034041003022",
            "Crosby,Evgeni",
            "cAn",
            "yoU"
           ]
          ],
          [
           "SRZ",
           [
            "BZNZ",
            "*breathes*",
            "serious.'",
            "25152119210312",
            "Maintenant",
            "221120210200021010110",
            "Decimal:",
            "punda",
            "★",
            "¯"
           ]
          ],
          [
           "✔",
           [
            "What???",
            "YAY!",
            "O.o",
            "KAAW",
            "*sighs*",
            "AYYY",
            "URBANDICTIONARY-IT,",
            "-__-",
            "\"d'awwwwwwwwwwwwwww\"",
            "Face*"
           ]
          ],
          [
           "drawl*",
           [
            "*low,",
            "goooooooo!\"",
            "\"????\"",
            "vidi",
            "AYYY",
            "Mizrahi",
            "BROOO",
            "KAAW",
            "-exhale-",
            "\"O-ok"
           ]
          ],
          [
           "🚬",
           [
            "Claire:🚼",
            "Claire:💥💥💥",
            "Claire:💦",
            "Claire:👌",
            "DBAH",
            "*coughs*",
            "̴̛̞̠̳͂gay̞̓ṡ͒",
            "h̨̅̕̚ȃs",
            "URBANDICTIONARY-IT,",
            "BIGGEREST"
           ]
          ],
          [
           "zthem.",
           [
            "hahve",
            "wiiild",
            "sayx",
            "tempus",
            "d0nt",
            "Chinna-stine.",
            "alanylprolylphenylalanylarginylglutaminylalanylalanylleucylarginylhistidyl-",
            "VLOG",
            "Darmbis.\"",
            "(self-explanatory)"
           ]
          ],
          [
           "DBAH",
           [
            "whuut?",
            "URBANDICTIONARY-IT,",
            "KAAW",
            "O_____O",
            "*farts*",
            "*orgasms*",
            "🚬",
            "Danny:KAAW",
            "Agaga",
            "SHAMPI!!"
           ]
          ],
          [
           "Kemm",
           [
            "có",
            "itu",
            "że",
            "target=\"_blank\"><img",
            "ɹoɟ",
            "cái",
            "egy",
            "wItH",
            "fOr",
            "oF"
           ]
          ],
          [
           "MeEt",
           [
            "для",
            "có",
            "mày",
            "jadi",
            "name=\"allowFullScreen\"",
            "yra",
            "с",
            "egy",
            "не",
            "и"
           ]
          ],
          [
           "poutanas",
           [
            "yra",
            "iZ",
            "Ⓔ",
            "𝘺𝘰𝘶",
            "Abu:",
            "YOB",
            "gOoD",
            "ma3goola",
            "с",
            "lagoi,"
           ]
          ],
          [
           "ma3goola",
           [
            "\"ya3ni",
            "yra",
            "reu",
            "itgoolooneh...\"",
            "hvað",
            "𝘁𝗼",
            "𝘺𝘰𝘶",
            "и",
            "с",
            "李洪志"
           ]
          ],
          [
           "bE",
           [
            "tHaT",
            "jadi",
            "AnD",
            "aNd",
            "hàng",
            "и",
            "у",
            "wItH",
            "ǝɯ",
            "itu"
           ]
          ],
          [
           "̜̩̹͛",
           [
            "̘̭̭́̾̅͑͜",
            "̯͛̚",
            "для",
            "src",
            "Willis)",
            "bE",
            "на",
            "ⴃⴀ",
            "𝘰𝘧",
            "𝘰𝘯"
           ]
          ],
          [
           "wItH",
           [
            "có",
            "jadi",
            "bE",
            "AnD",
            "tHaT",
            "iM",
            "hàng",
            "tìm",
            "cái",
            "oF"
           ]
          ],
          [
           "Ananya",
           [
            "AKU",
            "Trinary:",
            "Kau",
            "können",
            "aRe",
            "YUN",
            "Kapitan",
            "ertu",
            "mẹ",
            "Bembelegua"
           ]
          ],
          [
           "Caveman:",
           [
            "ertu",
            "Goran",
            "aRe",
            "Fredrik",
            "Carrillo-Garcia;",
            "ma3goola",
            "polles",
            "0wnz",
            "cAn",
            "KALI"
           ]
          ],
          [
           "hàng",
           [
            "и",
            "giúp",
            "не",
            "quis",
            "itu",
            "jadi",
            "bE",
            "của",
            "có",
            "yra"
           ]
          ],
          [
           "Sonny",
           [
            "Simone",
            "Loren",
            "Blaine",
            "Faye",
            "Serena",
            "Chung",
            "Latoya",
            "Franco",
            "Lacey",
            "Philip"
           ]
          ],
          [
           "Perpendicular",
           [
            "George...",
            "Goebbels",
            "Watkins",
            "Ortega",
            "U2,",
            "Ahhhhhhhhhhhhhhhh!",
            "Kulture",
            "AKU",
            "♱",
            "Weight:"
           ]
          ],
          [
           "Kaye",
           [
            "Sen",
            "Tera",
            "cf.",
            "Jacqui",
            "Syd",
            "Hailee",
            "Leona",
            "U2,",
            "?De",
            "Goebbels"
           ]
          ],
          [
           "Marky",
           [
            "Goldstein",
            "Zachary",
            "Larson",
            "Murphy,",
            "Schneider",
            "Torres",
            "Michel",
            "Beck,",
            "Seaman",
            "Gonzalez"
           ]
          ],
          [
           "Iain",
           [
            "Shan",
            "Terrence",
            "Tobias",
            "Wolfgang",
            "Katelyn",
            "Yuki",
            "Nik",
            "Jonathon",
            "Amir",
            "Alberto"
           ]
          ],
          [
           "Ola",
           [
            "100030041034041003022",
            "Noninary",
            "31172523270315",
            "Octinary",
            "27162321230313",
            "pashmi",
            "Dzsolti",
            "¯",
            "25152119210312",
            "Pentinary"
           ]
          ],
          [
           "Elliott",
           [
            "Rowan",
            "Zachary",
            "Calum",
            "Mollie",
            "Tanner",
            "Len",
            "Clayton",
            "Elise",
            "Kasey",
            "Ruben"
           ]
          ],
          [
           "Jada",
           [
            "Eliza",
            "Anita",
            "Mimi",
            "Serena",
            "Katelyn",
            "Abbie",
            "Faye",
            "Kay",
            "Tessa",
            "Loren"
           ]
          ],
          [
           "Aria",
           [
            "Nathalie",
            "Syd",
            "Celia",
            "oui?",
            "Aki",
            "Adi",
            "Mimi",
            "Aj",
            "eiwob",
            "Urusai"
           ]
          ],
          [
           "Mog",
           [
            ",Kane.",
            "Sergey",
            "Cade",
            "Dupree",
            "(Moon)",
            "蓝湛~~~",
            "bowieist",
            "Urusai",
            "Bao",
            "HARDER!\""
           ]
          ],
          [
           "Caitlynd",
           [
            "carreked",
            "racecar?”",
            "\"Shkintan,",
            "T.j.'s",
            "cutietuttiefruttie",
            "Mray's",
            "DASBFG",
            "cheetoing",
            "chekayla",
            "Esso,"
           ]
          ],
          [
           "\"gayageen\"",
           [
            "plubble,",
            "l33t.\"",
            "conker-er",
            "Mihnea",
            "chory",
            "gods,\"",
            "Anshan",
            "fanalysts",
            "doppi",
            "Weathermen's"
           ]
          ],
          [
           "racecar?”",
           [
            "bajaru",
            "ehmagaaadd",
            "deusi",
            "T.j.'s",
            ".girlfriend",
            "refaketionships",
            "ernied",
            "Caitlynd",
            "Isabeu",
            "dikaya."
           ]
          ],
          [
           "dungargen.",
           [
            "coragess",
            "ragot",
            "Allen)",
            "KUMASHI",
            "tapos",
            "*your",
            "(Woody",
            "fleerpy!\"",
            "Petrovic",
            "pickledinglered"
           ]
          ],
          [
           "‘ur",
           [
            "Heres-Johnny",
            "Komaeda's",
            "(Woody",
            "CSYTIMA",
            "Mackey.",
            "murtained",
            "coragess",
            "/Partner",
            "Mrs.Beauregarde",
            "Jossalynn"
           ]
          ],
          [
           "plubble,",
           [
            "\"gayageen\"",
            "findtherag.",
            "Arycelise.\"",
            "Perlamar",
            "*your",
            "Vances",
            "Naishia",
            "H3L1X",
            "Daemla",
            "bmartXD."
           ]
          ],
          [
           "Mart's",
           [
            "Mart\"",
            "Allen)",
            "\"Lonely",
            "strappage!\"",
            "\"partner\")",
            "Gihugical.",
            "Komaeda's",
            "Hartman's",
            "coragess",
            "(Woody"
           ]
          ],
          [
           "(hispanic)",
           [
            "finger-fabber",
            "Gihugical.",
            "Iraq.)",
            "angervation",
            ")\"Im",
            "blimbs",
            "PESTineh",
            "stealerhead!\"",
            "\"doggin'",
            "WAAAAAAW!!!!"
           ]
          ],
          [
           "Esso,",
           [
            "split-tail",
            "party...boyfriend,",
            "Gihugical.",
            "brooklynstar.",
            "whoever*",
            "Neffy",
            "pimpaliyah",
            "bam...",
            "etc)!\"",
            "/girlfriend!?"
           ]
          ],
          [
           "Mclovinsmooth",
           [
            "helda",
            "Ehikioya",
            "dikaya.",
            "Sahaja.\"",
            "spitsonhisowndick",
            "striyker",
            "tralique",
            "Ryonna",
            "Sharlow",
            "Markeveon"
           ]
          ],
          [
           "Werwied”",
           [
            "Werwied",
            "vrosi",
            "pwill",
            "Me:”stfu",
            "“Idolatry",
            "Jerick",
            "all’s",
            "“FAAFO,",
            "debollockated",
            "skillege"
           ]
          ],
          [
           "“Werwied",
           [
            "Werwied",
            "“You’ve",
            "must’ve",
            "“I’ve",
            "'You've",
            "indywanking",
            "trickyak",
            "“They’ve",
            "We’ve",
            "‘Never"
           ]
          ],
          [
           "roastophobia",
           [
            "debollockated",
            "”We’ve",
            "“alright”",
            "Raeyna",
            "Me:”stfu",
            "schlued",
            "CORNFLAKES",
            "Begmore",
            "“Idolatry",
            "moneyway"
           ]
          ],
          [
           "debollockated",
           [
            "roastophobia",
            "“alright”",
            "dangchow",
            "“Idolatry",
            "AMELIE.SOOPHIE",
            "schlued",
            "Me:”stfu",
            "CORNFLAKES",
            "EASYBAKENUTTING",
            "C.O.Poo.D"
           ]
          ],
          [
           "“alright”",
           [
            "debollockated",
            "roastophobia",
            "”We’ve",
            "ollaberry",
            "Uberscuber",
            "“midthrust”",
            "serious???”",
            "-“You",
            "antihomie",
            "“They’ve"
           ]
          ],
          [
           "Schwenked",
           [
            "jowered",
            "surded",
            "assassinated!”",
            "ballsackafied",
            "laylavirus",
            "Funcomed",
            "Razbear",
            "rotosexual",
            "\"why've",
            "“R/wooosh”"
           ]
          ],
          [
           "“They’ve",
           [
            "must’ve",
            "sideraped!",
            "1.I've",
            "playin'...YOU'VE",
            "Hoyted.”",
            "Friend:Where",
            "Must’ve",
            "Dude-o-rama",
            "Dikeithion",
            "Y'ever"
           ]
          ],
          [
           "must’ve",
           [
            "mustve",
            "Musta",
            "musta",
            "Must've",
            "“They’ve",
            "1.I've",
            "Must’ve",
            "death'd!",
            "might've",
            "must've"
           ]
          ],
          [
           "“Must",
           [
            "agrawal",
            "TMAN",
            "“must",
            "liqaht",
            "Wouldn’t",
            "retchy",
            "Wafiy",
            "“yeah!",
            "“Jillian",
            "‘No,"
           ]
          ],
          [
           "fribbed",
           [
            "boogelies",
            "Funcomed",
            "doorbowed",
            "Schwenked",
            "occus",
            "goblined",
            "jowered",
            "–“I",
            "dokay",
            "“Facts"
           ]
          ],
          [
           "raoned",
           [
            "illumination!",
            "boyedah",
            "fangirlioma",
            "bubblegutz",
            "SYMMETRICALLY!!!",
            "LUMPY",
            "smokatoes",
            "mumps",
            "FLYY",
            "GOODIHH"
           ]
          ],
          [
           "originals",
           [
            "readings",
            "ISS",
            "Rafy",
            "shizniz",
            "~xXNonTrollFeedahXx:",
            "predecessor",
            "rabbis",
            "Hotties",
            "Morticia",
            "sissies"
           ]
          ],
          [
           "mumps",
           [
            "Ruok",
            "Imek",
            "Rockslide\"",
            ".”=-._.",
            "B.S",
            ".``~.,",
            ",.-‘”.",
            "hib",
            "muzzle",
            "Booya"
           ]
          ],
          [
           "Nerh",
           [
            "Wh--",
            "2.Ross:say",
            "JARS",
            "DEHH",
            "AEE",
            "YARLY",
            "Bolli",
            "Hangoutsing",
            "SELLERS,",
            "FANFIC"
           ]
          ],
          [
           "Hm...now",
           [
            "Rocl",
            "<Admin>",
            "rocl",
            "<Noob>Wow,",
            "DEHH",
            "2.Ross:say",
            "merp",
            "JARS",
            "Ruok",
            "Louisiexan"
           ]
          ],
          [
           "GOODIHH",
           [
            "goodihh",
            "MACE",
            "WET_AF",
            "Peeds",
            "Waaaaaalmart",
            "JUBENCALLGEN",
            "BOOYAH",
            "Jeet-yet",
            "gudra",
            "Faygit"
           ]
          ],
          [
           "lickens",
           [
            "Kristyn",
            "dakal",
            "mudlover",
            "A.C",
            "Bolli",
            "FETCHING",
            "SHhhh!",
            "Levent",
            "polio",
            "Norwalk"
           ]
          ],
          [
           "dakal",
           [
            "SLINKY",
            "T.S",
            "Saranghae",
            "hobbits",
            "IDV",
            "balu",
            "Dalik",
            "Kristyn",
            "ORGASM",
            "BANHAMMER"
           ]
          ],
          [
           "Kristyn",
           [
            "Bleck",
            "Super-trollied",
            "SLINKY",
            "Awooga",
            "SHUTTA",
            "vosotros",
            "soti",
            "Capt",
            "robotussin",
            "Sparta"
           ]
          ],
          [
           "A.I.D.S",
           [
            "Booya",
            "SHUTTA",
            "\"fn",
            "Swallow",
            "W-H-A-T-I-T-I-Z,",
            "MODED",
            "Whee",
            "whatitiz",
            "ORGASM",
            "“Sheeeet."
           ]
          ],
          [
           "iddy",
           [
            "pooty",
            "afghan",
            "purp",
            "tang",
            "biddy",
            "philly",
            "reefer",
            "barre",
            "piff",
            "chron"
           ]
          ],
          [
           "kayleela",
           [
            "Merab",
            "blue-eyed",
            "lankan",
            "Desireah",
            "gorgeouse",
            "Attendance:",
            "Antonyms:",
            "nyan,",
            "😉😘🥰",
            "ivmowo"
           ]
          ],
          [
           "Markleavellian",
           [
            "guy2:that",
            "/boy",
            "outcome:",
            "by;",
            "derangelical",
            "BEA-",
            "siginificant",
            "Xaa-ra",
            "\"DAAAMMMNNN",
            "velcrous"
           ]
          ],
          [
           "atcha",
           [
            "chee",
            "deh",
            "dah",
            "ina",
            "mo!",
            "heiss",
            "haw",
            "Yow",
            "fuh",
            "diz"
           ]
          ],
          [
           "lankan",
           [
            "Vsco",
            "Detector:",
            "😈",
            "NOOOOOOOOOOOOOO",
            "omgggg",
            "Ouu",
            "Tsoukalas:",
            "(Jason)",
            "uhhh...",
            "glug,"
           ]
          ],
          [
           "tiddy",
           [
            "poppa",
            "earl",
            "gucci",
            "tittied",
            "persian",
            "clitty",
            "gde,",
            "poom",
            "choy",
            "azz"
           ]
          ],
          [
           "danei",
           [
            "deaisa",
            "Daziel",
            "Gabrella",
            "Damayiah",
            "Dalayzha",
            "Dyniro",
            "karryona#",
            "thooo!",
            "Dacari",
            "Daezon"
           ]
          ],
          [
           "TI84",
           [
            "Calculatorist",
            "yachtacious",
            "BDCC",
            "(especially)",
            "fumeze",
            "4da",
            "Gertatude!",
            "Doqi",
            "mlfe",
            "sorority's"
           ]
          ],
          [
           "gilmore",
           [
            "distractingly",
            "islahuddinly",
            "(B)ackseat",
            "martinez/",
            "TAPS",
            "bishki",
            "\"Mass",
            "FUCK.TAKE",
            "cockblowingly",
            "ambla"
           ]
          ],
          [
           "animaaal",
           [
            "Hierdie",
            "shnot",
            "Roffler.",
            "thuria",
            "tusk-mund!!",
            "Jozlynne's",
            "Rozlynne",
            "tonights",
            "animalll!",
            "fukn"
           ]
          ],
          [
           "Thick",
           [
            "Giggle",
            "Supa",
            "Knee",
            "Tittie",
            "A.K.A",
            "A.K.A.",
            "Bald",
            "Stunning",
            "Boop",
            "Tattooed"
           ]
          ],
          [
           "Rare",
           [
            "Ad",
            "Talented",
            "(1983)",
            "Alternative",
            "Mainstream",
            "Outstanding",
            "Historical",
            "Superstar",
            "Deodorant",
            "Songs:"
           ]
          ],
          [
           "Floppy",
           [
            "Combo",
            "Disaster",
            "Dwarf",
            "Vicious",
            "Mule",
            "Bandit",
            "Worm",
            "Funky",
            "Panty",
            "Bug"
           ]
          ],
          [
           "Rooster",
           [
            "Sucker",
            "Boon",
            "Nose",
            "Porcelain",
            "Splash",
            "Clit",
            "Worm",
            "Skin",
            "Toe",
            "Shrimp"
           ]
          ],
          [
           "Freezing",
           [
            "\"Red",
            "naht",
            "Artful",
            "Chulksmack",
            "Hat!",
            "Boon",
            "(Ca.",
            "Data,",
            "Wild,",
            "Wheat"
           ]
          ],
          [
           "Hat!",
           [
            "chúng",
            "у",
            "DICTATURE",
            "và",
            "oF",
            "emblem:",
            "Corrosion",
            "אתה",
            "qu'un",
            "JuST"
           ]
          ],
          [
           "Tiny",
           [
            "Ying",
            "Smelly",
            "Hound",
            "Thick",
            "Doll",
            "Aka",
            "Abbott",
            "Twinkle",
            "Nguyen",
            "Chow"
           ]
          ],
          [
           "Sucking",
           [
            "Machine,",
            "Split",
            "Skin",
            "Barbarian",
            "(1969)",
            "Slum",
            "(AKA",
            "feat.",
            "Torture",
            "Songs:"
           ]
          ],
          [
           "Sand",
           [
            "Skin",
            "Pet",
            "Stink",
            "Mushroom",
            "Mask",
            "Arm",
            "Dwarf",
            "Hidden",
            "Riders",
            "Crimson"
           ]
          ],
          [
           "Silk",
           [
            "Rollin'",
            "--The",
            "Presents",
            "Gangs",
            "Riders",
            "B.I.G",
            "Malice",
            "Lean",
            "Bright",
            "Sand"
           ]
          ],
          [
           "neocon",
           [
            "aberrosexual",
            "-facepalm-",
            "Ayatollah",
            "mutta",
            "Dei",
            "Valiant",
            "bstfr,",
            "Well-known",
            "Claudius",
            "Raleigh"
           ]
          ],
          [
           "ukalamba",
           [
            "и",
            "không",
            "nyos",
            "egy",
            "𝘢𝘯𝘥",
            "統一",
            "Pikachu,",
            "bY",
            "có",
            "̶͎͜͠m̵̗̪̀i"
           ]
          ],
          [
           "oOgLe",
           [
            "akan",
            "Dei",
            "th1s",
            "統一",
            "fjkdasl;",
            "̺͈͂r",
            "ɥo",
            "eiwob",
            "dertil:",
            "Petal"
           ]
          ],
          [
           "advocated",
           [
            "represented",
            "overcoming",
            "left-wing",
            "self-serving",
            "targeted",
            "campaigning",
            "fervent",
            "distributed",
            "well-known",
            "Democracy"
           ]
          ],
          [
           "Pyro",
           [
            "(1975)",
            "Nemesis",
            "Mage",
            "paramino",
            "(English",
            "(2002)",
            "Dictator",
            "Singh",
            "Ditt",
            "c^2"
           ]
          ],
          [
           "aberrosexual",
           [
            "ato",
            "PAS",
            "Ayatollah",
            "̞̟̎͌͗̑̑̿͜͝4",
            "aN",
            "(1975)",
            "Amon",
            "Oxide",
            "~xXNonTrollFeedahXx:",
            "Dialect"
           ]
          ],
          [
           "כוונה",
           [
            "לעשות",
            "עם",
            "מתוך",
            "Amon",
            "chơi",
            "הבחור",
            "и",
            "_,=\"=._",
            "RoAD",
            "רע"
           ]
          ],
          [
           "ure=your",
           [
            "Ama=I'm",
            "uzun",
            "ukalamba",
            "си",
            "и",
            "whheeree",
            "g2)",
            "Bugdon",
            "ermmmmm",
            "é)"
           ]
          ],
          [
           "Cassuto!",
           [
            "Cassuto",
            "◕_◕",
            "`·.",
            "O=*BBB*",
            "Hoi",
            "aagei",
            "\"ya3ni",
            "BOON!",
            "sı",
            "и"
           ]
          ],
          [
           "maadanuku",
           [
            "и",
            "pongal",
            "vaipom;",
            "kula",
            "quis",
            "gysduhj",
            "،",
            "買賣人口",
            "type=\"application/x-shockwave-flash\"",
            "ε"
           ]
          ],
          [
           "shouldeck.Other",
           [
            "shitless",
            "Imbrogno's",
            "ponsock",
            "Painsville",
            "Devon:lol,u",
            "baby!(",
            "PayOhHell",
            "boogaria!",
            "gromefadam",
            "Chamosexual"
           ]
          ],
          [
           "mylkheads",
           [
            "shitless",
            "Imbrogno's",
            "ponsock",
            "Eurgain.",
            "boogaria!",
            "quasi-libertarian",
            "shouldeck.Other",
            "penis>",
            "Chapunga.\"",
            "Chamosexual"
           ]
          ],
          [
           "shitless",
           [
            "''hagrid?''",
            "shouldeck.Other",
            "Imbrogno's",
            "mylkheads",
            "Lukas-on",
            "gromefadam",
            "PayOhHell",
            "everyo-''",
            "penis>",
            "Elsa!"
           ]
          ],
          [
           "Imbrogno's",
           [
            "shitless",
            "graduration",
            "shouldeck.Other",
            "gromefadam",
            "mylkheads",
            "Chamosexual",
            "boogaria!",
            "Hiders",
            "baby!(",
            "Jaykra"
           ]
          ],
          [
           "Nakyia:",
           [
            "dalyane",
            "hugs)",
            "ponsock",
            "(a)\"",
            "shitless",
            "ilfordner:",
            "Gaiz",
            "Man?”",
            "-Oglethorpe",
            "tdavenport(11:54:36"
           ]
          ],
          [
           "Darkhounds",
           [
            "Obamandingo",
            "oculart.com,",
            "sizzile.",
            "Doctor:I'm",
            "Surtic",
            "Muelldozed.",
            "Natomi",
            "omnomadors",
            "remzal",
            "rout."
           ]
          ],
          [
           "Anali:To",
           [
            "upmistakemy",
            "da,\"",
            "scrumph,",
            "luck!!!",
            "silie190",
            "sinapps",
            "Timmy:too",
            "exagiratedly!)",
            "zipperclipper,",
            "LUCKY'"
           ]
          ],
          [
           "spoogie",
           [
            "shellfish",
            "poonayonaise",
            "Hudayfa",
            "boppitry",
            "vietnamese",
            "durpee",
            "barrelglover",
            "I-RAN!?",
            "trottle.",
            "We's"
           ]
          ],
          [
           "meeeeeee!!!!!!!",
           [
            "fuckas!",
            "korver'd",
            "shiznass",
            "\"hinchunit\"",
            "boco",
            "Vagina!!!",
            "ponsock",
            "Painsville",
            "nine*",
            "\"Glorious!"
           ]
          ],
          [
           "Quenesha",
           [
            "Walfry",
            "Melaya",
            "handgagged",
            "coozeburgers",
            "smarticleness",
            "Conner!",
            "#usespeople",
            "snapfap",
            "subwoofer.",
            "brat!\""
           ]
          ],
          [
           "kinkle\"",
           [
            ":ilhbhdlmb",
            "Lemberg?",
            "gaaaaaaht!?!\"",
            "ddtn",
            "kysirlimo",
            "Howard-Kelso",
            "\"Whooooooooo",
            "gidgie",
            "lynnette",
            "\"Flagpole"
           ]
          ],
          [
           "Jelmy!\"",
           [
            "mandy,",
            "Kavuari",
            "Sproach",
            "Lize-Mare",
            "*your",
            "--Dan",
            "qwertyuiopasdfghjklzxcvbnmnbvcxzlkjhgfdsapoiuytrewqqazwsxedcrfvtgbyhnujmikolplokmijnuhbygvtfctfcrdxeszwaq",
            "kausie",
            "street-terms.",
            "CHILDREN."
           ]
          ],
          [
           "Kameye.",
           [
            "nana'd",
            "2:dangggg",
            "shyler",
            "Santia's",
            "Genevay",
            "Nabikshya",
            "nikdivona",
            "vhswifi’s",
            "Mayanka",
            "Slime's"
           ]
          ],
          [
           "Kavuari",
           [
            "Jelmy!\"",
            "sannidhya",
            "1-\"WOW",
            "azaylah!",
            "Muriyah\"",
            "afro:",
            "1:my",
            "mandy,",
            "2~His",
            "1:that’s"
           ]
          ],
          [
           "\"partner\")",
           [
            "Mayanka",
            "JINX!!!!!",
            "E.T.'s",
            "fisheneer.",
            "Row...(mate,",
            "*your",
            "Kameye.",
            "Salamitations,",
            "Holamos",
            "hlhsduhil"
           ]
          ],
          [
           "michidiot",
           [
            "Mahra",
            "fackayu",
            "Tittibaker!",
            "HSJCH",
            "gypsuum:",
            "Lyong",
            "psude's",
            "hlhsduhil",
            "\"partner\")",
            "BLYAAAAAAAAAAAAAAAAAAAAATTTT!!!!!!!!!"
           ]
          ],
          [
           "riahnna",
           [
            "riahnnayourass.",
            "reganized",
            "arileysi.",
            "second'",
            "Hattington",
            "immanuella",
            "Teshelle",
            "copper-jacketted",
            "Bfords",
            "\"sujonfrongsaijon"
           ]
          ],
          [
           "Oumaru",
           [
            "Randys",
            "curbkick",
            "cock-clocked",
            "jurrassafrazz",
            "D'Michael.",
            "1)sorry",
            "Quaion",
            "Whitwham'ed",
            "Iwlyf",
            "jamiey"
           ]
          ],
          [
           "Tittibaker!",
           [
            "Edrric.",
            "Jelmy!\"",
            "bara\"",
            "mawhogalendugan!!",
            "Mray's",
            "NETN)",
            "Salamitations,",
            "YAo",
            "Kameye.",
            "thiunk"
           ]
          ],
          [
           "iwtky",
           [
            "boozlebabbie'",
            "Mahra",
            "fantastig",
            "filthy..",
            "BIOP!!",
            "be:",
            "appreciate,",
            "provide;",
            "BOOHAA",
            "Derek-Damn"
           ]
          ],
          [
           "curtoise,",
           [
            "Tanis",
            "DarkCity20",
            "yubbing",
            "CCIC",
            "car....I",
            "Zulfadzli",
            "ꜱᴏᴏɴ!",
            "live!!!",
            "y'allbitches",
            "Mop#2-"
           ]
          ],
          [
           "deigobilly,",
           [
            "DarkCity20",
            "Regem",
            "unsavary",
            "damnit!",
            "dayget",
            "kosminots!",
            "kolbie",
            "Ingvar",
            "Pococno",
            "Barat"
           ]
          ],
          [
           "Ilyess.",
           [
            "Ilyess",
            "(Mom",
            "*Ben",
            "by....",
            "massissi",
            "snort*",
            "Me:(",
            "away.)",
            "भकुन्डे",
            "by)"
           ]
          ],
          [
           "*Haikh",
           [
            "himself*",
            "again*",
            "MentoGang",
            "ball*",
            "aimbtoxing",
            "DEATH-MOBILE",
            "*shoots*",
            "blankly)",
            "dogbarry",
            "violently*"
           ]
          ],
          [
           "“peck",
           [
            "Meidl",
            "Shruti",
            "Rakas",
            "awhhhh<",
            "Decorum!",
            "BISEXUAL",
            "Mobbin'.",
            "bootackin",
            "SQUARED",
            "Pablo_Pengu"
           ]
          ],
          [
           "Modiji",
           [
            "-Larry",
            "WDWBA?\"",
            "DEPUTY",
            "bitch?Young,dumb,an'",
            "thankyou\"",
            "monolingual",
            "zobbi!\"",
            "PersonB",
            "daymn",
            "xxxxxxxxxxxx"
           ]
          ],
          [
           "Modder",
           [
            "_-_",
            "<.<",
            "MAS",
            "что",
            "sdrawkcaB",
            "UND",
            ":::",
            "0011",
            "=3",
            ".............."
           ]
          ],
          [
           "*every",
           [
            "*entire",
            "ookachaka",
            "eg,",
            "(Ca.",
            "*other",
            "f#",
            "*female",
            "adelaine",
            "..\\……………..",
            "(currently"
           ]
          ],
          [
           "\"Expotition.\"",
           [
            "“peck",
            "mitromney,",
            "walking...I",
            "nigarpusi",
            "tyric",
            "DarkCity20",
            "Ichirou,",
            "1.fuck",
            "Mikanda!",
            "chapman!”"
           ]
          ],
          [
           "Omis",
           [
            "alten",
            "tự",
            "tengah",
            "schwurbelt",
            "lik3",
            "ⓤ",
            "Fałda:",
            "ś",
            "vir",
            "två"
           ]
          ],
          [
           "crochet,",
           [
            "cessation",
            "metro-redneck",
            "Tazibal",
            "microcosm",
            "virtuoso",
            "reacharound",
            "Dajhauni",
            "Stat",
            "Www",
            "mirage"
           ]
          ],
          [
           "proportions",
           [
            "proportions.",
            "proportions,",
            "proportions!",
            "magnitude",
            "Dayal",
            "verbiage",
            "density",
            "plethora",
            "proportions\"",
            "yesteryear"
           ]
          ],
          [
           "Eisley",
           [
            "daysturbating",
            "headwaters",
            "Cradle",
            "Lox",
            "beacon.\"",
            "Asgard",
            "/GOD",
            "Denmark",
            "sickcunt",
            "Gift"
           ]
          ],
          [
           "destitution",
           [
            "\"Soroush",
            "tataaaaa",
            "Maram:",
            "BUFFER",
            "sage",
            "Camus",
            "-...",
            "pk",
            "robotussin",
            "Davestriderlol"
           ]
          ],
          [
           "Llama-tree",
           [
            "DeadGhost,",
            ":::::.·´',",
            "m4mw",
            "MANboobies",
            "GRAPHICS",
            "Rafy",
            "ponyet",
            "mantook",
            "KP",
            "gh3y"
           ]
          ],
          [
           "gwargasm",
           [
            "Daphanie",
            "bomberman",
            "baggie",
            "clusterfuck",
            "symptom",
            "\"JLover's",
            "magnitude",
            "brigades",
            "AI).",
            "proportions"
           ]
          ],
          [
           "sickcunt",
           [
            "-Courtesy",
            "Gaslighting",
            "Combination",
            "liberal-media",
            "mees",
            "crabcake",
            "East-Coast",
            "quhrist",
            "proponent",
            "nicocest"
           ]
          ],
          [
           "beatdown",
           [
            "corndog",
            "shiner",
            "barbarian",
            "carolina",
            "scrubber",
            "ringer",
            "spitter",
            "Cincinatti",
            "missle",
            "steamroller"
           ]
          ],
          [
           "gasmgasm",
           [
            "-Yea...oooooooooooh...",
            "BOJAN",
            "A.P",
            "pedly",
            "huray",
            "Aminder",
            "Freunlaven",
            "BOO-YA",
            "PINA",
            "BREAKER"
           ]
          ],
          [
           "proportions.",
           [
            "proportions",
            "proportions!",
            "proportions,",
            "proportions\"",
            "cornucopia",
            "adequacy.",
            "possessiveness",
            "symptom",
            "disastacle",
            "dualisms"
           ]
          ],
          [
           "Bhonsle',",
           [
            "Xinjiang",
            "Pedal",
            "tAkE",
            "Ubi",
            "OFFICER",
            "̴͉͊͒͝͝ő̶̱̜̮̇f",
            "oF",
            "SHELBY",
            "7755",
            "Cryptic"
           ]
          ],
          [
           "Maravilla",
           [
            "gOoD",
            "itu",
            "il-liba",
            "kemm",
            "jsem",
            "(ES),",
            "și",
            "werden",
            "eisai",
            "MV),"
           ]
          ],
          [
           "keda",
           [
            "да",
            "𝘺𝘰𝘶",
            "oru",
            "Maravilla",
            "WO",
            "shrabble",
            "sangap",
            ".........\\.................\\/..../",
            "Mera",
            "werden"
           ]
          ],
          [
           "OFFICER",
           [
            "ThE",
            "T3H",
            "cAn",
            "tHe",
            "aRe",
            "tO",
            "YoU",
            "tHaN",
            "iS",
            "ANNA"
           ]
          ],
          [
           "Mix)",
           [
            "Corrosion",
            "(1983)",
            "(1981)",
            "Engine:",
            "Maravilla",
            "Orange,",
            "Enthroned",
            "artists:",
            "Crips)",
            "©"
           ]
          ],
          [
           "Macaulay",
           [
            "אתה",
            "tHaN",
            "semua",
            "wiþ",
            "<i>",
            "Elis",
            "tengok",
            "(1983)",
            "Willis)",
            "ⴃⴀ"
           ]
          ],
          [
           "ý",
           [
            "że",
            "jak",
            "się",
            "einai",
            "að",
            "bitte",
            "einen",
            "jævla",
            "meron",
            "heeft"
           ]
          ],
          [
           "Hurensohn,",
           [
            "aS",
            "tHaN",
            "aei",
            "yra",
            "Persian:",
            "gOoD",
            "̡̝̟̣̘̈́̀͌l̴͚̬̹͙͋́̋͘l",
            "aRe",
            "của",
            "sangap"
           ]
          ],
          [
           "6787",
           [
            "5118",
            "7435",
            "8136",
            "10270",
            "18434",
            "да",
            "của",
            "ти",
            "jadi",
            "tengok"
           ]
          ],
          [
           "(1972)",
           [
            "(1966)",
            "(1983)",
            "(1965)",
            "(1980)",
            "zobbi",
            "(1971)",
            "Madonna,",
            "Maravilla",
            "J.D.",
            "(1981)"
           ]
          ],
          [
           "poppa",
           [
            "nigglet",
            "alam",
            "poom",
            "gu",
            "batti",
            "kos",
            "kamar",
            "ona",
            "nearestu",
            "heeee"
           ]
          ],
          [
           "dominic",
           [
            "abbie",
            "ricky",
            "bailey",
            "seth",
            "corey",
            "aidan",
            "bri",
            "rocco",
            "gavin",
            "mitchell"
           ]
          ],
          [
           "ming",
           [
            "corey",
            "wong",
            "kai",
            "alam",
            "kam",
            "baldy",
            "fuking",
            "mei",
            "nigglet",
            "macdonald"
           ]
          ],
          [
           "hoe\"",
           [
            "nukka",
            "nigglet",
            "ming",
            "louie",
            ",crow,",
            "faggit",
            "bona",
            "byrne",
            "onder",
            "kao"
           ]
          ],
          [
           "suka",
           [
            "qed",
            "kau",
            "už",
            "ei",
            "einai",
            "aia",
            "bitte",
            "já",
            "itu",
            "mata"
           ]
          ],
          [
           "nggak",
           [
            "cerah",
            "amat",
            "sawarasenai",
            "gangGucci",
            "ʏᴇʟꜰɪᴇ",
            "̨̛͍͖̈́̓̔́̑͑̊̕̚ͅ",
            "̡̬͉̅̈́̋n̵̛̝̞̱̂̆̊̈́̾͆͆͆͊̓͌̕t",
            "זה",
            "𝖙𝖔",
            "#TechKnowProcess"
           ]
          ],
          [
           "xu",
           [
            "gOoD",
            "wena",
            "jkfdsl;a",
            "tôi",
            "mẹ",
            "█ーJ",
            "nasheedul",
            "█▄",
            "tui",
            "kok"
           ]
          ],
          [
           "shou",
           [
            "sial",
            "ei",
            "să",
            "vittu",
            "ę",
            "beste",
            "haya",
            "maaiinn",
            "wieso",
            "kamar"
           ]
          ],
          [
           "vinograde,",
           [
            "rodne",
            "ʏᴇʟꜰɪᴇ",
            "Citlucanke",
            "tvoje",
            "vài",
            "gha",
            "yn",
            "ᴀ",
            "#TechKnowProcess",
            "𝘸𝘪𝘭𝘭"
           ]
          ],
          [
           "rocco",
           [
            "67445C8C525ED1786ADB806DD5806BCF816ABE7360AE6556",
            "mẹ",
            "#TechKnowProcess",
            "Brostronomer",
            "tui",
            "،",
            "V=B*B*B",
            "Π",
            "nisdjfh",
            "ᴀɴʏᴛɪᴍᴇ"
           ]
          ],
          [
           "wadapan",
           [
            "Hrassgroper:",
            "Wadapan",
            "chasa",
            "padawan",
            "Accused",
            "P-Peter",
            "desperate...",
            "Hark,",
            "$tunna",
            "Hobos"
           ]
          ],
          [
           "grasshopper",
           [
            "scoundrel",
            "herv",
            "Mamas",
            "Velo",
            "Ee-e-e-oh-mum-a-weh",
            "kittys",
            "philosopher",
            "great-cousin-nibling",
            "adora",
            "pox"
           ]
          ],
          [
           "jeezy",
           [
            "erol",
            "plebada",
            "mooda",
            "lassie",
            "wayne,",
            "alkan",
            "neek",
            "wigga",
            "matha",
            "biddy"
           ]
          ],
          [
           "friovlous",
           [
            "padawan",
            "14-f-uk",
            "Flash-Pants",
            "Ayoyinka.",
            "jeegwa32",
            "fashioned?\"",
            "tampontrepreneur,",
            "Srikha",
            "hwasfluffyhair",
            "Newg"
           ]
          ],
          [
           "tampontrepreneur,",
           [
            "padawan",
            "Ayoyinka.",
            "mirthicized",
            "\"LOVES\"",
            "Midoriya\"",
            "Jeganathan",
            "-KDJ",
            "Jeganathan..”",
            "Jadacus\"",
            "friovlous"
           ]
          ],
          [
           "rodwell",
           [
            "wipersnaper",
            "padawan",
            "grasshoppah,",
            "edupudi",
            "sconies!",
            "haitu",
            "taxiderming",
            "herv",
            "Cavalos",
            "Gardener"
           ]
          ],
          [
           "kyanite",
           [
            "twink",
            "babucar",
            "gadje",
            "mamba",
            "panther",
            "bastard's",
            "ratboy",
            "girl/guy",
            "geezer",
            "supremacist"
           ]
          ],
          [
           "Ayoyinka.",
           [
            "padawan",
            "brottie",
            "-KDJ",
            "sconies!",
            "tampontrepreneur,",
            "giggle-out",
            "smigglettes'",
            "friovlous",
            "\"LOVES\"",
            "DelSantro"
           ]
          ],
          [
           "14-f-uk",
           [
            "GNOC",
            "Hark,",
            "Squanto",
            "Haitians.",
            "cow..she",
            "\"Darnitsauce.\"",
            "EeEEeeeee",
            "allshit",
            "erm..erm",
            "$24.95"
           ]
          ],
          [
           "padwan",
           [
            "Leorgis",
            "mirthicized",
            "-KDJ",
            "padawan",
            "Dragathora",
            "$tunna",
            "Chadawan.",
            "ka'ni",
            "MTLBWY.",
            "brottie"
           ]
          ],
          [
           "'kaak'",
           [
            "'juice'!",
            "splace.",
            "coffee-stache",
            "preakers",
            "COCO:",
            "yussis",
            "(a)\"Yo",
            "kwong.",
            "dnb,",
            "B.I.R!\""
           ]
          ],
          [
           "Pukatron?\"",
           [
            "Brad....",
            "whizza,",
            "Sussell.",
            "powerhang,",
            "toegers",
            "jaalai",
            "Christsicle",
            "back,Nuts",
            "gollie,",
            "Goviani,"
           ]
          ],
          [
           "tangtops,",
           [
            "d-sqaud",
            "Runrig",
            "ke$",
            "Revenues",
            "smithville",
            "sexiting.\"",
            ",\"If",
            "FAFing",
            "shanono",
            "smiling?...Ooooo"
           ]
          ],
          [
           "scarurous",
           [
            "McWOTH",
            "LBTC,",
            "econoclasts",
            "qmazing",
            "snyderrato",
            "unachievable",
            "doudou",
            "truffle-iscious",
            "'Unplugged'",
            "cacodactylographic"
           ]
          ],
          [
           "mousolini",
           [
            "buckalewer",
            "crcip?",
            "?????/><",
            "vandertie",
            "deracked,",
            "grl1:",
            "chaffa",
            "Raphael.\"",
            "exybitch'",
            "China'd"
           ]
          ],
          [
           "Brad....",
           [
            "loosely;",
            "pumahabbi.",
            "Goviani,",
            "Verlaan:",
            "-Jibbs",
            "Pukatron?\"",
            "Oeht?",
            "powerhang,",
            "plumbi?",
            "SWERNT"
           ]
          ],
          [
           "Sussell.",
           [
            "localheadass",
            "Rudop",
            "Pukatron?\"",
            "Oeht?",
            "Brad....",
            "Yesire",
            "-Jibbs",
            "Eversence",
            "desyonna",
            "sidenote:"
           ]
          ],
          [
           "Yeezee",
           [
            "roommate-ola",
            "Rudop",
            "jaalai",
            "pumahabbi.",
            "Yesire",
            "Cliked.",
            "Pukatron?\"",
            "*rollerskating*",
            "shouldof",
            "localheadass"
           ]
          ],
          [
           "tomchilla",
           [
            "kimanna-ed\"",
            "Trustfundkilla's",
            "listaweed",
            "Nicey-Nicer",
            "wondiferous",
            "FAFing",
            "awkwardorable",
            "pre-recs",
            "grocerys",
            "Uyghurs"
           ]
          ],
          [
           ",\"If",
           [
            "Revenues",
            "7!M:",
            "'connection'",
            "edubating",
            "told...\"",
            "hyperballistic",
            "DashK",
            "doudou",
            "discojuice.",
            "tunny"
           ]
          ],
          [
           "APIEFM\"",
           [
            "Tarsisistic",
            "fourtoscore",
            "jamstack",
            "anytown",
            "fivealive",
            "'last",
            "Heldens",
            "LAst",
            "wijth",
            "floebble."
           ]
          ],
          [
           "artboxed",
           [
            "brochillax!",
            "harold:last",
            "moonless",
            "rubbin!",
            "Satyrday",
            "after??",
            "1.Last",
            "'last",
            "(jiyeke)",
            "awethetic"
           ]
          ],
          [
           "fivealive",
           [
            "fourtoscore",
            "\"Jessica.....last",
            "'last",
            ",last",
            "1.Last",
            "rubbin!",
            "“Last",
            "gosska",
            "'Last",
            "LAst"
           ]
          ],
          [
           "fourtoscore",
           [
            "fivealive",
            "“Last",
            "'last",
            "'Last",
            "A:last",
            "LAst",
            "BBFSU",
            ",last",
            "\"Jessica.....last",
            "thragging"
           ]
          ],
          [
           "jamstack",
           [
            "APIEFM\"",
            "\"boring",
            "legbeard.",
            "Purim",
            ":\"last",
            "siglets",
            "Heldens",
            "rudderfucking",
            "Tarsisistic",
            "fivealive"
           ]
          ],
          [
           "1)last",
           [
            ":\"last",
            ",last",
            "fivealive",
            "las'",
            "\"So...last",
            "Deathblade457.",
            "moose-moose",
            "Guy1''last",
            "LAst",
            "peek-a-booty"
           ]
          ],
          [
           "extreme-binary.",
           [
            ":Last",
            "'last",
            "“Last",
            ",last",
            "A:last",
            "'Last",
            "fourtoscore",
            "richuals",
            "fivealive",
            "(jiyeke)"
           ]
          ],
          [
           "rubbin!",
           [
            "YAAAS!",
            "fivealive",
            "scat-jack!",
            "1.Last",
            "'last",
            "fourtoscore",
            "bunjulio",
            "LAst",
            "1.)last",
            "*Friday"
           ]
          ],
          [
           "Ruthless\"",
           [
            "1.\"Last",
            "APIEFM\"",
            "BBFSU",
            "fourtoscore",
            ",last",
            "Maliceous",
            "fivealive",
            "'last",
            "thragging",
            "A:last"
           ]
          ],
          [
           "peek-a-booty",
           [
            "\"So...last",
            ":\"last",
            "APIEFM\"",
            "1)last",
            "rudderfucking",
            "Caitlin:\"Okay,",
            "LAst",
            "grade-E",
            "Shuddersome",
            "Deathblade457."
           ]
          ],
          [
           "Obina",
           [
            "yra",
            "tHaT",
            "có",
            "já",
            "у",
            "name=\"allowFullScreen\"",
            "AnD",
            "h3",
            "mnie",
            "си"
           ]
          ],
          [
           "senectus",
           [
            "mnie",
            "už",
            "та",
            "tidak",
            "عشق",
            "OverRustle",
            "𝘺𝘰𝘶",
            "moje",
            "vel,",
            "что"
           ]
          ],
          [
           "moje",
           [
            "yra",
            "už",
            "mày",
            "mẹ",
            "с",
            "dengan",
            "type=\"application/x-shockwave-flash\"",
            "że",
            "itu",
            "𝘺𝘰𝘶"
           ]
          ],
          [
           "lang,",
           [
            "já",
            "да",
            "pow,",
            "qed",
            "ę",
            "vond",
            "sih",
            "mẹ",
            "ě",
            "už"
           ]
          ],
          [
           "jego",
           [
            "praca,",
            "w3",
            "type=\"application/x-shockwave-flash\"",
            "𝘺𝘰𝘶",
            "на",
            "ę",
            "tui",
            "да",
            "𝘰𝘧",
            "ammatasiri"
           ]
          ],
          [
           "pola",
           [
            "zail",
            "hàng",
            "gha",
            "tHaT",
            "да",
            "mẹ",
            "ɹnoʎ",
            "lagi",
            "có",
            "sadah"
           ]
          ],
          [
           "67445C8C525ED1786ADB806DD5806BCF816ABE7360AE6556",
           [
            "A45B4A9A513E8D4D448E514790564A9D5950AA5D57BD6B5F",
            "с",
            "D07968C77275BE6C83A1719B9B7BAA9685B98E91BE879DC4",
            "𝘺𝘰𝘶",
            "и",
            "та",
            "tidak",
            "mẹ",
            "type=\"application/x-shockwave-flash\"",
            "yra"
           ]
          ],
          [
           "Decimal:",
           [
            "25152119210312",
            "Hexidecimal:",
            "yra",
            "JuST",
            "190F151315030C",
            "𝘺𝘰𝘶",
            "sdf",
            "YoUr",
            "........('(...´(..´......,~/'...')",
            "GeT"
           ]
          ],
          [
           "welada?",
           [
            "ammatasiri",
            "mokak",
            "ě",
            "та",
            "balapan!",
            "mẹ",
            "си",
            "и",
            "ę",
            "że"
           ]
          ],
          [
           "Aqui",
           [
            "у",
            "cái",
            "chơi",
            "có",
            "на",
            "gha",
            "și",
            "já",
            "ɥo",
            "да"
           ]
          ],
          [
           "tr0oo0est",
           [
            "tr00oo0",
            "\"br0o0o0otal,",
            "accussed",
            "corporatepresence",
            "\"Tools",
            "🍆🔪🚑",
            "Characteristics",
            "One-team",
            "acceptoolease",
            "jungles"
           ]
          ],
          [
           "gods,\"",
           [
            "heaven,\"",
            "reaks",
            "One-team",
            "Weathermen's",
            "tr0oo0est",
            "insted",
            "accussed",
            "tr00oo0",
            "'Strange",
            "\"mistress"
           ]
          ],
          [
           "P/A",
           [
            "Brain'",
            "\"gottwice",
            "pakhan",
            "WeHeartit",
            "Courtesy",
            "wa7ad",
            "“#Quenblackwell",
            "whyme",
            "Underpins",
            "Disturbed."
           ]
          ],
          [
           "tr00oo0",
           [
            "tr0oo0est",
            "\"Days",
            "🍆🔪🚑",
            "\"br0o0o0otal,",
            "accussed",
            "One-team",
            "Markitable,",
            "corporatepresence",
            "\"Son",
            "perils"
           ]
          ],
          [
           "\"Tools",
           [
            "(Trivium)",
            "excellence\"",
            "tr0oo0est",
            "Darmin",
            "\"Lack",
            "BeDreyal",
            "antithesis",
            "personification",
            "comprised",
            "Fuckiest"
           ]
          ],
          [
           "efformation",
           [
            "methbath",
            "\"Tools",
            "(Trivium)",
            "anybody?!",
            "BeDreyal",
            "(Redundant",
            "eeyazin",
            "Wretzky",
            "magdar.",
            "SHF"
           ]
          ],
          [
           "Cindyrella",
           [
            "\"Tools",
            "tr0oo0est",
            "tr00oo0",
            "(Trivium)",
            "563210983x^32",
            "Abandoman",
            "🍆🔪🚑",
            "efformation",
            "symptom",
            "'servant"
           ]
          ],
          [
           "Appearance",
           [
            "tr0oo0est",
            "Disturbed.",
            "(World",
            "synchronicity",
            "boyith",
            "963",
            "Courtesy",
            "Poopypants",
            "\"Breakfast",
            "Characteristics"
           ]
          ],
          [
           "themselves/videos.",
           [
            "status/photos",
            "douche-a-palooza",
            "insted",
            "outside.....",
            "Shrapnephobia:",
            "sekiz",
            "'Si",
            "dickjuice",
            "tr0oo0est",
            "\"Tools"
           ]
          ],
          [
           "quad-neck.",
           [
            "Courtesy",
            "Darkwankers:",
            "\"Breakfast",
            "Appearance",
            "Pertaining",
            "codes/representations",
            "Beborn",
            "Wretzky",
            "Buiz",
            "Characteristics"
           ]
          ],
          [
           "nabisco's",
           [
            "classifieds!\"",
            "panini?",
            "earlvon",
            "bullyjammin",
            "hypersquatty",
            "Kisszled\".",
            "woofums.",
            "skundykid1:",
            "penisan",
            "penisa!\""
           ]
          ],
          [
           "hypersquatty",
           [
            "hai?'-",
            "rakhee",
            "squek",
            "sawalka",
            "Faturdays!",
            "phadashaia",
            "Bootney,",
            "Aliakbar",
            "panini?",
            "ileas"
           ]
          ],
          [
           "skundykid1:",
           [
            "flarffin",
            "skundykid2:",
            "kezilicious!",
            "rakhee",
            "Ozzello!",
            "kelly''",
            "hai?'-",
            "Bashim",
            "trophie's",
            "Reign.\""
           ]
          ],
          [
           "flarffin",
           [
            "skundykid1:",
            "skundykid2:",
            "Igniz",
            "drai",
            "rakhee",
            "guappo",
            "kezilicious!",
            "opeday",
            "Qam",
            "festa!\""
           ]
          ],
          [
           "Sterile",
           [
            "Syrup,",
            "Drunky",
            "Pumpkins,",
            "Elis",
            "Walters",
            "BLEUAGHAHR",
            "-Está",
            "molina",
            "Jess'ka:",
            "Yesterday."
           ]
          ],
          [
           "scared.”",
           [
            "Gold,",
            "UJMNBVGFCDXSZAWQ23E4R5T6Y7UJINHBoBLJND",
            "junaci",
            "Ex-Boyfriend:",
            "grehove",
            "Com,",
            "Sahaba",
            "PHRASE",
            "ĸ",
            "малки\""
           ]
          ],
          [
           "woofums.",
           [
            "woofums,",
            "possums,",
            "BOIL",
            "tahsilli",
            "celesbian,",
            "Oose",
            "''holy",
            "beshi",
            "spudłujemy,",
            "слышал?"
           ]
          ],
          [
           "classifieds!\"",
           [
            "nabisco's",
            "@@@@@@@@@@@@@@@@@@@@@@@@@@@@@@@@@@@@",
            "hoooobjganster",
            "hypersquatty",
            "sawalka",
            "WoBegone?\"",
            "persmidgen?",
            "Wooooowwww",
            "Mike:......thats",
            "*sumwhere"
           ]
          ],
          [
           "Chicago-Jon",
           [
            "rakhee",
            "hai?'-",
            "Terrious",
            "teese!",
            "scratch-22",
            "canoovy!",
            "AHHHHH!!!!!!!!!!!!!",
            "knife''",
            "Qam",
            "155mph"
           ]
          ],
          [
           "shingledecking",
           [
            "intr-un",
            "thatha",
            "masper",
            "gOoD",
            "dfh",
            "Coat,",
            "=this",
            "sfebe",
            "AUUUUGHHOOOAOAOAAOOAAO",
            "25152119210312"
           ]
          ],
          [
           "Shameah:",
           [
            "sovay",
            "Eh?",
            "Wsp",
            "Dalolar",
            "Byeee",
            "kai11m3n",
            "er..",
            "hmdtisybbkwrh",
            "Spectrum~",
            "LMFAOOO"
           ]
          ],
          [
           "*ring*",
           [
            "ring*",
            "*runs*",
            "..........",
            "kk",
            "hello?",
            "*cough*",
            "uhhhhh",
            "*checks",
            "D8",
            "rings)"
           ]
          ],
          [
           "Kum-ay-il",
           [
            "Camel?",
            "✔",
            "URBANDICTIONARY-IT,",
            "*sneezes*",
            "Sigh*",
            "Hashnork!",
            "Brahba!",
            "Exactly!",
            "\"apdfftbomhiatilwthtsiy",
            "🚬"
           ]
          ],
          [
           "Me:I'm",
           [
            "homo!",
            "-i'm",
            ":C",
            "TewDIE:",
            "char:",
            "uhhh...",
            "..............",
            "(smiles)",
            "''I'm",
            "*Changes*"
           ]
          ],
          [
           "Sober",
           [
            "Concerned",
            "Educated",
            "Annoyed",
            "Rational",
            "\"Ok.\"",
            ":\\",
            "Informed",
            "Ignorant",
            "\"What???\"",
            "\".....\""
           ]
          ],
          [
           "Elderly",
           [
            "Errr",
            "Face*",
            "\"d'awwwwwwwwwwww\"",
            "Ciao",
            "Unsuspecting",
            "O.o",
            "wHy",
            "UNH",
            "weekend,huh?)",
            "GASP"
           ]
          ],
          [
           "*mutters",
           [
            "WuZ",
            "fucks*",
            "¬_¬",
            "Kenz0rs:",
            "mE",
            "RUFF",
            "LUUUUNCHHH",
            "KPAR",
            "tO",
            "FUKIN"
           ]
          ],
          [
           "Yes?",
           [
            "Hello?",
            "What???",
            "Exactly.",
            "Hi.",
            "Fine.",
            "Hello!",
            "Umm...",
            "Nothing.",
            "Bye!",
            "Nevermind."
           ]
          ],
          [
           "Nothing...",
           [
            "0_o",
            "Nothing.",
            "what???",
            "Wha?",
            "Here.",
            "angrily*",
            "Yeh?",
            "Oh....",
            "*farts*",
            "*Cries*"
           ]
          ],
          [
           "bechaci's",
           [
            "Girl:Did",
            "woow",
            "*farts",
            "ihnen!",
            "e*",
            "DACKLES",
            "uhhhh",
            "O.o",
            "Catasaur",
            ".........."
           ]
          ],
          [
           "lagraped",
           [
            "By-Tor",
            "punalized",
            "orankatank",
            "rapeocaust",
            "fingered.\"",
            "Atheer",
            "...especially",
            "flifio",
            "kreshetta",
            "defz'd"
           ]
          ],
          [
           "'40's,",
           [
            "Domunique",
            "Mechanus",
            "quwedgie",
            "hatched,",
            "pikini",
            "bieber-reflux",
            "pingaslocked",
            "bae'",
            "fanquila!",
            "Romperoomization"
           ]
          ],
          [
           "Sheriffivalli",
           [
            "rimmability:",
            "illsomnia",
            "saughed",
            "monopolygamy.",
            "Valentineitis",
            "Robcan423",
            "dumfan",
            "farzine",
            "rectocranial",
            "flipwænk"
           ]
          ],
          [
           "vomitoligist",
           [
            "say\"Racist\",",
            "defz'd",
            "laychuck",
            "swalllow...hold",
            "gun'",
            "weirdenized",
            "Btmac",
            "suddenly...",
            "hotcold-",
            "anh!"
           ]
          ],
          [
           "phallapeño",
           [
            "convienient,",
            "Robcan423",
            "\"Imperius",
            "obstacle.",
            "zibobo",
            "Poyloykit",
            "Varlamov",
            "meritocrisy",
            "re-watched",
            "Anhar"
           ]
          ],
          [
           "explodes!!",
           [
            "flifio",
            "Whiteest",
            "lagraped",
            "mellavous",
            "Fenrir's",
            "slip-stick”",
            "...especially",
            "yazzrin",
            "defhaps",
            "SUPABIATCH"
           ]
          ],
          [
           "monopolygamy.",
           [
            "sadney'ly",
            "Poyloykit",
            "cycrothrone",
            "lyriphoned!",
            "born?”",
            "yazzrin",
            "chauvinists,",
            "madskrillz",
            "DAPLed.\"",
            "convienient,"
           ]
          ],
          [
           "Especially",
           [
            "thén",
            "And,",
            "Whiteest",
            "Darwinism",
            "especially",
            "Micodelic",
            "However",
            "agreeable",
            "Except",
            "trepidatious"
           ]
          ],
          [
           "neeorree",
           [
            "Neeorree",
            "overstrum",
            "K1aused",
            "lagraped",
            "katify.",
            "gun'",
            "baggot",
            "metathesiophobia",
            "Describes",
            "high-postin'"
           ]
          ],
          [
           "...especially",
           [
            "Whiteest",
            "trepidatious",
            "sulken,",
            "shuts,",
            "Kabak",
            "lesions",
            "Atheer",
            "cockburped",
            "Kankri",
            "neoatheists"
           ]
          ],
          [
           "dahsom.",
           [
            "DuoTang'ed",
            "Kentucky'd",
            "manaculous",
            "manimated",
            "outstreched",
            "moralating",
            "disabuse",
            "sluir",
            "skypemob",
            "enwarens"
           ]
          ],
          [
           "Roast-Industrial",
           [
            "idnl",
            "manaculous",
            "skypemob",
            "easy!”",
            "erectiion",
            "reask",
            "e-sassinate",
            "orgismic",
            "holladay",
            "StarManta'd"
           ]
          ],
          [
           "smockgocked",
           [
            "spontaniosly",
            "Pwuff",
            "hoodwanked",
            "H.P.L.H.G",
            "sudoku-slap",
            "schrunked",
            "Crews'd",
            "micromentoring",
            "Jamie:she",
            "Gouged"
           ]
          ],
          [
           "Soomwaud",
           [
            "Seth-The",
            "pubic",
            "Stoplighting",
            "goopey",
            "pierced",
            "sensy",
            "Fmlwa10id",
            "repulse.",
            "dwive",
            "manaculous"
           ]
          ],
          [
           "skypemob",
           [
            "nubble",
            "Dos-kun",
            "iStuck",
            "lookit'",
            "azyraf",
            "hamartia.\"",
            "hadjiabadi!!!!!!!!!",
            "brostalked",
            "Franklinator,",
            "tattourism"
           ]
          ],
          [
           "puddleducked",
           [
            "swollen",
            "quivering",
            "cupped",
            "tickled",
            "stroked",
            "licked",
            "pierced",
            "ashy",
            "dog's",
            "prolapsed"
           ]
          ],
          [
           "Mannequinism",
           [
            "fluffitude",
            "scroggability",
            "thighriction",
            "antenna's",
            "bumfust",
            "fadanked",
            "liecense.",
            "nessage.",
            "wabbamelons",
            "hypertyping"
           ]
          ],
          [
           "phelch",
           [
            "recognore-ing",
            "quext",
            "laxabaited",
            "Juped",
            "Ivysauring",
            "scream-whispered",
            "rickydooed",
            "hadur",
            "das.",
            "Misshula"
           ]
          ],
          [
           "weddding",
           [
            "Pwuff",
            "Pulled-a-Gandalf\"",
            "Oozing",
            "hederherz",
            "Pelch",
            "DrCaffeine'd",
            "testation",
            "ambrosened",
            "bupps.",
            "'fisherman's"
           ]
          ],
          [
           "shamanistic",
           [
            "long-term",
            "enhance",
            "concerning",
            "effectively",
            "demographic",
            "intelligence,",
            "identity,",
            "determination",
            "vital",
            "marital"
           ]
          ],
          [
           "around!!!!\"",
           [
            "Kazzing",
            "flaoping",
            "petin",
            "mounsin",
            "DSM-",
            "geiring!",
            "Furping!!!!\"",
            "hocrastinating.",
            "eternalarse!",
            "paaping"
           ]
          ],
          [
           "chinek!",
           [
            "Furping!!!!\"",
            "kabloogiers",
            "Kazzing",
            "hocrastinating.",
            "mingegrabbing",
            "DSM-",
            "Llarn!!",
            "petin",
            "geiring!",
            "fergusing"
           ]
          ],
          [
           "mingegrabbing",
           [
            "Furping!!!!\"",
            "chinek!",
            "kabloogiers",
            "whining!",
            "DSM-",
            "petin",
            "frank'",
            "pokecrastinating",
            "Bijan:",
            "MemeKingMoore"
           ]
          ],
          [
           "repitweeting!!",
           [
            "whining!",
            "mingegrabbing",
            "paaping",
            "suckpot!",
            "technojerking",
            "LARPing.",
            "DSM-",
            "DUWAYNEEEEEEEE",
            "Kazzing",
            "proaerostating!\""
           ]
          ],
          [
           "asslin",
           [
            "orvising.",
            "waxturbating.\"",
            "petin",
            "around!!!!\"",
            "turar?",
            "DSM-",
            "SuckaSon",
            "Joel-Browning",
            "geiring!",
            "Macauing"
           ]
          ],
          [
           "Furping!!!!\"",
           [
            "chinek!",
            "DSM-",
            "mingegrabbing",
            "playing!!",
            "kabloogiers",
            "DUWAYNEEEEEEEE",
            "Kazzing",
            "around!!!!\"",
            "eternalarse!",
            "pocketing!\""
           ]
          ],
          [
           "DUWAYNEEEEEEEE",
           [
            "whining!",
            "Furping!!!!\"",
            "mounsin",
            "paizy",
            "ducthin'",
            "LARPing.",
            "DSM-",
            "around!!!!\"",
            "geiring!",
            "repitweeting!!"
           ]
          ],
          [
           "geiring!",
           [
            "geiring",
            "DSM-",
            "Kazzing",
            "frank'",
            "Tajing!",
            "hocrastinating.",
            "around!!!!\"",
            "petin",
            "chinek!",
            "paizy"
           ]
          ],
          [
           "Macauing",
           [
            "fergusing",
            "mingegrabbing",
            "petin",
            "Woffording",
            "hocrastinating.",
            "asslin",
            "geiring!",
            "DUWAYNEEEEEEEE",
            "rolllll",
            "frank'"
           ]
          ],
          [
           "mounsin",
           [
            "around!!!!\"",
            "DUWAYNEEEEEEEE",
            "kabloogiers",
            "eternalarse!",
            "playing!!",
            "mingegrabbing",
            "Kazzing",
            "DSM-",
            "Playin..",
            "wobbledobbing"
           ]
          ],
          [
           "Candini!",
           [
            "guoged",
            "avetard's",
            "comminication",
            "Dimitrece",
            "sheneece",
            "Diamondbacks",
            "dewwwed",
            "segal!",
            "costumize",
            "beedoop"
           ]
          ],
          [
           "sweaving",
           [
            "Federally",
            "Sooik,",
            "lunch?...",
            "-80%",
            "W/8",
            "reals",
            "realsies",
            "sitegeist",
            "Melisha,",
            "removalScheduled"
           ]
          ],
          [
           "chappal\"",
           [
            "chappal",
            "snizles.",
            "roofulz\"",
            "encomium",
            "Luccio\"",
            "GoRoN",
            "soldia",
            "grehan",
            "husbfriend",
            "uphearted"
           ]
          ],
          [
           "caipirinha",
           [
            "utilmate",
            "Northeast",
            "Parrone",
            "Rivuh",
            "МАТЬ!!!",
            "Authority",
            "Dildos",
            "ABCD",
            "6y",
            "Agents"
           ]
          ],
          [
           "Ghonnorea\".",
           [
            "Selevs",
            "fatg",
            "fuckowitz",
            "Melisha,",
            "sure!!\"",
            "Erthal",
            "\"Society",
            "Cucumber?",
            "Vendetta",
            "attacked/used"
           ]
          ],
          [
           "six-month",
           [
            "$3.83",
            "Epicdonutdude_",
            "caipirinha",
            "biloziri",
            "Co-imperative",
            "chappal",
            "yuru",
            "{~help~}WHAT'S",
            "Matt-oan:",
            "SV650"
           ]
          ],
          [
           "fredga",
           [
            "justice-involved",
            "Kokkuri",
            "snowstorm",
            "grimjob",
            "yogarection",
            "powwow",
            "excitemenet",
            "jalcrazi",
            "sermon",
            "cosigning"
           ]
          ],
          [
           "\"athletic",
           [
            "kids\"/jocks",
            "protocol",
            "to-short-shorts",
            "M17N",
            "283",
            "alligators",
            "avocados",
            "crocodiles",
            "Schlitz",
            "PANTHERMAN"
           ]
          ],
          [
           "materia",
           [
            "Crimbo",
            "avaliable",
            "GrammarNaZ1:",
            "Cuphead:",
            "donelode",
            "Womenstruation",
            "Mcgee:",
            "euphemism",
            "cumputur",
            "“Flowers"
           ]
          ],
          [
           "snizles.",
           [
            "Bubakke.\"",
            "shwec",
            "SMULLET",
            "9/11/01",
            "endandout",
            "methcision",
            "stuffin'\"",
            "barf-shivers",
            "chapati",
            "qazwsxplmokneirutydjfhgcbv."
           ]
          ],
          [
           "\"DOUBLE",
           [
            "Knackles",
            ".........................huh?",
            "lngg?",
            "yooooooo",
            "Threesome?",
            "-_-",
            "you:no",
            "pqlamzwoskxneidjcbrufhvgty",
            "IKR",
            "Guy's"
           ]
          ],
          [
           "Nirmal's",
           [
            "kaifa-",
            "=}",
            "haluk?",
            "tête?!\"",
            "mIlK",
            "CHIONG",
            "(feminine",
            "SCARE",
            "waaahhh",
            "whatshisface"
           ]
          ],
          [
           "Knackles",
           [
            "\"DOUBLE",
            "Guy's",
            "Concerned",
            "snozing",
            ".........................huh?",
            "Threesome?",
            "smowin",
            "except....",
            "SOURPATCH",
            "KTP"
           ]
          ],
          [
           "pqlamzwoskxneidjcbrufhvgty",
           [
            "BoDgOlAr",
            "hahahahaha",
            "HANFLEBAHS!",
            "HANFLEBAHS",
            "MAAAAAN",
            "wdym",
            "uhhhhhhh",
            "woow",
            "CHIONG",
            "\"ugh.\""
           ]
          ],
          [
           "dil-dil",
           [
            "huh..",
            "Melidy",
            "xD",
            "wow.",
            "*blushes*",
            "hahah",
            "wuppa",
            ":-)",
            "=)",
            "finn"
           ]
          ],
          [
           "“yupperdoodledoo”",
           [
            "ilykindaichi",
            "hanging*",
            "yeiliris",
            "ROTFLMAOL!!!",
            "akechislove",
            "you:no",
            "hungh",
            "hot😍",
            "Derpp",
            "k1rigirl"
           ]
          ],
          [
           "lngg?",
           [
            "vwl",
            "Rational",
            "Sensible",
            "Reasonable",
            "Depressed",
            "Educated",
            "yooooooo",
            "rLy",
            "*ignores",
            "Torono"
           ]
          ],
          [
           "Quis",
           [
            "hahahahaahahahahahaahaa!!!!!!!!!",
            "\"mbuh!\"",
            "rLy",
            "Sensible",
            "shukran",
            "rytone.",
            "vwl",
            "SHDEEN",
            "(p*(1-x/(b-a))+(q*(1-k)^2+p*(1-(1-k)^2)",
            "“lizbeth"
           ]
          ],
          [
           "nartis:",
           [
            "spearking",
            "nartis",
            "awwthhyrrr!!",
            "fasiha",
            "happy-",
            "MAGGGIC",
            "Educated",
            "couldnt\"",
            "ču",
            "phetfreak"
           ]
          ],
          [
           "thulham",
           [
            "Kendagaano",
            "smoigel",
            "LEDG.",
            "ponopskotch",
            "RDR2",
            "*cringes*",
            "Yaxeni",
            "Fostal",
            "Brother:what",
            "magke"
           ]
          ],
          [
           "Comedians,",
           [
            "ć,",
            "(1998),",
            "깨워버렸어",
            "Reno,",
            "wambow",
            "hassa",
            "Juaregi,",
            "진짜",
            ":v",
            "SERZ"
           ]
          ],
          [
           "rofiat",
           [
            "appeal!\"",
            "Daaamn.",
            "rofiat!",
            "swaggnificent",
            "2)(hears",
            "Comedians,",
            "travoltified",
            "BREAKERS'",
            "Shagrath=",
            "n@0"
           ]
          ],
          [
           "appeal!\"",
           [
            "tensyen",
            "/BOY",
            "BW3,",
            "St.Kitts!",
            "SERZ",
            "Keidan!",
            "2001-04-",
            "darkhaywire!",
            "Lumka",
            "extremes,"
           ]
          ],
          [
           "/\"farmer\"",
           [
            "tractors...plus",
            "(Wal-Mart),",
            "Suketu",
            "segmentata",
            "kaaaaa",
            "Comedians,",
            "Carlo:",
            "<some",
            "MMmmmmm",
            "PrintHi{"
           ]
          ],
          [
           "RubberDuckyMan",
           [
            "cousin-aunt-in-law",
            "(RADIO):",
            "hassa",
            ":v",
            "ToMmi",
            "Plimfity",
            "3)ann-stromous",
            "(Security",
            "Klier",
            "HILL'D"
           ]
          ],
          [
           "smankadoodles",
           [
            "Cutis",
            "tamilore",
            "tgipd",
            "+880_________________________++_",
            "SHAND",
            "femsplaining",
            "Number),",
            "Ideology:",
            "Beemer!",
            "*small"
           ]
          ],
          [
           "Dalebiir",
           [
            "nigabilly",
            "LLLLLLLLLLLLLLLLLLLLLiam”",
            "stavian",
            "ttylal",
            "friend777:",
            "-Beth",
            "SNEA",
            "skeetcheese",
            "tsukkiism",
            "0o0o0o"
           ]
          ],
          [
           "Daaaammmn!!!",
           [
            "WORLDSTARRRR",
            "HOP,",
            "Il-40",
            "Mambis",
            "taciti",
            "haaaaahahahaha",
            "evribodi",
            "nueces",
            "Sweden\"",
            "popsy"
           ]
          ],
          [
           "więc",
           [
            "MEILLÄ",
            "zaczął",
            "╜",
            "Cagasat,",
            "siang",
            "vanese",
            "menwnd",
            "ähän",
            "brrap",
            "Kambanda,"
           ]
          ],
          [
           "nigabilly",
           [
            "Dalebiir",
            "Wilbry",
            "asouf",
            "lolls",
            "3)ann-stromous",
            "‘wow",
            ":\"Thankyou",
            "D'aujanae",
            "(America;",
            "😏😏"
           ]
          ],
          [
           "Tommyb",
           [
            "\"FFS",
            "thiner",
            "Montavious",
            "chhele,",
            "6800",
            "srank",
            "chịch",
            "Fausa\",",
            "tsundere",
            "SHED"
           ]
          ],
          [
           "pbnation",
           [
            "Xanthus",
            "BHOSDRA",
            ".com/member.",
            "uhtb",
            "Engine:",
            "?u=448796",
            "ochet",
            "(AMBW",
            "Amon",
            "tinypic"
           ]
          ],
          [
           "Stimpay",
           [
            "TH3",
            "Uma",
            "Baal",
            "══╩══╩══",
            "𝖒𝖊",
            "YOUWEI'",
            "Ⅰ₇",
            "mẹ",
            "⁷Ⅰ",
            "wwandcov----"
           ]
          ],
          [
           "(Live,",
           [
            "Alterna-Man-Pop",
            "(AMBW",
            "maken",
            "Ilyich",
            "Enthroned",
            "(ES),",
            "kana",
            "𝘏𝘪𝘮,",
            "⠀⠀⢸⣿⣿⣿⡇⣿⣿⣿⣇",
            "artists:"
           ]
          ],
          [
           "Jordyn",
           [
            "Aubrey",
            "Hana",
            "Arianna",
            "Lea",
            "&#12429;&#12367;&#12408;&#12435;&#12369;&#12356;",
            "natalie",
            "Kayleigh",
            "Aki",
            "Lila",
            "tia"
           ]
          ],
          [
           "\"SaintsBlasterTV",
           [
            "Freerunner\"",
            "Coalisland",
            "SaintsBlasterTV",
            "neenes",
            "erica",
            "cdp",
            "Oskar",
            "Wehba",
            "pbnation",
            "Sagar"
           ]
          ],
          [
           "Kaylyn",
           [
            "asparaginylvalylalanylprolylisoleucylphenylalanylisoleucylcysteinylprolyl-",
            "LOOB",
            "Carli",
            "bWobWobW",
            "Señorita",
            "Cori",
            "-Flogging",
            "Trinary:",
            "tyrosylalanylglutaminylcysteinylglutamyllysylvalylglycylvalylaspartylseryl-",
            "yakından"
           ]
          ],
          [
           "\"Barry",
           [
            "Anny",
            "Gorbachev",
            "Charmander",
            "Res",
            "Picket",
            "saamiye",
            "Rondo",
            "ciflonii",
            "Umar",
            "Samson"
           ]
          ],
          [
           "\"pink",
           [
            "Thresh,",
            "̴̻́̑̓̆̚y̴̩̭̺̭͋͋̇̚ỏ",
            "piepie",
            "Rovoro",
            "Skiv",
            "(Live,",
            "“Ivana",
            "libelous",
            "*Click...*",
            "allowscriptaccess=\"always\""
           ]
          ],
          [
           "harglesis",
           [
            "на",
            "sahil",
            "stuk",
            "Hullaballoo",
            "aN",
            "Yusuf,",
            "Asriel",
            "Ці",
            "sı",
            "kuin"
           ]
          ],
          [
           "Kittrick",
           [
            "boongaphile!",
            "Jolonda",
            "colin!!!",
            "Rienhard",
            "cooniferosity",
            "fore?\"",
            "cooq",
            "communitychannel",
            "\"WUSHH",
            "cockafucka"
           ]
          ],
          [
           "faggalooloo",
           [
            "Elina",
            "Mini-wheats?",
            "SUKI",
            "CROCK",
            "(18:01:34)",
            "nuptiis",
            "f012",
            "Kearsten",
            "lukisantos",
            "funwes:"
           ]
          ],
          [
           "ellybruce14",
           [
            "vegito",
            "8????!!!!",
            ".very",
            "arishan",
            "mackinzie",
            "Poofaloof",
            "antokins",
            "Orakpophobia.",
            "T3castillo",
            "Oefinger"
           ]
          ],
          [
           "awhh",
           [
            "mark:",
            "-hey",
            "chad:",
            "awwww",
            "daaaang",
            "diay'g",
            "W2te",
            "boy1:",
            "ooohh",
            "PAncake"
           ]
          ],
          [
           "EGBOK",
           [
            "lorka",
            "monos",
            "Noice",
            "\"Die",
            "Efficiency",
            "llt",
            "3amel",
            "Gloves,",
            "T.B",
            "Ahhhhhhhhhhh"
           ]
          ],
          [
           "Tattle",
           [
            "Novel",
            "Socinus",
            "trollface",
            "adv",
            "Twit",
            "Narwhal",
            "HipHop",
            "173",
            "optimism",
            "P.S"
           ]
          ],
          [
           "dolten",
           [
            "scheme's",
            "patriotism",
            "achievements",
            "gayness",
            "aggression",
            "tentacles",
            "accuracy",
            "smoothness",
            "tenacity",
            "torso"
           ]
          ],
          [
           "yugi",
           [
            "diked",
            "\"Huh\"",
            "\"Pēteri,",
            "roger",
            "oida",
            "tetahydrocannabinol",
            "Brother:\"Since",
            "Yeah-huh",
            "YEAHH!",
            "\"YES!\""
           ]
          ],
          [
           "Chauv",
           [
            "W",
            "Noble",
            "Kirk",
            "Cheech",
            "Grdo",
            "Winston",
            "Wesson",
            "Nixon",
            "Jekyll",
            "Robinson"
           ]
          ],
          [
           "funnest",
           [
            "gayest",
            "saddest",
            "dopest",
            "shittiest",
            "fakest",
            "awsomest",
            "greatest",
            "chillest",
            "funniest",
            "sweetest"
           ]
          ],
          [
           "ashnamablika",
           [
            "ahhawww",
            "TKER",
            ":fuck",
            "nitwitted",
            "Beck!",
            "Ata",
            "debbie:",
            "yoouuu",
            "husam",
            "shift-pinky"
           ]
          ],
          [
           "bahooish",
           [
            "Glee",
            "girl)...",
            "cams*",
            "SorestMercury",
            "Savaan",
            "PushySaiyan",
            "Foals",
            "wwf",
            "DeSyncro",
            "hawk-eyed!"
           ]
          ],
          [
           "VAGINILLION",
           [
            "𝚒𝚝𝚜",
            "divertida",
            "'American",
            "nella",
            "Chicage",
            "guey!",
            "ENGLISH",
            "SUGOI",
            "womyn",
            "Oe"
           ]
          ],
          [
           "okeez",
           [
            "ganyan",
            "apne",
            "na.",
            "bacha",
            "kaya",
            "ég",
            "danaffy",
            "zi",
            "mata",
            "hain"
           ]
          ],
          [
           "IE9",
           [
            "Claire:💥💥💥",
            "*orgasms*",
            "bWobWob",
            "L(-.-L)",
            "SRZ",
            "✔",
            "drawl*",
            "🚬",
            "zthem.",
            "DBAH"
           ]
          ],
          [
           "Fredrik",
           [
            "Kemm",
            "MeEt",
            "poutanas",
            "ma3goola",
            "bE",
            "̜̩̹͛",
            "wItH",
            "Ananya",
            "Caveman:",
            "hàng"
           ]
          ],
          [
           "Pacey",
           [
            "Sonny",
            "Perpendicular",
            "Kaye",
            "Marky",
            "Iain",
            "Ola",
            "Elliott",
            "Jada",
            "Aria",
            "Mog"
           ]
          ],
          [
           "DASBFG",
           [
            "Caitlynd",
            "\"gayageen\"",
            "racecar?”",
            "dungargen.",
            "‘ur",
            "plubble,",
            "Mart's",
            "(hispanic)",
            "Esso,",
            "Mclovinsmooth"
           ]
          ],
          [
           "Werwied",
           [
            "Werwied”",
            "“Werwied",
            "roastophobia",
            "debollockated",
            "“alright”",
            "Schwenked",
            "“They’ve",
            "must’ve",
            "“Must",
            "fribbed"
           ]
          ],
          [
           "smokatoes",
           [
            "raoned",
            "originals",
            "mumps",
            "Nerh",
            "Hm...now",
            "GOODIHH",
            "lickens",
            "dakal",
            "Kristyn",
            "A.I.D.S"
           ]
          ],
          [
           "bungog",
           [
            "iddy",
            "kayleela",
            "Markleavellian",
            "atcha",
            "lankan",
            "tiddy",
            "danei",
            "TI84",
            "gilmore",
            "animaaal"
           ]
          ],
          [
           "Tight",
           [
            "Thick",
            "Rare",
            "Floppy",
            "Rooster",
            "Freezing",
            "Hat!",
            "Tiny",
            "Sucking",
            "Sand",
            "Silk"
           ]
          ],
          [
           "Tipper",
           [
            "neocon",
            "ukalamba",
            "oOgLe",
            "advocated",
            "Pyro",
            "aberrosexual",
            "כוונה",
            "ure=your",
            "Cassuto!",
            "maadanuku"
           ]
          ],
          [
           "ponsock",
           [
            "shouldeck.Other",
            "mylkheads",
            "shitless",
            "Imbrogno's",
            "Nakyia:",
            "Darkhounds",
            "Anali:To",
            "spoogie",
            "meeeeeee!!!!!!!",
            "Quenesha"
           ]
          ],
          [
           "Mahra",
           [
            "kinkle\"",
            "Jelmy!\"",
            "Kameye.",
            "Kavuari",
            "\"partner\")",
            "michidiot",
            "riahnna",
            "Oumaru",
            "Tittibaker!",
            "iwtky"
           ]
          ],
          [
           "DarkCity20",
           [
            "curtoise,",
            "deigobilly,",
            "Ilyess.",
            "*Haikh",
            "“peck",
            "Modiji",
            "Modder",
            "*every",
            "\"Expotition.\"",
            "Omis"
           ]
          ],
          [
           "gameer",
           [
            "crochet,",
            "proportions",
            "Eisley",
            "destitution",
            "Llama-tree",
            "gwargasm",
            "sickcunt",
            "beatdown",
            "gasmgasm",
            "proportions."
           ]
          ],
          [
           "Raje",
           [
            "Bhonsle',",
            "Maravilla",
            "keda",
            "OFFICER",
            "Mix)",
            "Macaulay",
            "ý",
            "Hurensohn,",
            "6787",
            "(1972)"
           ]
          ],
          [
           "nigglet",
           [
            "poppa",
            "dominic",
            "ming",
            "hoe\"",
            "suka",
            "nggak",
            "xu",
            "shou",
            "vinograde,",
            "rocco"
           ]
          ],
          [
           "padawan",
           [
            "wadapan",
            "grasshopper",
            "jeezy",
            "friovlous",
            "tampontrepreneur,",
            "rodwell",
            "kyanite",
            "Ayoyinka.",
            "14-f-uk",
            "padwan"
           ]
          ],
          [
           "preakers",
           [
            "'kaak'",
            "Pukatron?\"",
            "tangtops,",
            "scarurous",
            "mousolini",
            "Brad....",
            "Sussell.",
            "Yeezee",
            "tomchilla",
            ",\"If"
           ]
          ],
          [
           "pubeardy",
           [
            "APIEFM\"",
            "artboxed",
            "fivealive",
            "fourtoscore",
            "jamstack",
            "1)last",
            "extreme-binary.",
            "rubbin!",
            "Ruthless\"",
            "peek-a-booty"
           ]
          ],
          [
           "Sinhala",
           [
            "Obina",
            "senectus",
            "moje",
            "lang,",
            "jego",
            "pola",
            "67445C8C525ED1786ADB806DD5806BCF816ABE7360AE6556",
            "Decimal:",
            "welada?",
            "Aqui"
           ]
          ],
          [
           "Interent",
           [
            "tr0oo0est",
            "gods,\"",
            "P/A",
            "tr00oo0",
            "\"Tools",
            "efformation",
            "Cindyrella",
            "Appearance",
            "themselves/videos.",
            "quad-neck."
           ]
          ],
          [
           "Lemke",
           [
            "nabisco's",
            "hypersquatty",
            "skundykid1:",
            "flarffin",
            "Sterile",
            "scared.”",
            "woofums.",
            "classifieds!\"",
            "Chicago-Jon",
            "shingledecking"
           ]
          ],
          [
           "Dalolar",
           [
            "Shameah:",
            "*ring*",
            "Kum-ay-il",
            "Me:I'm",
            "Sober",
            "Elderly",
            "*mutters",
            "Yes?",
            "Nothing...",
            "bechaci's"
           ]
          ],
          [
           "Romperoomization",
           [
            "lagraped",
            "'40's,",
            "Sheriffivalli",
            "vomitoligist",
            "phallapeño",
            "explodes!!",
            "monopolygamy.",
            "Especially",
            "neeorree",
            "...especially"
           ]
          ],
          [
           "manaculous",
           [
            "dahsom.",
            "Roast-Industrial",
            "smockgocked",
            "Soomwaud",
            "skypemob",
            "puddleducked",
            "Mannequinism",
            "phelch",
            "weddding",
            "shamanistic"
           ]
          ],
          [
           "cuntalizing",
           [
            "around!!!!\"",
            "chinek!",
            "mingegrabbing",
            "repitweeting!!",
            "asslin",
            "Furping!!!!\"",
            "DUWAYNEEEEEEEE",
            "geiring!",
            "Macauing",
            "mounsin"
           ]
          ],
          [
           "chappal",
           [
            "Candini!",
            "sweaving",
            "chappal\"",
            "caipirinha",
            "Ghonnorea\".",
            "six-month",
            "fredga",
            "\"athletic",
            "materia",
            "snizles."
           ]
          ],
          [
           "tsukihina",
           [
            "\"DOUBLE",
            "Nirmal's",
            "Knackles",
            "pqlamzwoskxneidjcbrufhvgty",
            "dil-dil",
            "“yupperdoodledoo”",
            "lngg?",
            "Quis",
            "nartis:",
            "thulham"
           ]
          ],
          [
           "swaggnificent",
           [
            "Comedians,",
            "rofiat",
            "appeal!\"",
            "/\"farmer\"",
            "RubberDuckyMan",
            "smankadoodles",
            "Dalebiir",
            "Daaaammmn!!!",
            "więc",
            "nigabilly"
           ]
          ],
          [
           "exson",
           [
            "Tommyb",
            "pbnation",
            "Stimpay",
            "(Live,",
            "Jordyn",
            "\"SaintsBlasterTV",
            "Kaylyn",
            "\"Barry",
            "\"pink",
            "harglesis"
           ]
          ]
         ],
         "hovertemplate": "0=%{x}<br>1=%{y}<br>words=%{customdata[0]}<br>sim_words=%{customdata[1]}<extra></extra>",
         "legendgroup": "",
         "marker": {
          "color": "#636efa",
          "symbol": "circle"
         },
         "mode": "markers",
         "name": "",
         "orientation": "v",
         "showlegend": false,
         "type": "scatter",
         "x": [
          -8.284575462341309,
          -9.039223670959473,
          -8.191182136535645,
          -9.131688117980957,
          -8.39284896850586,
          -7.386621475219727,
          -8.154093742370605,
          -11.047870635986328,
          -3.8184118270874023,
          -9.393715858459473,
          7.194983005523682,
          -2.0761172771453857,
          6.298148155212402,
          -1.598890781402588,
          0.7255619764328003,
          -2.458761215209961,
          -1.3737571239471436,
          -0.6066259145736694,
          0.6007471084594727,
          8.343308448791504,
          -21.388389587402344,
          -20.497634887695312,
          -18.811847686767578,
          -19.10032081604004,
          -20.285253524780273,
          -20.378311157226562,
          -18.523555755615234,
          -18.976795196533203,
          -19.727479934692383,
          -20.11477279663086,
          21.32320785522461,
          21.79673194885254,
          20.784574508666992,
          21.013559341430664,
          3.269324779510498,
          1.717731237411499,
          -5.047475814819336,
          21.259313583374023,
          16.396041870117188,
          -4.551931381225586,
          -2.6727449893951416,
          3.4264116287231445,
          18.335796356201172,
          15.957746505737305,
          3.6525368690490723,
          -2.6284799575805664,
          4.250077724456787,
          7.656311988830566,
          9.137371063232422,
          9.680232048034668,
          9.237024307250977,
          -1.041975498199463,
          11.197128295898438,
          11.006173133850098,
          8.47829532623291,
          7.535492420196533,
          9.303467750549316,
          6.938331127166748,
          8.37578010559082,
          10.605550765991211,
          -1.9683417081832886,
          6.569282531738281,
          6.77631139755249,
          6.71838903427124,
          6.827388763427734,
          7.042745590209961,
          6.9543962478637695,
          0.4153529703617096,
          0.46883130073547363,
          6.475761413574219,
          -0.06920801103115082,
          1.5553584098815918,
          -0.8319661021232605,
          20.012697219848633,
          9.148383140563965,
          -5.795804500579834,
          -1.5808671712875366,
          0.3602042496204376,
          1.095168113708496,
          13.816417694091797,
          16.913414001464844,
          18.43543815612793,
          18.03765296936035,
          18.220041275024414,
          -0.08226233720779419,
          17.62639617919922,
          5.764280796051025,
          18.205535888671875,
          6.010490417480469,
          17.05721092224121,
          1.5848712921142578,
          1.573270559310913,
          1.523062825202942,
          1.5058183670043945,
          1.80632483959198,
          1.0856719017028809,
          1.9203557968139648,
          1.4985233545303345,
          1.8094719648361206,
          1.7985693216323853,
          -4.67810583114624,
          -3.0801141262054443,
          6.838876247406006,
          -3.745025634765625,
          3.048299789428711,
          4.765312671661377,
          0.687569260597229,
          2.9824368953704834,
          3.6848201751708984,
          -3.7187790870666504,
          11.485419273376465,
          -14.37565803527832,
          -13.819350242614746,
          -14.190387725830078,
          -13.994159698486328,
          -13.91338062286377,
          -1.3102799654006958,
          -15.285264015197754,
          -12.907148361206055,
          -13.98601245880127,
          4.997190952301025,
          -2.799957275390625,
          10.160664558410645,
          8.95374870300293,
          -2.895076036453247,
          5.487229824066162,
          17.648571014404297,
          4.757203102111816,
          5.546943187713623,
          2.9390010833740234,
          1.041375756263733,
          15.970476150512695,
          15.726142883300781,
          15.085698127746582,
          18.522357940673828,
          13.935367584228516,
          7.466330528259277,
          16.740806579589844,
          18.822641372680664,
          18.543895721435547,
          1.7530680894851685,
          8.888676643371582,
          1.3990116119384766,
          14.181644439697266,
          1.223642349243164,
          7.775609970092773,
          1.9098625183105469,
          2.1081907749176025,
          -6.002257347106934,
          8.304610252380371,
          10.81691837310791,
          7.5277791023254395,
          14.096585273742676,
          8.440916061401367,
          18.604694366455078,
          3.6335062980651855,
          15.297487258911133,
          9.296244621276855,
          5.780784606933594,
          14.965072631835938,
          16.897432327270508,
          5.177547931671143,
          16.536909103393555,
          15.733814239501953,
          16.99931526184082,
          16.046533584594727,
          16.722339630126953,
          16.940380096435547,
          17.504318237304688,
          6.653536319732666,
          -17.920475006103516,
          -16.619888305664062,
          -18.232879638671875,
          -18.848913192749023,
          -18.589773178100586,
          -16.616703033447266,
          -18.34756088256836,
          -17.10441780090332,
          -19.39307403564453,
          -17.547473907470703,
          3.8980300426483154,
          4.095017433166504,
          4.036192893981934,
          4.605964660644531,
          5.029820442199707,
          3.6722068786621094,
          6.1525139808654785,
          6.840714454650879,
          6.153278827667236,
          5.070621490478516,
          0.9300996661186218,
          7.573747634887695,
          7.58702278137207,
          -0.035007983446121216,
          -0.1433122307062149,
          0.7826639413833618,
          1.3309342861175537,
          0.31818056106567383,
          7.193657398223877,
          7.120159149169922,
          -10.084284782409668,
          -13.032732963562012,
          -12.059449195861816,
          17.789085388183594,
          12.90863037109375,
          18.537904739379883,
          -12.415329933166504,
          -11.058794021606445,
          0.6435288786888123,
          -10.535289764404297,
          14.520106315612793,
          14.075377464294434,
          13.390118598937988,
          13.255915641784668,
          10.558988571166992,
          12.571235656738281,
          14.831537246704102,
          14.268890380859375,
          13.424354553222656,
          11.915800094604492,
          7.964963912963867,
          -0.02943379245698452,
          -4.370329856872559,
          8.470582962036133,
          11.391581535339355,
          8.856616973876953,
          2.9412176609039307,
          -1.2998374700546265,
          4.202118873596191,
          3.9161200523376465,
          -10.882895469665527,
          -10.377657890319824,
          10.557607650756836,
          -10.550993919372559,
          -10.07201862335205,
          -11.428906440734863,
          -12.03976058959961,
          -6.642172813415527,
          -10.063608169555664,
          -12.474270820617676,
          -15.523138046264648,
          -16.258193969726562,
          -15.81531047821045,
          -16.0030574798584,
          -17.151264190673828,
          -14.768796920776367,
          -15.516199111938477,
          -16.260269165039062,
          -16.43842124938965,
          -14.623040199279785,
          -14.709394454956055,
          -15.092300415039062,
          -7.6118316650390625,
          -13.020366668701172,
          -14.445964813232422,
          -14.064791679382324,
          7.454973220825195,
          8.99718189239502,
          -14.507281303405762,
          -4.138319492340088,
          -7.319290637969971,
          15.188331604003906,
          -9.18363094329834,
          -8.703316688537598,
          -2.3491005897521973,
          -7.933560371398926,
          -7.088644981384277,
          9.441047668457031,
          -10.392019271850586,
          15.169313430786133,
          -1.0191363096237183,
          19.052173614501953,
          8.10865592956543,
          15.197702407836914,
          11.747356414794922,
          11.372838020324707,
          13.39122486114502,
          1.9085227251052856,
          5.985085964202881,
          13.968656539916992,
          18.415504455566406,
          18.140518188476562,
          19.199460983276367,
          19.183734893798828,
          18.902069091796875,
          6.8102126121521,
          11.300918579101562,
          12.663050651550293,
          6.1305060386657715,
          11.588717460632324,
          -3.0929882526397705,
          12.21019172668457,
          13.446871757507324,
          -3.337120771408081,
          -3.6935391426086426,
          -4.092565059661865,
          -3.8699095249176025,
          -4.0501933097839355,
          -1.9965524673461914,
          -2.5005290508270264,
          -5.327013969421387,
          -6.9607038497924805,
          -3.2977993488311768,
          -4.370257377624512,
          -4.274073123931885,
          -7.278539657592773,
          -6.89715051651001,
          -6.999302387237549,
          -4.200927734375,
          -4.1133599281311035,
          -11.073052406311035,
          -11.264364242553711,
          -11.593246459960938,
          -12.376952171325684,
          -10.717268943786621,
          -11.949734687805176,
          -12.464800834655762,
          -11.43098258972168,
          -10.879433631896973,
          -11.207725524902344,
          14.707347869873047,
          1.6480684280395508,
          12.200362205505371,
          11.751302719116211,
          10.456153869628906,
          9.898268699645996,
          5.258270263671875,
          13.393950462341309,
          3.127858877182007,
          12.969940185546875,
          -8.78010368347168,
          -9.458301544189453,
          2.959160327911377,
          -8.797722816467285,
          -8.504860877990723,
          -8.371514320373535,
          -8.49169635772705,
          2.939765691757202,
          -9.056839942932129,
          -8.249639511108398,
          -11.717573165893555,
          -12.039801597595215,
          -10.907058715820312,
          -11.080252647399902,
          -0.16199125349521637,
          -6.235567092895508,
          -12.096817970275879,
          -11.718985557556152,
          -11.086515426635742,
          -6.026400566101074,
          -14.831192016601562,
          15.111165046691895,
          -6.3519086837768555,
          10.753411293029785,
          16.073923110961914,
          15.025345802307129,
          14.284952163696289,
          19.689712524414062,
          15.129923820495605,
          -10.056715965270996,
          -6.439223289489746,
          -17.074861526489258,
          -7.6232805252075195,
          -7.014248847961426,
          -7.543576240539551,
          -7.021883964538574,
          -7.672811508178711,
          8.108773231506348,
          -6.637247562408447,
          5.306530475616455,
          -21.345359802246094,
          -19.922653198242188,
          -19.240894317626953,
          -19.79146957397461,
          -20.69730567932129,
          -19.25767707824707,
          -20.70685577392578,
          -19.381202697753906,
          -19.113052368164062,
          -8.524829864501953,
          1.3037805557250977,
          0.9533538818359375,
          0.5989716053009033,
          0.39989611506462097,
          0.10142409801483154,
          1.0331898927688599,
          0.8082537651062012,
          1.9030019044876099,
          0.11710581928491592,
          1.4231035709381104,
          -6.773550033569336,
          -4.395152568817139,
          -5.451523303985596,
          -4.0847954750061035,
          -4.770666122436523,
          -4.73530387878418,
          -5.865583896636963,
          -3.467515707015991,
          -2.7277708053588867,
          -5.662349224090576,
          -10.69628620147705,
          -10.526920318603516,
          -10.75389289855957,
          -10.389001846313477,
          -10.788454055786133,
          -11.87067985534668,
          -10.297002792358398,
          -10.989706993103027,
          -11.481361389160156,
          -10.321720123291016,
          -14.41004467010498,
          -14.00659465789795,
          -14.052999496459961,
          -15.781829833984375,
          -15.234246253967285,
          -14.86937427520752,
          -15.265190124511719,
          -13.426314353942871,
          -14.269733428955078,
          -14.601799011230469,
          2.86989164352417,
          -4.529964447021484,
          2.211522102355957,
          -1.4475200176239014,
          16.771684646606445,
          -5.29232120513916,
          5.173504829406738,
          5.860512733459473,
          1.6102136373519897,
          2.506100654602051,
          -8.782691955566406,
          -9.137507438659668,
          -19.693490982055664,
          3.973616361618042,
          -3.1249032020568848,
          -0.2884005606174469,
          -1.9524117708206177,
          -2.148329257965088,
          -0.32553964853286743,
          1.613879919052124,
          -4.5886101722717285,
          -13.992545127868652,
          -4.798431873321533,
          -9.649325370788574,
          -6.054905891418457,
          13.907394409179688,
          6.124973297119141,
          -18.21627426147461,
          4.84146785736084,
          0.11592084169387817,
          -10.557896614074707,
          13.833207130432129,
          3.8345882892608643,
          -10.951004028320312,
          -15.137078285217285,
          -15.637246131896973,
          -8.595854759216309,
          -1.0312711000442505,
          18.433441162109375,
          -1.247697114944458,
          -5.2968525886535645,
          -10.68157958984375,
          4.353998184204102,
          -8.622963905334473,
          -11.356674194335938,
          -14.885672569274902,
          -7.093717575073242,
          -19.670225143432617,
          0.572399914264679,
          -5.640357494354248,
          -11.20213508605957,
          -14.014822006225586,
          -5.119347095489502
         ],
         "xaxis": "x",
         "y": [
          10.302295684814453,
          9.455655097961426,
          8.48240852355957,
          10.41236400604248,
          10.627391815185547,
          9.666889190673828,
          9.345377922058105,
          3.638359546661377,
          1.6311664581298828,
          10.350260734558105,
          -12.213481903076172,
          1.8128606081008911,
          -12.395877838134766,
          -5.330407619476318,
          -4.517436504364014,
          0.22415879368782043,
          -0.5043307542800903,
          -4.704864978790283,
          -3.830329656600952,
          -12.746428489685059,
          13.541629791259766,
          12.8912353515625,
          13.17953872680664,
          13.583961486816406,
          13.005337715148926,
          13.297677040100098,
          13.40994644165039,
          13.652507781982422,
          12.285019874572754,
          14.652935981750488,
          -16.741594314575195,
          -17.247112274169922,
          -16.970855712890625,
          -18.081254959106445,
          -1.8770982027053833,
          -2.224544048309326,
          -3.2365148067474365,
          -16.341873168945312,
          -15.693721771240234,
          -2.2020132541656494,
          3.4903171062469482,
          -8.014620780944824,
          -21.18498420715332,
          -19.06355857849121,
          -10.65861988067627,
          3.1091487407684326,
          -10.03419017791748,
          -12.5814847946167,
          -16.123062133789062,
          -16.361949920654297,
          -19.0292911529541,
          3.905362844467163,
          -20.605283737182617,
          -21.616729736328125,
          -16.113988876342773,
          -15.11392879486084,
          -17.3770694732666,
          -14.024500846862793,
          -19.370073318481445,
          -21.727083206176758,
          10.311445236206055,
          -20.651926040649414,
          -21.887187957763672,
          -22.60845184326172,
          -23.122512817382812,
          -23.49211311340332,
          -22.1186580657959,
          -12.768802642822266,
          -12.758621215820312,
          -23.766794204711914,
          -7.283841133117676,
          -10.254587173461914,
          -2.5776000022888184,
          -19.458772659301758,
          -10.837593078613281,
          4.204015731811523,
          -2.8816163539886475,
          -5.937774181365967,
          -6.376492023468018,
          -17.785968780517578,
          -26.935150146484375,
          -24.19074821472168,
          -26.357873916625977,
          -23.562381744384766,
          11.526386260986328,
          -25.70298957824707,
          -17.518056869506836,
          -25.329702377319336,
          -17.47669219970703,
          -26.24207305908203,
          -19.514524459838867,
          -17.423816680908203,
          -18.660747528076172,
          -18.477022171020508,
          -16.020885467529297,
          2.7358908653259277,
          -21.802396774291992,
          -17.394039154052734,
          -21.222671508789062,
          -21.180282592773438,
          5.658676624298096,
          5.145267009735107,
          -10.896647453308105,
          5.737942218780518,
          -3.520683765411377,
          -11.677458763122559,
          3.0795767307281494,
          -4.600886344909668,
          -4.821237564086914,
          4.5327839851379395,
          -23.81222152709961,
          4.978302001953125,
          5.354003429412842,
          6.274744510650635,
          3.5923781394958496,
          5.260916709899902,
          8.418363571166992,
          4.556460857391357,
          5.112362384796143,
          6.178919792175293,
          -8.971582412719727,
          1.1808500289916992,
          -18.027864456176758,
          -14.242671966552734,
          1.744124174118042,
          -10.982073783874512,
          -19.454788208007812,
          -5.886480331420898,
          -12.752893447875977,
          -5.4323859214782715,
          -3.006727457046509,
          -17.133010864257812,
          -16.49557113647461,
          -16.68526840209961,
          -17.86751365661621,
          -16.607837677001953,
          -9.363351821899414,
          -17.343692779541016,
          -18.5860652923584,
          -19.090789794921875,
          -0.23448766767978668,
          -6.338174343109131,
          -0.6530409455299377,
          -14.949541091918945,
          -1.2579927444458008,
          -6.352266788482666,
          -1.0506263971328735,
          -0.3888867199420929,
          2.479351043701172,
          -6.434556007385254,
          -14.791976928710938,
          -11.400043487548828,
          -15.89311695098877,
          -11.959487915039062,
          -19.908687591552734,
          -7.308629035949707,
          -18.832717895507812,
          -12.374351501464844,
          -7.59608793258667,
          -18.21693992614746,
          -24.791810989379883,
          -3.9417128562927246,
          -22.024986267089844,
          -21.635066986083984,
          -23.521045684814453,
          -20.661455154418945,
          -24.493885040283203,
          -23.34257698059082,
          -22.865188598632812,
          -5.5241379737854,
          18.695987701416016,
          17.022796630859375,
          19.220121383666992,
          20.702014923095703,
          18.25603485107422,
          17.10130500793457,
          21.42312240600586,
          18.662822723388672,
          18.90721321105957,
          18.496049880981445,
          10.891294479370117,
          10.834212303161621,
          11.4077730178833,
          12.189645767211914,
          12.474296569824219,
          10.713520050048828,
          12.222088813781738,
          12.150964736938477,
          8.355538368225098,
          9.313243865966797,
          7.904695510864258,
          -16.823501586914062,
          -1.8751790523529053,
          7.0590291023254395,
          6.683320999145508,
          7.292129039764404,
          5.504079818725586,
          5.761310577392578,
          -16.34557342529297,
          -1.8101173639297485,
          15.102100372314453,
          15.897711753845215,
          15.039320945739746,
          -16.58755111694336,
          -13.301541328430176,
          -12.636676788330078,
          15.448980331420898,
          13.954669952392578,
          -8.63897705078125,
          13.59199047088623,
          -23.36631965637207,
          -22.105712890625,
          -21.49912452697754,
          -23.214414596557617,
          -12.189668655395508,
          -17.81060028076172,
          -24.697248458862305,
          -23.136507034301758,
          -23.7816104888916,
          -18.483943939208984,
          -18.12283706665039,
          -3.2970099449157715,
          3.1772022247314453,
          -20.629459381103516,
          -20.280330657958984,
          -18.307592391967773,
          -7.139504909515381,
          0.10679056495428085,
          -12.773900032043457,
          -8.187945365905762,
          19.369308471679688,
          19.338666915893555,
          -7.590549468994141,
          19.378740310668945,
          17.874221801757812,
          20.159887313842773,
          18.37846565246582,
          7.497416973114014,
          18.65705680847168,
          17.70374870300293,
          21.27253532409668,
          19.898529052734375,
          18.600467681884766,
          19.6496639251709,
          20.98979377746582,
          19.824399948120117,
          18.942594528198242,
          21.98411750793457,
          20.46146583557129,
          18.538597106933594,
          10.433287620544434,
          8.959178924560547,
          6.427341938018799,
          9.805719375610352,
          9.750510215759277,
          11.648499488830566,
          -8.095805168151855,
          -9.188006401062012,
          9.70553207397461,
          -2.101900815963745,
          -0.7528431415557861,
          -8.416702270507812,
          -1.0805022716522217,
          11.837156295776367,
          5.379524230957031,
          0.4090031087398529,
          -1.4816104173660278,
          -20.754901885986328,
          -1.6416449546813965,
          -8.422881126403809,
          1.3571237325668335,
          -20.291622161865234,
          -10.814960479736328,
          -19.829641342163086,
          -16.671619415283203,
          -16.069198608398438,
          -16.457002639770508,
          -4.1578216552734375,
          -8.5126314163208,
          -19.83742332458496,
          -13.336485862731934,
          -14.433192253112793,
          -16.03047752380371,
          -14.693509101867676,
          -18.782470703125,
          -9.819972038269043,
          -13.481088638305664,
          -14.163968086242676,
          -9.308347702026367,
          -13.105368614196777,
          14.274792671203613,
          -12.015040397644043,
          -11.43508243560791,
          15.140779495239258,
          15.194334030151367,
          14.356813430786133,
          13.259336471557617,
          14.676312446594238,
          14.573326110839844,
          15.699028015136719,
          19.981290817260742,
          20.78500747680664,
          19.83740997314453,
          18.829509735107422,
          20.664182662963867,
          20.631105422973633,
          20.67679786682129,
          21.571239471435547,
          19.166650772094727,
          19.470218658447266,
          28.007450103759766,
          27.026493072509766,
          27.647846221923828,
          27.53634262084961,
          28.282485961914062,
          28.760540008544922,
          28.003602981567383,
          27.382905960083008,
          27.68367576599121,
          29.01898765563965,
          -17.924924850463867,
          -4.098597049713135,
          -15.258257865905762,
          -14.75101089477539,
          -14.151739120483398,
          -13.390361785888672,
          -8.74023723602295,
          -15.563883781433105,
          -6.605897426605225,
          -16.15485191345215,
          1.6828759908676147,
          1.6299482583999634,
          1.9423208236694336,
          1.619239091873169,
          2.615408182144165,
          3.880265951156616,
          4.461300373077393,
          -11.418031692504883,
          4.0427117347717285,
          5.070926666259766,
          11.986905097961426,
          0.5670198202133179,
          -0.7507883906364441,
          -0.623264729976654,
          -1.5588288307189941,
          5.122765064239502,
          11.241230010986328,
          12.200181007385254,
          11.823890686035156,
          4.823625564575195,
          0.26123887300491333,
          -12.544431686401367,
          3.5847229957580566,
          -10.266071319580078,
          -13.98092269897461,
          -14.862645149230957,
          -13.420345306396484,
          -21.535654067993164,
          -13.610703468322754,
          7.044963359832764,
          15.101113319396973,
          10.770709037780762,
          15.403423309326172,
          14.061667442321777,
          14.67149543762207,
          14.75103759765625,
          14.87585163116455,
          -22.053197860717773,
          15.913641929626465,
          0.3421958088874817,
          6.303988456726074,
          7.040388107299805,
          6.341883659362793,
          8.818755149841309,
          6.393479347229004,
          8.096172332763672,
          7.939148902893066,
          6.203779220581055,
          7.088210105895996,
          12.786728858947754,
          23.589385986328125,
          23.928125381469727,
          24.279836654663086,
          22.977006912231445,
          23.81300163269043,
          24.209800720214844,
          23.151302337646484,
          24.44475555419922,
          23.560863494873047,
          23.149822235107422,
          11.388038635253906,
          10.300812721252441,
          11.850442886352539,
          7.906224727630615,
          10.518635749816895,
          9.265504837036133,
          10.559747695922852,
          -0.17536669969558716,
          7.446136951446533,
          11.676996231079102,
          8.470952033996582,
          5.848504066467285,
          8.929616928100586,
          7.998044967651367,
          9.901238441467285,
          8.27341365814209,
          7.413579940795898,
          7.547415733337402,
          7.144087314605713,
          10.276447296142578,
          13.68319320678711,
          14.48891544342041,
          14.564070701599121,
          14.000479698181152,
          12.55098819732666,
          13.568007469177246,
          14.810220718383789,
          13.581816673278809,
          12.78549575805664,
          14.2482328414917,
          -9.383011817932129,
          0.6502041816711426,
          -5.906453609466553,
          -1.3533638715744019,
          -21.109283447265625,
          0.4355895221233368,
          -9.907600402832031,
          -14.651334762573242,
          -7.78636360168457,
          -7.907444953918457,
          10.118282318115234,
          11.416048049926758,
          13.873319625854492,
          -1.7418789863586426,
          3.931828737258911,
          4.192726135253906,
          10.287583351135254,
          -3.633185625076294,
          11.594079971313477,
          -16.687915802001953,
          5.8206868171691895,
          5.789494514465332,
          7.317984104156494,
          11.804402351379395,
          2.43803071975708,
          -18.826915740966797,
          -4.283124923706055,
          17.38005828857422,
          10.640559196472168,
          7.580077648162842,
          14.728474617004395,
          -24.561994552612305,
          -13.472034454345703,
          18.691875457763672,
          20.53139305114746,
          9.356900215148926,
          -1.8553271293640137,
          1.6026209592819214,
          -13.874350547790527,
          15.13328742980957,
          20.46147346496582,
          27.390592575073242,
          -6.881649494171143,
          4.691341876983643,
          12.045079231262207,
          -0.06373172998428345,
          14.430399894714355,
          7.50148868560791,
          23.372907638549805,
          11.142733573913574,
          9.222670555114746,
          13.997445106506348,
          0.7390236854553223
         ],
         "yaxis": "y"
        }
       ],
       "layout": {
        "autosize": false,
        "height": 1000,
        "legend": {
         "tracegroupgap": 0
        },
        "margin": {
         "t": 60
        },
        "template": {
         "data": {
          "bar": [
           {
            "error_x": {
             "color": "#2a3f5f"
            },
            "error_y": {
             "color": "#2a3f5f"
            },
            "marker": {
             "line": {
              "color": "#E5ECF6",
              "width": 0.5
             },
             "pattern": {
              "fillmode": "overlay",
              "size": 10,
              "solidity": 0.2
             }
            },
            "type": "bar"
           }
          ],
          "barpolar": [
           {
            "marker": {
             "line": {
              "color": "#E5ECF6",
              "width": 0.5
             },
             "pattern": {
              "fillmode": "overlay",
              "size": 10,
              "solidity": 0.2
             }
            },
            "type": "barpolar"
           }
          ],
          "carpet": [
           {
            "aaxis": {
             "endlinecolor": "#2a3f5f",
             "gridcolor": "white",
             "linecolor": "white",
             "minorgridcolor": "white",
             "startlinecolor": "#2a3f5f"
            },
            "baxis": {
             "endlinecolor": "#2a3f5f",
             "gridcolor": "white",
             "linecolor": "white",
             "minorgridcolor": "white",
             "startlinecolor": "#2a3f5f"
            },
            "type": "carpet"
           }
          ],
          "choropleth": [
           {
            "colorbar": {
             "outlinewidth": 0,
             "ticks": ""
            },
            "type": "choropleth"
           }
          ],
          "contour": [
           {
            "colorbar": {
             "outlinewidth": 0,
             "ticks": ""
            },
            "colorscale": [
             [
              0,
              "#0d0887"
             ],
             [
              0.1111111111111111,
              "#46039f"
             ],
             [
              0.2222222222222222,
              "#7201a8"
             ],
             [
              0.3333333333333333,
              "#9c179e"
             ],
             [
              0.4444444444444444,
              "#bd3786"
             ],
             [
              0.5555555555555556,
              "#d8576b"
             ],
             [
              0.6666666666666666,
              "#ed7953"
             ],
             [
              0.7777777777777778,
              "#fb9f3a"
             ],
             [
              0.8888888888888888,
              "#fdca26"
             ],
             [
              1,
              "#f0f921"
             ]
            ],
            "type": "contour"
           }
          ],
          "contourcarpet": [
           {
            "colorbar": {
             "outlinewidth": 0,
             "ticks": ""
            },
            "type": "contourcarpet"
           }
          ],
          "heatmap": [
           {
            "colorbar": {
             "outlinewidth": 0,
             "ticks": ""
            },
            "colorscale": [
             [
              0,
              "#0d0887"
             ],
             [
              0.1111111111111111,
              "#46039f"
             ],
             [
              0.2222222222222222,
              "#7201a8"
             ],
             [
              0.3333333333333333,
              "#9c179e"
             ],
             [
              0.4444444444444444,
              "#bd3786"
             ],
             [
              0.5555555555555556,
              "#d8576b"
             ],
             [
              0.6666666666666666,
              "#ed7953"
             ],
             [
              0.7777777777777778,
              "#fb9f3a"
             ],
             [
              0.8888888888888888,
              "#fdca26"
             ],
             [
              1,
              "#f0f921"
             ]
            ],
            "type": "heatmap"
           }
          ],
          "heatmapgl": [
           {
            "colorbar": {
             "outlinewidth": 0,
             "ticks": ""
            },
            "colorscale": [
             [
              0,
              "#0d0887"
             ],
             [
              0.1111111111111111,
              "#46039f"
             ],
             [
              0.2222222222222222,
              "#7201a8"
             ],
             [
              0.3333333333333333,
              "#9c179e"
             ],
             [
              0.4444444444444444,
              "#bd3786"
             ],
             [
              0.5555555555555556,
              "#d8576b"
             ],
             [
              0.6666666666666666,
              "#ed7953"
             ],
             [
              0.7777777777777778,
              "#fb9f3a"
             ],
             [
              0.8888888888888888,
              "#fdca26"
             ],
             [
              1,
              "#f0f921"
             ]
            ],
            "type": "heatmapgl"
           }
          ],
          "histogram": [
           {
            "marker": {
             "pattern": {
              "fillmode": "overlay",
              "size": 10,
              "solidity": 0.2
             }
            },
            "type": "histogram"
           }
          ],
          "histogram2d": [
           {
            "colorbar": {
             "outlinewidth": 0,
             "ticks": ""
            },
            "colorscale": [
             [
              0,
              "#0d0887"
             ],
             [
              0.1111111111111111,
              "#46039f"
             ],
             [
              0.2222222222222222,
              "#7201a8"
             ],
             [
              0.3333333333333333,
              "#9c179e"
             ],
             [
              0.4444444444444444,
              "#bd3786"
             ],
             [
              0.5555555555555556,
              "#d8576b"
             ],
             [
              0.6666666666666666,
              "#ed7953"
             ],
             [
              0.7777777777777778,
              "#fb9f3a"
             ],
             [
              0.8888888888888888,
              "#fdca26"
             ],
             [
              1,
              "#f0f921"
             ]
            ],
            "type": "histogram2d"
           }
          ],
          "histogram2dcontour": [
           {
            "colorbar": {
             "outlinewidth": 0,
             "ticks": ""
            },
            "colorscale": [
             [
              0,
              "#0d0887"
             ],
             [
              0.1111111111111111,
              "#46039f"
             ],
             [
              0.2222222222222222,
              "#7201a8"
             ],
             [
              0.3333333333333333,
              "#9c179e"
             ],
             [
              0.4444444444444444,
              "#bd3786"
             ],
             [
              0.5555555555555556,
              "#d8576b"
             ],
             [
              0.6666666666666666,
              "#ed7953"
             ],
             [
              0.7777777777777778,
              "#fb9f3a"
             ],
             [
              0.8888888888888888,
              "#fdca26"
             ],
             [
              1,
              "#f0f921"
             ]
            ],
            "type": "histogram2dcontour"
           }
          ],
          "mesh3d": [
           {
            "colorbar": {
             "outlinewidth": 0,
             "ticks": ""
            },
            "type": "mesh3d"
           }
          ],
          "parcoords": [
           {
            "line": {
             "colorbar": {
              "outlinewidth": 0,
              "ticks": ""
             }
            },
            "type": "parcoords"
           }
          ],
          "pie": [
           {
            "automargin": true,
            "type": "pie"
           }
          ],
          "scatter": [
           {
            "marker": {
             "colorbar": {
              "outlinewidth": 0,
              "ticks": ""
             }
            },
            "type": "scatter"
           }
          ],
          "scatter3d": [
           {
            "line": {
             "colorbar": {
              "outlinewidth": 0,
              "ticks": ""
             }
            },
            "marker": {
             "colorbar": {
              "outlinewidth": 0,
              "ticks": ""
             }
            },
            "type": "scatter3d"
           }
          ],
          "scattercarpet": [
           {
            "marker": {
             "colorbar": {
              "outlinewidth": 0,
              "ticks": ""
             }
            },
            "type": "scattercarpet"
           }
          ],
          "scattergeo": [
           {
            "marker": {
             "colorbar": {
              "outlinewidth": 0,
              "ticks": ""
             }
            },
            "type": "scattergeo"
           }
          ],
          "scattergl": [
           {
            "marker": {
             "colorbar": {
              "outlinewidth": 0,
              "ticks": ""
             }
            },
            "type": "scattergl"
           }
          ],
          "scattermapbox": [
           {
            "marker": {
             "colorbar": {
              "outlinewidth": 0,
              "ticks": ""
             }
            },
            "type": "scattermapbox"
           }
          ],
          "scatterpolar": [
           {
            "marker": {
             "colorbar": {
              "outlinewidth": 0,
              "ticks": ""
             }
            },
            "type": "scatterpolar"
           }
          ],
          "scatterpolargl": [
           {
            "marker": {
             "colorbar": {
              "outlinewidth": 0,
              "ticks": ""
             }
            },
            "type": "scatterpolargl"
           }
          ],
          "scatterternary": [
           {
            "marker": {
             "colorbar": {
              "outlinewidth": 0,
              "ticks": ""
             }
            },
            "type": "scatterternary"
           }
          ],
          "surface": [
           {
            "colorbar": {
             "outlinewidth": 0,
             "ticks": ""
            },
            "colorscale": [
             [
              0,
              "#0d0887"
             ],
             [
              0.1111111111111111,
              "#46039f"
             ],
             [
              0.2222222222222222,
              "#7201a8"
             ],
             [
              0.3333333333333333,
              "#9c179e"
             ],
             [
              0.4444444444444444,
              "#bd3786"
             ],
             [
              0.5555555555555556,
              "#d8576b"
             ],
             [
              0.6666666666666666,
              "#ed7953"
             ],
             [
              0.7777777777777778,
              "#fb9f3a"
             ],
             [
              0.8888888888888888,
              "#fdca26"
             ],
             [
              1,
              "#f0f921"
             ]
            ],
            "type": "surface"
           }
          ],
          "table": [
           {
            "cells": {
             "fill": {
              "color": "#EBF0F8"
             },
             "line": {
              "color": "white"
             }
            },
            "header": {
             "fill": {
              "color": "#C8D4E3"
             },
             "line": {
              "color": "white"
             }
            },
            "type": "table"
           }
          ]
         },
         "layout": {
          "annotationdefaults": {
           "arrowcolor": "#2a3f5f",
           "arrowhead": 0,
           "arrowwidth": 1
          },
          "autotypenumbers": "strict",
          "coloraxis": {
           "colorbar": {
            "outlinewidth": 0,
            "ticks": ""
           }
          },
          "colorscale": {
           "diverging": [
            [
             0,
             "#8e0152"
            ],
            [
             0.1,
             "#c51b7d"
            ],
            [
             0.2,
             "#de77ae"
            ],
            [
             0.3,
             "#f1b6da"
            ],
            [
             0.4,
             "#fde0ef"
            ],
            [
             0.5,
             "#f7f7f7"
            ],
            [
             0.6,
             "#e6f5d0"
            ],
            [
             0.7,
             "#b8e186"
            ],
            [
             0.8,
             "#7fbc41"
            ],
            [
             0.9,
             "#4d9221"
            ],
            [
             1,
             "#276419"
            ]
           ],
           "sequential": [
            [
             0,
             "#0d0887"
            ],
            [
             0.1111111111111111,
             "#46039f"
            ],
            [
             0.2222222222222222,
             "#7201a8"
            ],
            [
             0.3333333333333333,
             "#9c179e"
            ],
            [
             0.4444444444444444,
             "#bd3786"
            ],
            [
             0.5555555555555556,
             "#d8576b"
            ],
            [
             0.6666666666666666,
             "#ed7953"
            ],
            [
             0.7777777777777778,
             "#fb9f3a"
            ],
            [
             0.8888888888888888,
             "#fdca26"
            ],
            [
             1,
             "#f0f921"
            ]
           ],
           "sequentialminus": [
            [
             0,
             "#0d0887"
            ],
            [
             0.1111111111111111,
             "#46039f"
            ],
            [
             0.2222222222222222,
             "#7201a8"
            ],
            [
             0.3333333333333333,
             "#9c179e"
            ],
            [
             0.4444444444444444,
             "#bd3786"
            ],
            [
             0.5555555555555556,
             "#d8576b"
            ],
            [
             0.6666666666666666,
             "#ed7953"
            ],
            [
             0.7777777777777778,
             "#fb9f3a"
            ],
            [
             0.8888888888888888,
             "#fdca26"
            ],
            [
             1,
             "#f0f921"
            ]
           ]
          },
          "colorway": [
           "#636efa",
           "#EF553B",
           "#00cc96",
           "#ab63fa",
           "#FFA15A",
           "#19d3f3",
           "#FF6692",
           "#B6E880",
           "#FF97FF",
           "#FECB52"
          ],
          "font": {
           "color": "#2a3f5f"
          },
          "geo": {
           "bgcolor": "white",
           "lakecolor": "white",
           "landcolor": "#E5ECF6",
           "showlakes": true,
           "showland": true,
           "subunitcolor": "white"
          },
          "hoverlabel": {
           "align": "left"
          },
          "hovermode": "closest",
          "mapbox": {
           "style": "light"
          },
          "paper_bgcolor": "white",
          "plot_bgcolor": "#E5ECF6",
          "polar": {
           "angularaxis": {
            "gridcolor": "white",
            "linecolor": "white",
            "ticks": ""
           },
           "bgcolor": "#E5ECF6",
           "radialaxis": {
            "gridcolor": "white",
            "linecolor": "white",
            "ticks": ""
           }
          },
          "scene": {
           "xaxis": {
            "backgroundcolor": "#E5ECF6",
            "gridcolor": "white",
            "gridwidth": 2,
            "linecolor": "white",
            "showbackground": true,
            "ticks": "",
            "zerolinecolor": "white"
           },
           "yaxis": {
            "backgroundcolor": "#E5ECF6",
            "gridcolor": "white",
            "gridwidth": 2,
            "linecolor": "white",
            "showbackground": true,
            "ticks": "",
            "zerolinecolor": "white"
           },
           "zaxis": {
            "backgroundcolor": "#E5ECF6",
            "gridcolor": "white",
            "gridwidth": 2,
            "linecolor": "white",
            "showbackground": true,
            "ticks": "",
            "zerolinecolor": "white"
           }
          },
          "shapedefaults": {
           "line": {
            "color": "#2a3f5f"
           }
          },
          "ternary": {
           "aaxis": {
            "gridcolor": "white",
            "linecolor": "white",
            "ticks": ""
           },
           "baxis": {
            "gridcolor": "white",
            "linecolor": "white",
            "ticks": ""
           },
           "bgcolor": "#E5ECF6",
           "caxis": {
            "gridcolor": "white",
            "linecolor": "white",
            "ticks": ""
           }
          },
          "title": {
           "x": 0.05
          },
          "xaxis": {
           "automargin": true,
           "gridcolor": "white",
           "linecolor": "white",
           "ticks": "",
           "title": {
            "standoff": 15
           },
           "zerolinecolor": "white",
           "zerolinewidth": 2
          },
          "yaxis": {
           "automargin": true,
           "gridcolor": "white",
           "linecolor": "white",
           "ticks": "",
           "title": {
            "standoff": 15
           },
           "zerolinecolor": "white",
           "zerolinewidth": 2
          }
         }
        },
        "width": 1000,
        "xaxis": {
         "anchor": "y",
         "domain": [
          0,
          1
         ],
         "title": {
          "text": "0"
         }
        },
        "yaxis": {
         "anchor": "x",
         "domain": [
          0,
          1
         ],
         "title": {
          "text": "1"
         }
        }
       }
      }
     },
     "metadata": {},
     "output_type": "display_data"
    }
   ],
   "source": [
    "# Take a sample of 100 words from the dataset, and for each word, list top 10 associations; visualise all these in scatterplot. \n",
    "# TSNE was used to reduce the dimensions of the word vectors for plotting. \n",
    "\n",
    "sample_size = 100\n",
    "sample_words = random.sample(urban_words,sample_size)\n",
    "found_words = [i for i in sample_words if i in model.wv.index_to_key]\n",
    "others = []\n",
    "for w in found_words:\n",
    "    sim_words = model.wv.most_similar(w,topn=10)\n",
    "    for sw in sim_words:\n",
    "        others.append(sw[0])\n",
    "all_words = others + found_words\n",
    "sim_words_list = []\n",
    "for w in all_words:\n",
    "    sim_words = model.wv.most_similar(w,topn=10)\n",
    "    sim_words_list.append([i[0] for i in sim_words])\n",
    "arr = model.wv[all_words]\n",
    "\n",
    "tsne = TSNE(2)\n",
    "t_arr = tsne.fit_transform(arr)\n",
    "plot_df = pd.DataFrame(t_arr)\n",
    "plot_df[\"sim_words\"] = sim_words_list\n",
    "plot_df[\"words\"] = all_words\n",
    "fig = px.scatter(plot_df,x=0, y=1,hover_data= [\"words\",\"sim_words\"])\n",
    "fig.update_layout(\n",
    "    autosize=False,\n",
    "    width=1000,\n",
    "    height=1000,\n",
    ")\n",
    "fig.write_html(\"sample_sim.html\")\n",
    "fig.show()\n",
    "\n"
   ]
  },
  {
   "cell_type": "code",
   "execution_count": 31,
   "metadata": {},
   "outputs": [
    {
     "ename": "NameError",
     "evalue": "name 'words' is not defined",
     "output_type": "error",
     "traceback": [
      "\u001b[0;31m---------------------------------------------------------------------------\u001b[0m",
      "\u001b[0;31mNameError\u001b[0m                                 Traceback (most recent call last)",
      "\u001b[0;32m<ipython-input-31-67d361a88428>\u001b[0m in \u001b[0;36m<module>\u001b[0;34m\u001b[0m\n\u001b[1;32m      1\u001b[0m \u001b[0msample_size\u001b[0m \u001b[0;34m=\u001b[0m \u001b[0;36m100\u001b[0m\u001b[0;34m\u001b[0m\u001b[0;34m\u001b[0m\u001b[0m\n\u001b[0;32m----> 2\u001b[0;31m \u001b[0msample_words\u001b[0m \u001b[0;34m=\u001b[0m \u001b[0mrandom\u001b[0m\u001b[0;34m.\u001b[0m\u001b[0msample\u001b[0m\u001b[0;34m(\u001b[0m\u001b[0mwords\u001b[0m\u001b[0;34m,\u001b[0m\u001b[0msample_size\u001b[0m\u001b[0;34m)\u001b[0m\u001b[0;34m\u001b[0m\u001b[0;34m\u001b[0m\u001b[0m\n\u001b[0m\u001b[1;32m      3\u001b[0m \u001b[0mfound_words\u001b[0m \u001b[0;34m=\u001b[0m \u001b[0;34m[\u001b[0m\u001b[0mi\u001b[0m \u001b[0;32mfor\u001b[0m \u001b[0mi\u001b[0m \u001b[0;32min\u001b[0m \u001b[0msample_words\u001b[0m \u001b[0;32mif\u001b[0m \u001b[0mi\u001b[0m \u001b[0;32min\u001b[0m \u001b[0mmodel\u001b[0m\u001b[0;34m.\u001b[0m\u001b[0mwv\u001b[0m\u001b[0;34m.\u001b[0m\u001b[0mindex_to_key\u001b[0m\u001b[0;34m]\u001b[0m\u001b[0;34m\u001b[0m\u001b[0;34m\u001b[0m\u001b[0m\n\u001b[1;32m      4\u001b[0m \u001b[0mothers\u001b[0m \u001b[0;34m=\u001b[0m \u001b[0;34m[\u001b[0m\u001b[0;34m]\u001b[0m\u001b[0;34m\u001b[0m\u001b[0;34m\u001b[0m\u001b[0m\n\u001b[1;32m      5\u001b[0m \u001b[0;32mfor\u001b[0m \u001b[0mw\u001b[0m \u001b[0;32min\u001b[0m \u001b[0mfound_words\u001b[0m\u001b[0;34m:\u001b[0m\u001b[0;34m\u001b[0m\u001b[0;34m\u001b[0m\u001b[0m\n",
      "\u001b[0;31mNameError\u001b[0m: name 'words' is not defined"
     ]
    }
   ],
   "source": [
    "sample_size = 100\n",
    "sample_words = random.sample(words,sample_size)\n",
    "found_words = [i for i in sample_words if i in model.wv.index_to_key]\n",
    "others = []\n",
    "for w in found_words:\n",
    "    sim_words = model.wv.most_similar(w,topn=10)\n",
    "    for sw in sim_words:\n",
    "        others.append(sw[0])\n",
    "all_words = others + found_words\n",
    "sim_words_list = []\n",
    "for w in all_words:\n",
    "    sim_words = model.wv.most_similar(w,topn=10)\n",
    "    sim_words_list.append([i[0] for i in sim_words])\n",
    "arr = model.wv[all_words]\n",
    "\n",
    "tsne = TSNE(2)\n",
    "t_arr = tsne.fit_transform(arr)\n",
    "plot_df = pd.DataFrame(t_arr)\n",
    "plot_df[\"sim_words\"] = sim_words_list\n",
    "plot_df[\"words\"] = all_words\n",
    "fig = px.scatter(plot_df,x=0, y=1,hover_data= [\"words\",\"sim_words\"])\n",
    "fig.update_layout(\n",
    "    autosize=False,\n",
    "    width=1000,\n",
    "    height=1000,\n",
    ")\n",
    "fig.write_html(\"fixed-sim.html\")\n",
    "fig.show()\n",
    "\n"
   ]
  },
  {
   "cell_type": "code",
   "execution_count": null,
   "metadata": {},
   "outputs": [
    {
     "data": {
      "text/plain": [
       "[('introvert', 0.9008392691612244),\n",
       " ('oxymoron', 0.8826045393943787),\n",
       " ('incacole', 0.8730303645133972),\n",
       " ('incel', 0.86729896068573),\n",
       " ('insult,', 0.864527702331543),\n",
       " ('outsider', 0.8616935610771179),\n",
       " ('enigma', 0.8607584834098816),\n",
       " ('STI', 0.8584597110748291),\n",
       " ('elephant.', 0.8579079508781433),\n",
       " ('inveterate', 0.8575772643089294)]"
      ]
     },
     "execution_count": 136,
     "metadata": {},
     "output_type": "execute_result"
    }
   ],
   "source": [
    "model.wv.most_similar('eboy', topn=10)\n"
   ]
  },
  {
   "cell_type": "code",
   "execution_count": null,
   "metadata": {},
   "outputs": [
    {
     "data": {
      "text/plain": [
       "[('babysit', 0.7563366889953613),\n",
       " ('renew', 0.752668559551239),\n",
       " ('attend', 0.7374246716499329),\n",
       " ('convert', 0.7119854092597961),\n",
       " ('restart', 0.7095818519592285),\n",
       " ('permit', 0.7087141275405884),\n",
       " ('ruin', 0.705554187297821),\n",
       " ('arrange', 0.7024335861206055),\n",
       " ('reschedule', 0.6985873579978943),\n",
       " ('repay', 0.6929827928543091)]"
      ]
     },
     "execution_count": 139,
     "metadata": {},
     "output_type": "execute_result"
    }
   ],
   "source": [
    "model.wv.most_similar('cancel', topn=10)"
   ]
  }
 ],
 "metadata": {
  "interpreter": {
   "hash": "ecbeeda41ce7a40e12a8ef3ff385b9569a8f9d2483fc68193abcf92d9807c903"
  },
  "kernelspec": {
   "display_name": "Python 3.8.8 64-bit ('base': conda)",
   "name": "python3"
  },
  "language_info": {
   "codemirror_mode": {
    "name": "ipython",
    "version": 3
   },
   "file_extension": ".py",
   "mimetype": "text/x-python",
   "name": "python",
   "nbconvert_exporter": "python",
   "pygments_lexer": "ipython3",
   "version": "3.8.8"
  },
  "orig_nbformat": 4
 },
 "nbformat": 4,
 "nbformat_minor": 2
}
